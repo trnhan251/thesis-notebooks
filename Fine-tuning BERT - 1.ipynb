{
 "cells": [
  {
   "cell_type": "code",
   "execution_count": 1,
   "id": "8d7d80f7",
   "metadata": {},
   "outputs": [],
   "source": [
    "import os\n",
    "os.environ[\"TF_FORCE_GPU_ALLOW_GROWTH\"]=\"true\"\n",
    "# https://github.com/tensorflow/tensorflow/issues/33721 "
   ]
  },
  {
   "cell_type": "code",
   "execution_count": 2,
   "id": "8c221c95",
   "metadata": {},
   "outputs": [],
   "source": [
    "import numpy as np\n",
    "import pandas as pd\n",
    "import tensorflow as tf\n",
    "import transformers\n",
    "import seaborn as sns\n",
    "import time\n",
    "from csv import QUOTE_NONE\n",
    "from ipywidgets import IntProgress"
   ]
  },
  {
   "cell_type": "code",
   "execution_count": 3,
   "id": "c77f52b0",
   "metadata": {},
   "outputs": [
    {
     "name": "stdout",
     "output_type": "stream",
     "text": [
      "Num GPUs Available:  1\n"
     ]
    }
   ],
   "source": [
    "print(\"Num GPUs Available: \", len(tf.config.list_physical_devices('GPU')))"
   ]
  },
  {
   "cell_type": "code",
   "execution_count": 4,
   "id": "3d9df815",
   "metadata": {},
   "outputs": [],
   "source": [
    "train_df = pd.read_csv('../sts-train.csv', sep='\\t', usecols=[4, 5, 6], header=None, quoting=QUOTE_NONE, names=['score', 'sentence1', 'sentence2'])\n",
    "validation_df = pd.read_csv('../sts-dev.csv', sep='\\t', usecols=[4, 5, 6], header=None, quoting=QUOTE_NONE, names=['score', 'sentence1', 'sentence2'])\n",
    "test_df = pd.read_csv('../sts-test.csv', sep='\\t', usecols=[4, 5, 6], header=None, quoting=QUOTE_NONE, names=['score', 'sentence1', 'sentence2'])"
   ]
  },
  {
   "cell_type": "code",
   "execution_count": 5,
   "id": "1e341134",
   "metadata": {},
   "outputs": [
    {
     "data": {
      "text/html": [
       "<div>\n",
       "<style scoped>\n",
       "    .dataframe tbody tr th:only-of-type {\n",
       "        vertical-align: middle;\n",
       "    }\n",
       "\n",
       "    .dataframe tbody tr th {\n",
       "        vertical-align: top;\n",
       "    }\n",
       "\n",
       "    .dataframe thead th {\n",
       "        text-align: right;\n",
       "    }\n",
       "</style>\n",
       "<table border=\"1\" class=\"dataframe\">\n",
       "  <thead>\n",
       "    <tr style=\"text-align: right;\">\n",
       "      <th></th>\n",
       "      <th>score</th>\n",
       "      <th>sentence1</th>\n",
       "      <th>sentence2</th>\n",
       "    </tr>\n",
       "  </thead>\n",
       "  <tbody>\n",
       "    <tr>\n",
       "      <th>0</th>\n",
       "      <td>5.00</td>\n",
       "      <td>A plane is taking off.</td>\n",
       "      <td>An air plane is taking off.</td>\n",
       "    </tr>\n",
       "    <tr>\n",
       "      <th>1</th>\n",
       "      <td>3.80</td>\n",
       "      <td>A man is playing a large flute.</td>\n",
       "      <td>A man is playing a flute.</td>\n",
       "    </tr>\n",
       "    <tr>\n",
       "      <th>2</th>\n",
       "      <td>3.80</td>\n",
       "      <td>A man is spreading shreded cheese on a pizza.</td>\n",
       "      <td>A man is spreading shredded cheese on an uncoo...</td>\n",
       "    </tr>\n",
       "    <tr>\n",
       "      <th>3</th>\n",
       "      <td>2.60</td>\n",
       "      <td>Three men are playing chess.</td>\n",
       "      <td>Two men are playing chess.</td>\n",
       "    </tr>\n",
       "    <tr>\n",
       "      <th>4</th>\n",
       "      <td>4.25</td>\n",
       "      <td>A man is playing the cello.</td>\n",
       "      <td>A man seated is playing the cello.</td>\n",
       "    </tr>\n",
       "  </tbody>\n",
       "</table>\n",
       "</div>"
      ],
      "text/plain": [
       "   score                                      sentence1  \\\n",
       "0   5.00                         A plane is taking off.   \n",
       "1   3.80                A man is playing a large flute.   \n",
       "2   3.80  A man is spreading shreded cheese on a pizza.   \n",
       "3   2.60                   Three men are playing chess.   \n",
       "4   4.25                    A man is playing the cello.   \n",
       "\n",
       "                                           sentence2  \n",
       "0                        An air plane is taking off.  \n",
       "1                          A man is playing a flute.  \n",
       "2  A man is spreading shredded cheese on an uncoo...  \n",
       "3                         Two men are playing chess.  \n",
       "4                 A man seated is playing the cello.  "
      ]
     },
     "execution_count": 5,
     "metadata": {},
     "output_type": "execute_result"
    }
   ],
   "source": [
    "train_df.head()"
   ]
  },
  {
   "cell_type": "code",
   "execution_count": 6,
   "id": "bba59c8e",
   "metadata": {},
   "outputs": [],
   "source": [
    "train_df = train_df.dropna()\n",
    "validation_df = validation_df.dropna()\n",
    "test_df = test_df.dropna()"
   ]
  },
  {
   "cell_type": "code",
   "execution_count": 7,
   "id": "d14a52da",
   "metadata": {},
   "outputs": [
    {
     "data": {
      "text/plain": [
       "score        5749\n",
       "sentence1    5749\n",
       "sentence2    5749\n",
       "dtype: int64"
      ]
     },
     "execution_count": 7,
     "metadata": {},
     "output_type": "execute_result"
    }
   ],
   "source": [
    "train_df.count()"
   ]
  },
  {
   "cell_type": "code",
   "execution_count": 8,
   "id": "8669bfd7",
   "metadata": {},
   "outputs": [
    {
     "data": {
      "text/plain": [
       "score        1500\n",
       "sentence1    1500\n",
       "sentence2    1500\n",
       "dtype: int64"
      ]
     },
     "execution_count": 8,
     "metadata": {},
     "output_type": "execute_result"
    }
   ],
   "source": [
    "validation_df.count()"
   ]
  },
  {
   "cell_type": "code",
   "execution_count": 9,
   "id": "ca3e0ecb",
   "metadata": {},
   "outputs": [
    {
     "data": {
      "text/plain": [
       "score        1379\n",
       "sentence1    1379\n",
       "sentence2    1379\n",
       "dtype: int64"
      ]
     },
     "execution_count": 9,
     "metadata": {},
     "output_type": "execute_result"
    }
   ],
   "source": [
    "test_df.count()"
   ]
  },
  {
   "cell_type": "markdown",
   "id": "7c5ee9f0",
   "metadata": {},
   "source": [
    "# Data Generator"
   ]
  },
  {
   "cell_type": "code",
   "execution_count": 10,
   "id": "3f5d04ba",
   "metadata": {},
   "outputs": [],
   "source": [
    "max_length = 128  # Maximum length of input sentence to the model.\n",
    "batch_size = 32\n",
    "epochs = 25"
   ]
  },
  {
   "cell_type": "code",
   "execution_count": 11,
   "id": "f6dc68d0",
   "metadata": {},
   "outputs": [],
   "source": [
    "class BertSemanticDataGenerator(tf.keras.utils.Sequence):\n",
    "    def __init__(\n",
    "        self,\n",
    "        sentence_pairs,\n",
    "        scores,\n",
    "        batch_size=batch_size,\n",
    "        shuffle=True,\n",
    "        include_targets=True,\n",
    "    ):\n",
    "        self.sentence_pairs = sentence_pairs\n",
    "        self.scores = scores\n",
    "        self.shuffle = shuffle\n",
    "        self.batch_size = batch_size\n",
    "        self.include_targets = include_targets\n",
    "        # Load our BERT Tokenizer to encode the text.\n",
    "        # We will use base-base-uncased pretrained model.\n",
    "        self.tokenizer = transformers.BertTokenizer.from_pretrained(\n",
    "            \"bert-base-uncased\", do_lower_case=True\n",
    "        )\n",
    "        self.indexes = np.arange(len(self.sentence_pairs))\n",
    "        self.on_epoch_end()\n",
    "\n",
    "    def __len__(self):\n",
    "        # Denotes the number of batches per epoch.\n",
    "        return len(self.sentence_pairs) // self.batch_size\n",
    "\n",
    "    def __getitem__(self, idx):\n",
    "        # Retrieves the batch of index.\n",
    "        indexes = self.indexes[idx * self.batch_size : (idx + 1) * self.batch_size]\n",
    "        sentence_pairs = self.sentence_pairs[indexes]\n",
    "\n",
    "        # With BERT tokenizer's batch_encode_plus batch of both the sentences are\n",
    "        # encoded together and separated by [SEP] token.\n",
    "        encoded = self.tokenizer.batch_encode_plus(\n",
    "            sentence_pairs.tolist(),\n",
    "            add_special_tokens=True,\n",
    "            max_length=max_length,\n",
    "            return_attention_mask=True,\n",
    "            return_token_type_ids=True,\n",
    "            pad_to_max_length=True,\n",
    "            truncation=True,\n",
    "            return_tensors=\"tf\",\n",
    "        )\n",
    "\n",
    "        # Convert batch of encoded features to numpy array.\n",
    "        input_ids = np.array(encoded[\"input_ids\"], dtype=\"int32\")\n",
    "        attention_masks = np.array(encoded[\"attention_mask\"], dtype=\"int32\")\n",
    "        token_type_ids = np.array(encoded[\"token_type_ids\"], dtype=\"int32\")\n",
    "\n",
    "        # Set to true if data generator is used for training/validation.\n",
    "        if self.include_targets:\n",
    "            scores = np.array(self.scores[indexes], dtype=\"int32\")\n",
    "            return [input_ids, attention_masks, token_type_ids], scores\n",
    "        else:\n",
    "            return [input_ids, attention_masks, token_type_ids]\n",
    "\n",
    "    def on_epoch_end(self):\n",
    "        # Shuffle indexes after each epoch if shuffle is set to True.\n",
    "        if self.shuffle:\n",
    "            np.random.RandomState(42).shuffle(self.indexes)"
   ]
  },
  {
   "cell_type": "markdown",
   "id": "22acc70f",
   "metadata": {},
   "source": [
    "# Setup Model Architecture"
   ]
  },
  {
   "cell_type": "code",
   "execution_count": 12,
   "id": "59260d08",
   "metadata": {},
   "outputs": [
    {
     "name": "stdout",
     "output_type": "stream",
     "text": [
      "INFO:tensorflow:Using MirroredStrategy with devices ('/job:localhost/replica:0/task:0/device:GPU:0',)\n"
     ]
    },
    {
     "name": "stderr",
     "output_type": "stream",
     "text": [
      "Some layers from the model checkpoint at bert-base-uncased were not used when initializing TFBertModel: ['nsp___cls', 'mlm___cls']\n",
      "- This IS expected if you are initializing TFBertModel from the checkpoint of a model trained on another task or with another architecture (e.g. initializing a BertForSequenceClassification model from a BertForPreTraining model).\n",
      "- This IS NOT expected if you are initializing TFBertModel from the checkpoint of a model that you expect to be exactly identical (initializing a BertForSequenceClassification model from a BertForSequenceClassification model).\n",
      "All the layers of TFBertModel were initialized from the model checkpoint at bert-base-uncased.\n",
      "If your task is similar to the task the model of the checkpoint was trained on, you can already use TFBertModel for predictions without further training.\n"
     ]
    },
    {
     "name": "stdout",
     "output_type": "stream",
     "text": [
      "WARNING:tensorflow:The parameters `output_attentions`, `output_hidden_states` and `use_cache` cannot be updated when calling a model.They have to be set to True/False in the config object (i.e.: `config=XConfig.from_pretrained('name', output_attentions=True)`).\n",
      "WARNING:tensorflow:AutoGraph could not transform <bound method Socket.send of <zmq.sugar.socket.Socket object at 0x7f362c048b20>> and will run it as-is.\n",
      "Please report this to the TensorFlow team. When filing the bug, set the verbosity to 10 (on Linux, `export AUTOGRAPH_VERBOSITY=10`) and attach the full output.\n",
      "Cause: module, class, method, function, traceback, frame, or code object was expected, got cython_function_or_method\n",
      "To silence this warning, decorate the function with @tf.autograph.experimental.do_not_convert\n",
      "WARNING: AutoGraph could not transform <bound method Socket.send of <zmq.sugar.socket.Socket object at 0x7f362c048b20>> and will run it as-is.\n",
      "Please report this to the TensorFlow team. When filing the bug, set the verbosity to 10 (on Linux, `export AUTOGRAPH_VERBOSITY=10`) and attach the full output.\n",
      "Cause: module, class, method, function, traceback, frame, or code object was expected, got cython_function_or_method\n",
      "To silence this warning, decorate the function with @tf.autograph.experimental.do_not_convert\n",
      "WARNING:tensorflow:The parameter `return_dict` cannot be set in graph mode and will always be set to `True`.\n",
      "INFO:tensorflow:Reduce to /job:localhost/replica:0/task:0/device:CPU:0 then broadcast to ('/job:localhost/replica:0/task:0/device:CPU:0',).\n",
      "INFO:tensorflow:Reduce to /job:localhost/replica:0/task:0/device:CPU:0 then broadcast to ('/job:localhost/replica:0/task:0/device:CPU:0',).\n",
      "INFO:tensorflow:Reduce to /job:localhost/replica:0/task:0/device:CPU:0 then broadcast to ('/job:localhost/replica:0/task:0/device:CPU:0',).\n",
      "INFO:tensorflow:Reduce to /job:localhost/replica:0/task:0/device:CPU:0 then broadcast to ('/job:localhost/replica:0/task:0/device:CPU:0',).\n",
      "INFO:tensorflow:Reduce to /job:localhost/replica:0/task:0/device:CPU:0 then broadcast to ('/job:localhost/replica:0/task:0/device:CPU:0',).\n",
      "INFO:tensorflow:Reduce to /job:localhost/replica:0/task:0/device:CPU:0 then broadcast to ('/job:localhost/replica:0/task:0/device:CPU:0',).\n",
      "INFO:tensorflow:Reduce to /job:localhost/replica:0/task:0/device:CPU:0 then broadcast to ('/job:localhost/replica:0/task:0/device:CPU:0',).\n",
      "INFO:tensorflow:Reduce to /job:localhost/replica:0/task:0/device:CPU:0 then broadcast to ('/job:localhost/replica:0/task:0/device:CPU:0',).\n",
      "Strategy: <tensorflow.python.distribute.mirrored_strategy.MirroredStrategy object at 0x7f3512e32490>\n",
      "Model: \"model\"\n",
      "__________________________________________________________________________________________________\n",
      "Layer (type)                    Output Shape         Param #     Connected to                     \n",
      "==================================================================================================\n",
      "input_ids (InputLayer)          [(None, 128)]        0                                            \n",
      "__________________________________________________________________________________________________\n",
      "attention_masks (InputLayer)    [(None, 128)]        0                                            \n",
      "__________________________________________________________________________________________________\n",
      "token_type_ids (InputLayer)     [(None, 128)]        0                                            \n",
      "__________________________________________________________________________________________________\n",
      "tf_bert_model (TFBertModel)     TFBaseModelOutputWit 109482240   input_ids[0][0]                  \n",
      "                                                                 attention_masks[0][0]            \n",
      "                                                                 token_type_ids[0][0]             \n",
      "__________________________________________________________________________________________________\n",
      "global_average_pooling1d (Globa (None, 768)          0           tf_bert_model[0][0]              \n",
      "__________________________________________________________________________________________________\n",
      "dense (Dense)                   (None, 32)           24608       global_average_pooling1d[0][0]   \n",
      "__________________________________________________________________________________________________\n",
      "dropout_37 (Dropout)            (None, 32)           0           dense[0][0]                      \n",
      "__________________________________________________________________________________________________\n",
      "dense_1 (Dense)                 (None, 1)            33          dropout_37[0][0]                 \n",
      "==================================================================================================\n",
      "Total params: 109,506,881\n",
      "Trainable params: 24,641\n",
      "Non-trainable params: 109,482,240\n",
      "__________________________________________________________________________________________________\n"
     ]
    }
   ],
   "source": [
    "# Create the model under a distribution strategy scope.\n",
    "strategy = tf.distribute.MirroredStrategy()\n",
    "\n",
    "with strategy.scope():\n",
    "    # Encoded token ids from BERT tokenizer.\n",
    "    input_ids = tf.keras.layers.Input(\n",
    "        shape=(max_length,), dtype=tf.int32, name=\"input_ids\"\n",
    "    )\n",
    "    # Attention masks indicates to the model which tokens should be attended to.\n",
    "    attention_masks = tf.keras.layers.Input(\n",
    "        shape=(max_length,), dtype=tf.int32, name=\"attention_masks\"\n",
    "    )\n",
    "    # Token type ids are binary masks identifying different sequences in the model.\n",
    "    token_type_ids = tf.keras.layers.Input(\n",
    "        shape=(max_length,), dtype=tf.int32, name=\"token_type_ids\"\n",
    "    )\n",
    "    # Loading pretrained BERT model.\n",
    "    bert_model = transformers.TFBertModel.from_pretrained(\"bert-base-uncased\")\n",
    "    # Freeze the BERT model to reuse the pretrained features without modifying them.\n",
    "    bert_model.trainable = False\n",
    "\n",
    "    bert_outputs = bert_model(\n",
    "        input_ids, attention_mask=attention_masks, token_type_ids=token_type_ids\n",
    "    )\n",
    "    last_hidden_state = bert_outputs[0]\n",
    "    \n",
    "    # Applying hybrid pooling approach to bi_lstm sequence output.\n",
    "    avg_pool = tf.keras.layers.GlobalAveragePooling1D()(last_hidden_state)\n",
    "    dense_layer = tf.keras.layers.Dense(32, activation=\"relu\")(avg_pool)\n",
    "    dropout = tf.keras.layers.Dropout(0.5)(dense_layer)\n",
    "    output_layer = tf.keras.layers.Dense(1)(dropout)\n",
    "    model = tf.keras.models.Model(\n",
    "        inputs=[input_ids, attention_masks, token_type_ids], outputs=output_layer\n",
    "    )\n",
    "\n",
    "    model.compile(\n",
    "        optimizer=tf.keras.optimizers.Adam(),\n",
    "        loss=\"mse\",\n",
    "        metrics=[\n",
    "            tf.keras.metrics.RootMeanSquaredError()\n",
    "        ],\n",
    "    )\n",
    "\n",
    "\n",
    "print(f\"Strategy: {strategy}\")\n",
    "model.summary()"
   ]
  },
  {
   "cell_type": "markdown",
   "id": "000d02f2",
   "metadata": {},
   "source": [
    "# Convert Data"
   ]
  },
  {
   "cell_type": "code",
   "execution_count": 13,
   "id": "fbb16021",
   "metadata": {},
   "outputs": [],
   "source": [
    "train_data = BertSemanticDataGenerator(\n",
    "    train_df[[\"sentence1\", \"sentence2\"]].values.astype(\"str\"),\n",
    "    train_df['score'].values,\n",
    "    batch_size=batch_size,\n",
    "    shuffle=True,\n",
    ")\n",
    "\n",
    "valid_data = BertSemanticDataGenerator(\n",
    "    validation_df[[\"sentence1\", \"sentence2\"]].values.astype(\"str\"),\n",
    "    validation_df['score'].values,\n",
    "    batch_size=batch_size,\n",
    "    shuffle=False,\n",
    ")\n",
    "\n",
    "test_data = BertSemanticDataGenerator(\n",
    "    test_df[[\"sentence1\", \"sentence2\"]].values.astype(\"str\"),\n",
    "    test_df['score'].values,\n",
    "    batch_size=batch_size,\n",
    "    shuffle=False,\n",
    ")"
   ]
  },
  {
   "cell_type": "markdown",
   "id": "576a641a",
   "metadata": {},
   "source": [
    "# Train Model without Fine-tuning"
   ]
  },
  {
   "cell_type": "code",
   "execution_count": 14,
   "id": "894c607a",
   "metadata": {},
   "outputs": [],
   "source": [
    "class TimeHistory(tf.keras.callbacks.Callback):\n",
    "    def on_train_begin(self, logs={}):\n",
    "        self.times = []\n",
    "\n",
    "    def on_epoch_begin(self, batch, logs={}):\n",
    "        self.epoch_time_start = time.time()\n",
    "\n",
    "    def on_epoch_end(self, batch, logs={}):\n",
    "        self.times.append(time.time() - self.epoch_time_start)"
   ]
  },
  {
   "cell_type": "code",
   "execution_count": 15,
   "id": "e3fb206d",
   "metadata": {},
   "outputs": [],
   "source": [
    "time_callback = TimeHistory()"
   ]
  },
  {
   "cell_type": "code",
   "execution_count": 16,
   "id": "bb1da12a",
   "metadata": {
    "scrolled": true
   },
   "outputs": [
    {
     "name": "stdout",
     "output_type": "stream",
     "text": [
      "Epoch 1/25\n",
      "WARNING:tensorflow:The parameters `output_attentions`, `output_hidden_states` and `use_cache` cannot be updated when calling a model.They have to be set to True/False in the config object (i.e.: `config=XConfig.from_pretrained('name', output_attentions=True)`).\n",
      "WARNING:tensorflow:The parameter `return_dict` cannot be set in graph mode and will always be set to `True`.\n"
     ]
    },
    {
     "name": "stderr",
     "output_type": "stream",
     "text": [
      "/home/tr92346-local/.local/lib/python3.8/site-packages/transformers/tokenization_utils_base.py:2073: FutureWarning: The `pad_to_max_length` argument is deprecated and will be removed in a future version, use `padding=True` or `padding='longest'` to pad to the longest sequence in the batch, or use `padding='max_length'` to pad to a max length. In this case, you can give a specific length with `max_length` (e.g. `max_length=45`) or leave max_length to None to pad to the maximal input size of the model (e.g. 512 for Bert).\n",
      "  warnings.warn(\n"
     ]
    },
    {
     "name": "stdout",
     "output_type": "stream",
     "text": [
      "INFO:tensorflow:Reduce to /job:localhost/replica:0/task:0/device:CPU:0 then broadcast to ('/job:localhost/replica:0/task:0/device:CPU:0',).\n",
      "INFO:tensorflow:Reduce to /job:localhost/replica:0/task:0/device:CPU:0 then broadcast to ('/job:localhost/replica:0/task:0/device:CPU:0',).\n",
      "WARNING:tensorflow:The parameters `output_attentions`, `output_hidden_states` and `use_cache` cannot be updated when calling a model.They have to be set to True/False in the config object (i.e.: `config=XConfig.from_pretrained('name', output_attentions=True)`).\n",
      "WARNING:tensorflow:The parameter `return_dict` cannot be set in graph mode and will always be set to `True`.\n",
      "179/179 [==============================] - ETA: 0s - loss: 2.6809 - root_mean_squared_error: 1.6284WARNING:tensorflow:The parameters `output_attentions`, `output_hidden_states` and `use_cache` cannot be updated when calling a model.They have to be set to True/False in the config object (i.e.: `config=XConfig.from_pretrained('name', output_attentions=True)`).\n",
      "WARNING:tensorflow:The parameter `return_dict` cannot be set in graph mode and will always be set to `True`.\n",
      "179/179 [==============================] - 47s 215ms/step - loss: 2.6779 - root_mean_squared_error: 1.6275 - val_loss: 1.4906 - val_root_mean_squared_error: 1.2209\n",
      "Epoch 2/25\n",
      "179/179 [==============================] - 36s 204ms/step - loss: 1.5606 - root_mean_squared_error: 1.2491 - val_loss: 1.2660 - val_root_mean_squared_error: 1.1251\n",
      "Epoch 3/25\n",
      "179/179 [==============================] - 37s 207ms/step - loss: 1.5015 - root_mean_squared_error: 1.2250 - val_loss: 1.1562 - val_root_mean_squared_error: 1.0753\n",
      "Epoch 4/25\n",
      "179/179 [==============================] - 37s 207ms/step - loss: 1.3416 - root_mean_squared_error: 1.1581 - val_loss: 1.1870 - val_root_mean_squared_error: 1.0895\n",
      "Epoch 5/25\n",
      "179/179 [==============================] - 37s 207ms/step - loss: 1.3792 - root_mean_squared_error: 1.1744 - val_loss: 1.0689 - val_root_mean_squared_error: 1.0339\n",
      "Epoch 6/25\n",
      "179/179 [==============================] - 37s 207ms/step - loss: 1.3309 - root_mean_squared_error: 1.1535 - val_loss: 1.0245 - val_root_mean_squared_error: 1.0122\n",
      "Epoch 7/25\n",
      "179/179 [==============================] - 37s 207ms/step - loss: 1.2541 - root_mean_squared_error: 1.1197 - val_loss: 1.0916 - val_root_mean_squared_error: 1.0448\n",
      "Epoch 8/25\n",
      "179/179 [==============================] - 37s 206ms/step - loss: 1.2660 - root_mean_squared_error: 1.1248 - val_loss: 1.0467 - val_root_mean_squared_error: 1.0231\n",
      "Epoch 9/25\n",
      "179/179 [==============================] - 37s 206ms/step - loss: 1.2339 - root_mean_squared_error: 1.1105 - val_loss: 1.0049 - val_root_mean_squared_error: 1.0024\n",
      "Epoch 10/25\n",
      "179/179 [==============================] - 37s 207ms/step - loss: 1.2533 - root_mean_squared_error: 1.1193 - val_loss: 1.0077 - val_root_mean_squared_error: 1.0039\n",
      "Epoch 11/25\n",
      "179/179 [==============================] - 37s 207ms/step - loss: 1.1986 - root_mean_squared_error: 1.0947 - val_loss: 1.0134 - val_root_mean_squared_error: 1.0067\n",
      "Epoch 12/25\n",
      "179/179 [==============================] - 37s 206ms/step - loss: 1.1651 - root_mean_squared_error: 1.0790 - val_loss: 1.1239 - val_root_mean_squared_error: 1.0601\n",
      "Epoch 13/25\n",
      "179/179 [==============================] - 37s 207ms/step - loss: 1.1824 - root_mean_squared_error: 1.0873 - val_loss: 1.0159 - val_root_mean_squared_error: 1.0079\n",
      "Epoch 14/25\n",
      "179/179 [==============================] - 37s 206ms/step - loss: 1.1442 - root_mean_squared_error: 1.0696 - val_loss: 1.0726 - val_root_mean_squared_error: 1.0356\n",
      "Epoch 15/25\n",
      "179/179 [==============================] - 37s 206ms/step - loss: 1.1772 - root_mean_squared_error: 1.0849 - val_loss: 1.0881 - val_root_mean_squared_error: 1.0431\n",
      "Epoch 16/25\n",
      "179/179 [==============================] - 37s 206ms/step - loss: 1.1406 - root_mean_squared_error: 1.0678 - val_loss: 1.0091 - val_root_mean_squared_error: 1.0045\n",
      "Epoch 17/25\n",
      "179/179 [==============================] - 37s 207ms/step - loss: 1.1478 - root_mean_squared_error: 1.0709 - val_loss: 1.0193 - val_root_mean_squared_error: 1.0096\n",
      "Epoch 18/25\n",
      "179/179 [==============================] - 37s 206ms/step - loss: 1.1400 - root_mean_squared_error: 1.0676 - val_loss: 0.9801 - val_root_mean_squared_error: 0.9900\n",
      "Epoch 19/25\n",
      "179/179 [==============================] - 37s 207ms/step - loss: 1.1020 - root_mean_squared_error: 1.0497 - val_loss: 0.9904 - val_root_mean_squared_error: 0.9952\n",
      "Epoch 20/25\n",
      "179/179 [==============================] - 37s 206ms/step - loss: 1.0536 - root_mean_squared_error: 1.0263 - val_loss: 0.9786 - val_root_mean_squared_error: 0.9892\n",
      "Epoch 21/25\n",
      "179/179 [==============================] - 37s 206ms/step - loss: 1.0866 - root_mean_squared_error: 1.0423 - val_loss: 1.0100 - val_root_mean_squared_error: 1.0050\n",
      "Epoch 22/25\n",
      "179/179 [==============================] - 37s 206ms/step - loss: 1.1002 - root_mean_squared_error: 1.0485 - val_loss: 0.9880 - val_root_mean_squared_error: 0.9940\n",
      "Epoch 23/25\n",
      "179/179 [==============================] - 37s 207ms/step - loss: 1.0674 - root_mean_squared_error: 1.0331 - val_loss: 0.9827 - val_root_mean_squared_error: 0.9913\n",
      "Epoch 24/25\n",
      "179/179 [==============================] - 37s 206ms/step - loss: 1.0569 - root_mean_squared_error: 1.0279 - val_loss: 0.9903 - val_root_mean_squared_error: 0.9952\n",
      "Epoch 25/25\n",
      "179/179 [==============================] - 37s 206ms/step - loss: 1.0799 - root_mean_squared_error: 1.0390 - val_loss: 0.9698 - val_root_mean_squared_error: 0.9848\n"
     ]
    }
   ],
   "source": [
    "history = model.fit(\n",
    "    train_data,\n",
    "    validation_data=valid_data,\n",
    "    epochs=epochs,\n",
    "    use_multiprocessing=True,\n",
    "    workers=-1,\n",
    "    callbacks = [time_callback]\n",
    ")"
   ]
  },
  {
   "cell_type": "code",
   "execution_count": 17,
   "id": "33d15ded",
   "metadata": {},
   "outputs": [],
   "source": [
    "hist_df = pd.DataFrame(history.history) \n",
    "hist_csv_file = 'fine-tuning-bert-history-01.csv'\n",
    "with open(hist_csv_file, mode='w') as f:\n",
    "    hist_df.to_csv(f)"
   ]
  },
  {
   "cell_type": "code",
   "execution_count": 18,
   "id": "971f5a22",
   "metadata": {},
   "outputs": [
    {
     "name": "stdout",
     "output_type": "stream",
     "text": [
      "[47.49032378196716, 36.466702461242676, 36.95522451400757, 37.00839424133301, 37.008485555648804, 36.95213198661804, 36.99372172355652, 36.92009353637695, 36.881457567214966, 36.97953009605408, 36.96277189254761, 36.93461728096008, 36.95223379135132, 36.886672258377075, 36.845181941986084, 36.8864529132843, 36.95483207702637, 36.93006205558777, 36.9425995349884, 36.91029644012451, 36.836252212524414, 36.90636324882507, 36.950825214385986, 36.88472366333008, 36.84848117828369]\n"
     ]
    }
   ],
   "source": [
    "print(time_callback.times)"
   ]
  },
  {
   "cell_type": "code",
   "execution_count": 19,
   "id": "822a3278",
   "metadata": {},
   "outputs": [],
   "source": [
    "hist_time_df = pd.DataFrame(time_callback.times) \n",
    "hist_csv_file = 'fine-tuning-bert-time-01.csv'\n",
    "with open(hist_csv_file, mode='w') as f:\n",
    "    hist_time_df.to_csv(f)"
   ]
  },
  {
   "cell_type": "code",
   "execution_count": 20,
   "id": "efcff7ea",
   "metadata": {},
   "outputs": [],
   "source": [
    "model.save_weights('./fine-tuning-bert-model-01.h5')"
   ]
  },
  {
   "cell_type": "markdown",
   "id": "55515ce0",
   "metadata": {},
   "source": [
    "# Fine-tuning"
   ]
  },
  {
   "cell_type": "code",
   "execution_count": 21,
   "id": "6a1942e7",
   "metadata": {},
   "outputs": [
    {
     "name": "stdout",
     "output_type": "stream",
     "text": [
      "Model: \"model\"\n",
      "__________________________________________________________________________________________________\n",
      "Layer (type)                    Output Shape         Param #     Connected to                     \n",
      "==================================================================================================\n",
      "input_ids (InputLayer)          [(None, 128)]        0                                            \n",
      "__________________________________________________________________________________________________\n",
      "attention_masks (InputLayer)    [(None, 128)]        0                                            \n",
      "__________________________________________________________________________________________________\n",
      "token_type_ids (InputLayer)     [(None, 128)]        0                                            \n",
      "__________________________________________________________________________________________________\n",
      "tf_bert_model (TFBertModel)     TFBaseModelOutputWit 109482240   input_ids[0][0]                  \n",
      "                                                                 attention_masks[0][0]            \n",
      "                                                                 token_type_ids[0][0]             \n",
      "__________________________________________________________________________________________________\n",
      "global_average_pooling1d (Globa (None, 768)          0           tf_bert_model[0][0]              \n",
      "__________________________________________________________________________________________________\n",
      "dense (Dense)                   (None, 32)           24608       global_average_pooling1d[0][0]   \n",
      "__________________________________________________________________________________________________\n",
      "dropout_37 (Dropout)            (None, 32)           0           dense[0][0]                      \n",
      "__________________________________________________________________________________________________\n",
      "dense_1 (Dense)                 (None, 1)            33          dropout_37[0][0]                 \n",
      "==================================================================================================\n",
      "Total params: 109,506,881\n",
      "Trainable params: 109,506,881\n",
      "Non-trainable params: 0\n",
      "__________________________________________________________________________________________________\n"
     ]
    }
   ],
   "source": [
    "with strategy.scope():\n",
    "    # Unfreeze the bert_model.\n",
    "    bert_model.trainable = True\n",
    "    # Recompile the model to make the change effective.\n",
    "    model.compile(\n",
    "        optimizer=tf.keras.optimizers.Adam(1e-5),\n",
    "        loss=\"mse\",\n",
    "        metrics=[\n",
    "            tf.keras.metrics.RootMeanSquaredError()\n",
    "        ],\n",
    "    )\n",
    "\n",
    "model.summary()"
   ]
  },
  {
   "cell_type": "code",
   "execution_count": 22,
   "id": "a92bb694",
   "metadata": {},
   "outputs": [],
   "source": [
    "time_callback = TimeHistory()"
   ]
  },
  {
   "cell_type": "code",
   "execution_count": 23,
   "id": "ef03716a",
   "metadata": {},
   "outputs": [
    {
     "name": "stdout",
     "output_type": "stream",
     "text": [
      "Epoch 1/25\n",
      "WARNING:tensorflow:The parameters `output_attentions`, `output_hidden_states` and `use_cache` cannot be updated when calling a model.They have to be set to True/False in the config object (i.e.: `config=XConfig.from_pretrained('name', output_attentions=True)`).\n",
      "WARNING:tensorflow:The parameter `return_dict` cannot be set in graph mode and will always be set to `True`.\n",
      "WARNING:tensorflow:Gradients do not exist for variables ['tf_bert_model/bert/pooler/dense/kernel:0', 'tf_bert_model/bert/pooler/dense/bias:0'] when minimizing the loss.\n",
      "WARNING:tensorflow:The parameters `output_attentions`, `output_hidden_states` and `use_cache` cannot be updated when calling a model.They have to be set to True/False in the config object (i.e.: `config=XConfig.from_pretrained('name', output_attentions=True)`).\n",
      "WARNING:tensorflow:The parameter `return_dict` cannot be set in graph mode and will always be set to `True`.\n",
      "WARNING:tensorflow:Gradients do not exist for variables ['tf_bert_model/bert/pooler/dense/kernel:0', 'tf_bert_model/bert/pooler/dense/bias:0'] when minimizing the loss.\n",
      "179/179 [==============================] - ETA: 0s - loss: 1.0442 - root_mean_squared_error: 1.0215WARNING:tensorflow:The parameters `output_attentions`, `output_hidden_states` and `use_cache` cannot be updated when calling a model.They have to be set to True/False in the config object (i.e.: `config=XConfig.from_pretrained('name', output_attentions=True)`).\n",
      "WARNING:tensorflow:The parameter `return_dict` cannot be set in graph mode and will always be set to `True`.\n",
      "179/179 [==============================] - 99s 490ms/step - loss: 1.0439 - root_mean_squared_error: 1.0214 - val_loss: 0.7779 - val_root_mean_squared_error: 0.8820\n",
      "Epoch 2/25\n",
      "179/179 [==============================] - 86s 479ms/step - loss: 0.7932 - root_mean_squared_error: 0.8906 - val_loss: 0.7186 - val_root_mean_squared_error: 0.8477\n",
      "Epoch 3/25\n",
      "179/179 [==============================] - 86s 479ms/step - loss: 0.6849 - root_mean_squared_error: 0.8272 - val_loss: 0.6625 - val_root_mean_squared_error: 0.8139\n",
      "Epoch 4/25\n",
      "179/179 [==============================] - 86s 479ms/step - loss: 0.5820 - root_mean_squared_error: 0.7628 - val_loss: 0.6554 - val_root_mean_squared_error: 0.8095\n",
      "Epoch 5/25\n",
      "179/179 [==============================] - 86s 478ms/step - loss: 0.5786 - root_mean_squared_error: 0.7604 - val_loss: 0.6605 - val_root_mean_squared_error: 0.8127\n",
      "Epoch 6/25\n",
      "179/179 [==============================] - 86s 478ms/step - loss: 0.5034 - root_mean_squared_error: 0.7095 - val_loss: 0.6377 - val_root_mean_squared_error: 0.7986\n",
      "Epoch 7/25\n",
      "179/179 [==============================] - 86s 478ms/step - loss: 0.4576 - root_mean_squared_error: 0.6763 - val_loss: 0.7525 - val_root_mean_squared_error: 0.8675\n",
      "Epoch 8/25\n",
      "179/179 [==============================] - 86s 478ms/step - loss: 0.4557 - root_mean_squared_error: 0.6748 - val_loss: 0.6426 - val_root_mean_squared_error: 0.8016\n",
      "Epoch 9/25\n",
      "179/179 [==============================] - 86s 478ms/step - loss: 0.3906 - root_mean_squared_error: 0.6247 - val_loss: 0.6132 - val_root_mean_squared_error: 0.7831\n",
      "Epoch 10/25\n",
      "179/179 [==============================] - 86s 478ms/step - loss: 0.4064 - root_mean_squared_error: 0.6374 - val_loss: 0.6290 - val_root_mean_squared_error: 0.7931\n",
      "Epoch 11/25\n",
      "179/179 [==============================] - 86s 478ms/step - loss: 0.3739 - root_mean_squared_error: 0.6114 - val_loss: 0.6872 - val_root_mean_squared_error: 0.8290\n",
      "Epoch 12/25\n",
      "179/179 [==============================] - 86s 478ms/step - loss: 0.3771 - root_mean_squared_error: 0.6140 - val_loss: 0.6476 - val_root_mean_squared_error: 0.8048\n",
      "Epoch 13/25\n",
      "179/179 [==============================] - 86s 478ms/step - loss: 0.3888 - root_mean_squared_error: 0.6234 - val_loss: 0.5960 - val_root_mean_squared_error: 0.7720\n",
      "Epoch 14/25\n",
      "179/179 [==============================] - 86s 478ms/step - loss: 0.3791 - root_mean_squared_error: 0.6156 - val_loss: 0.6372 - val_root_mean_squared_error: 0.7982\n",
      "Epoch 15/25\n",
      "179/179 [==============================] - 86s 478ms/step - loss: 0.3620 - root_mean_squared_error: 0.6017 - val_loss: 0.6144 - val_root_mean_squared_error: 0.7838\n",
      "Epoch 16/25\n",
      "179/179 [==============================] - 86s 479ms/step - loss: 0.3684 - root_mean_squared_error: 0.6065 - val_loss: 0.6280 - val_root_mean_squared_error: 0.7925\n",
      "Epoch 17/25\n",
      "179/179 [==============================] - 86s 478ms/step - loss: 0.3454 - root_mean_squared_error: 0.5874 - val_loss: 0.6000 - val_root_mean_squared_error: 0.7746\n",
      "Epoch 18/25\n",
      "179/179 [==============================] - 86s 478ms/step - loss: 0.3464 - root_mean_squared_error: 0.5883 - val_loss: 0.6165 - val_root_mean_squared_error: 0.7852\n",
      "Epoch 19/25\n",
      "179/179 [==============================] - 86s 478ms/step - loss: 0.3546 - root_mean_squared_error: 0.5954 - val_loss: 0.5914 - val_root_mean_squared_error: 0.7691\n",
      "Epoch 20/25\n",
      "179/179 [==============================] - 86s 478ms/step - loss: 0.3255 - root_mean_squared_error: 0.5705 - val_loss: 0.5925 - val_root_mean_squared_error: 0.7697\n",
      "Epoch 21/25\n",
      "179/179 [==============================] - 86s 478ms/step - loss: 0.3201 - root_mean_squared_error: 0.5657 - val_loss: 0.5793 - val_root_mean_squared_error: 0.7611\n",
      "Epoch 22/25\n",
      "179/179 [==============================] - 86s 478ms/step - loss: 0.3204 - root_mean_squared_error: 0.5659 - val_loss: 0.5997 - val_root_mean_squared_error: 0.7744\n",
      "Epoch 23/25\n",
      "179/179 [==============================] - 86s 478ms/step - loss: 0.3184 - root_mean_squared_error: 0.5642 - val_loss: 0.5532 - val_root_mean_squared_error: 0.7438\n",
      "Epoch 24/25\n",
      "179/179 [==============================] - 86s 478ms/step - loss: 0.3227 - root_mean_squared_error: 0.5680 - val_loss: 0.5498 - val_root_mean_squared_error: 0.7415\n",
      "Epoch 25/25\n",
      "179/179 [==============================] - 86s 478ms/step - loss: 0.3219 - root_mean_squared_error: 0.5673 - val_loss: 0.5783 - val_root_mean_squared_error: 0.7604\n"
     ]
    }
   ],
   "source": [
    "history = model.fit(\n",
    "    train_data,\n",
    "    validation_data=valid_data,\n",
    "    epochs=epochs,\n",
    "    use_multiprocessing=True,\n",
    "    workers=-1,\n",
    "    callbacks = [time_callback]\n",
    ")"
   ]
  },
  {
   "cell_type": "code",
   "execution_count": 24,
   "id": "f85df4c3",
   "metadata": {},
   "outputs": [],
   "source": [
    "hist_df = pd.DataFrame(history.history) \n",
    "hist_csv_file = 'fine-tuning-bert-history-01-fine-tuned.csv'\n",
    "with open(hist_csv_file, mode='w') as f:\n",
    "    hist_df.to_csv(f)"
   ]
  },
  {
   "cell_type": "code",
   "execution_count": 25,
   "id": "19de11fa",
   "metadata": {},
   "outputs": [],
   "source": [
    "hist_time_df = pd.DataFrame(time_callback.times) \n",
    "hist_csv_file = 'fine-tuning-bert-time-01-fine-tuned.csv'\n",
    "with open(hist_csv_file, mode='w') as f:\n",
    "    hist_time_df.to_csv(f)"
   ]
  },
  {
   "cell_type": "code",
   "execution_count": 26,
   "id": "134e5da0",
   "metadata": {},
   "outputs": [],
   "source": [
    "model.save_weights('./fine-tuning-bert-model-01-fine-tuned.h5')"
   ]
  },
  {
   "cell_type": "markdown",
   "id": "8b5e46b3",
   "metadata": {},
   "source": [
    "# Evaluation"
   ]
  },
  {
   "cell_type": "code",
   "execution_count": 27,
   "id": "00db58a8",
   "metadata": {},
   "outputs": [
    {
     "name": "stdout",
     "output_type": "stream",
     "text": [
      "43/43 [==============================] - 7s 151ms/step - loss: 0.7720 - root_mean_squared_error: 0.8786\n"
     ]
    },
    {
     "data": {
      "text/plain": [
       "[0.7719836831092834, 0.8786260485649109]"
      ]
     },
     "execution_count": 27,
     "metadata": {},
     "output_type": "execute_result"
    }
   ],
   "source": [
    "model.evaluate(test_data, verbose=1)"
   ]
  },
  {
   "cell_type": "markdown",
   "id": "f76ee973",
   "metadata": {},
   "source": [
    "# Testing"
   ]
  },
  {
   "cell_type": "code",
   "execution_count": 28,
   "id": "4a950bc9",
   "metadata": {},
   "outputs": [],
   "source": [
    "def check_similarity(sentence1, sentence2):\n",
    "    sentence_pairs = np.array([[str(sentence1), str(sentence2)]])\n",
    "    data = BertSemanticDataGenerator(\n",
    "        sentence_pairs, scores=None, batch_size=1, shuffle=False, include_targets=False,\n",
    "    )\n",
    "\n",
    "    score = model.predict(data)[0]\n",
    "    return score"
   ]
  },
  {
   "cell_type": "code",
   "execution_count": 29,
   "id": "bd858ad0",
   "metadata": {},
   "outputs": [
    {
     "name": "stdout",
     "output_type": "stream",
     "text": [
      "WARNING:tensorflow:The parameters `output_attentions`, `output_hidden_states` and `use_cache` cannot be updated when calling a model.They have to be set to True/False in the config object (i.e.: `config=XConfig.from_pretrained('name', output_attentions=True)`).\n",
      "WARNING:tensorflow:The parameter `return_dict` cannot be set in graph mode and will always be set to `True`.\n"
     ]
    },
    {
     "data": {
      "text/plain": [
       "array([3.5603538], dtype=float32)"
      ]
     },
     "execution_count": 29,
     "metadata": {},
     "output_type": "execute_result"
    }
   ],
   "source": [
    "sentence1 = 'A distributed system is a system from multiple computers which communicate with each other via network'\n",
    "sentence2 = 'A distributed system is a system from one computer without network'\n",
    "check_similarity(sentence1, sentence2)"
   ]
  },
  {
   "cell_type": "code",
   "execution_count": 30,
   "id": "7089b1dc",
   "metadata": {},
   "outputs": [
    {
     "data": {
      "text/plain": [
       "array([2.6700072], dtype=float32)"
      ]
     },
     "execution_count": 30,
     "metadata": {},
     "output_type": "execute_result"
    }
   ],
   "source": [
    "sentence1 = 'asdsd'\n",
    "sentence2 = 'asdsad are good sdsdsdsds'\n",
    "check_similarity(sentence1, sentence2)"
   ]
  },
  {
   "cell_type": "code",
   "execution_count": 31,
   "id": "22188c22",
   "metadata": {},
   "outputs": [
    {
     "data": {
      "text/plain": [
       "array([1.7225633], dtype=float32)"
      ]
     },
     "execution_count": 31,
     "metadata": {},
     "output_type": "execute_result"
    }
   ],
   "source": [
    "sentence1 = 'the activity of learning or being trained'\n",
    "sentence2 = 'the gradual process of acquiring knowledge.'\n",
    "check_similarity(sentence1, sentence2)"
   ]
  },
  {
   "cell_type": "code",
   "execution_count": null,
   "id": "272b440d",
   "metadata": {},
   "outputs": [],
   "source": []
  }
 ],
 "metadata": {
  "kernelspec": {
   "display_name": "Python 3",
   "language": "python",
   "name": "python3"
  },
  "language_info": {
   "codemirror_mode": {
    "name": "ipython",
    "version": 3
   },
   "file_extension": ".py",
   "mimetype": "text/x-python",
   "name": "python",
   "nbconvert_exporter": "python",
   "pygments_lexer": "ipython3",
   "version": "3.8.6"
  }
 },
 "nbformat": 4,
 "nbformat_minor": 5
}
