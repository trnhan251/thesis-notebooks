{
 "cells": [
  {
   "cell_type": "code",
   "execution_count": 1,
   "metadata": {},
   "outputs": [],
   "source": [
    "import os\n",
    "os.environ[\"TF_FORCE_GPU_ALLOW_GROWTH\"]=\"true\"\n",
    "# https://github.com/tensorflow/tensorflow/issues/33721 "
   ]
  },
  {
   "cell_type": "code",
   "execution_count": 2,
   "metadata": {},
   "outputs": [],
   "source": [
    "import numpy as np\n",
    "import pandas as pd\n",
    "import tensorflow as tf\n",
    "import transformers\n",
    "import seaborn as sns\n",
    "import time\n",
    "from csv import QUOTE_NONE\n",
    "from ipywidgets import IntProgress"
   ]
  },
  {
   "cell_type": "code",
   "execution_count": 3,
   "metadata": {},
   "outputs": [
    {
     "name": "stdout",
     "output_type": "stream",
     "text": [
      "Num GPUs Available:  1\n"
     ]
    }
   ],
   "source": [
    "print(\"Num GPUs Available: \", len(tf.config.list_physical_devices('GPU')))"
   ]
  },
  {
   "cell_type": "code",
   "execution_count": 4,
   "metadata": {},
   "outputs": [],
   "source": [
    "train_df = pd.read_csv('../sts-train.csv', sep='\\t', usecols=[4, 5, 6], header=None, quoting=QUOTE_NONE, names=['score', 'sentence1', 'sentence2'])\n",
    "validation_df = pd.read_csv('../sts-dev.csv', sep='\\t', usecols=[4, 5, 6], header=None, quoting=QUOTE_NONE, names=['score', 'sentence1', 'sentence2'])\n",
    "test_df = pd.read_csv('../sts-test.csv', sep='\\t', usecols=[4, 5, 6], header=None, quoting=QUOTE_NONE, names=['score', 'sentence1', 'sentence2'])"
   ]
  },
  {
   "cell_type": "code",
   "execution_count": 5,
   "metadata": {},
   "outputs": [
    {
     "data": {
      "text/html": [
       "<div>\n",
       "<style scoped>\n",
       "    .dataframe tbody tr th:only-of-type {\n",
       "        vertical-align: middle;\n",
       "    }\n",
       "\n",
       "    .dataframe tbody tr th {\n",
       "        vertical-align: top;\n",
       "    }\n",
       "\n",
       "    .dataframe thead th {\n",
       "        text-align: right;\n",
       "    }\n",
       "</style>\n",
       "<table border=\"1\" class=\"dataframe\">\n",
       "  <thead>\n",
       "    <tr style=\"text-align: right;\">\n",
       "      <th></th>\n",
       "      <th>score</th>\n",
       "      <th>sentence1</th>\n",
       "      <th>sentence2</th>\n",
       "    </tr>\n",
       "  </thead>\n",
       "  <tbody>\n",
       "    <tr>\n",
       "      <th>0</th>\n",
       "      <td>5.00</td>\n",
       "      <td>A plane is taking off.</td>\n",
       "      <td>An air plane is taking off.</td>\n",
       "    </tr>\n",
       "    <tr>\n",
       "      <th>1</th>\n",
       "      <td>3.80</td>\n",
       "      <td>A man is playing a large flute.</td>\n",
       "      <td>A man is playing a flute.</td>\n",
       "    </tr>\n",
       "    <tr>\n",
       "      <th>2</th>\n",
       "      <td>3.80</td>\n",
       "      <td>A man is spreading shreded cheese on a pizza.</td>\n",
       "      <td>A man is spreading shredded cheese on an uncoo...</td>\n",
       "    </tr>\n",
       "    <tr>\n",
       "      <th>3</th>\n",
       "      <td>2.60</td>\n",
       "      <td>Three men are playing chess.</td>\n",
       "      <td>Two men are playing chess.</td>\n",
       "    </tr>\n",
       "    <tr>\n",
       "      <th>4</th>\n",
       "      <td>4.25</td>\n",
       "      <td>A man is playing the cello.</td>\n",
       "      <td>A man seated is playing the cello.</td>\n",
       "    </tr>\n",
       "  </tbody>\n",
       "</table>\n",
       "</div>"
      ],
      "text/plain": [
       "   score                                      sentence1  \\\n",
       "0   5.00                         A plane is taking off.   \n",
       "1   3.80                A man is playing a large flute.   \n",
       "2   3.80  A man is spreading shreded cheese on a pizza.   \n",
       "3   2.60                   Three men are playing chess.   \n",
       "4   4.25                    A man is playing the cello.   \n",
       "\n",
       "                                           sentence2  \n",
       "0                        An air plane is taking off.  \n",
       "1                          A man is playing a flute.  \n",
       "2  A man is spreading shredded cheese on an uncoo...  \n",
       "3                         Two men are playing chess.  \n",
       "4                 A man seated is playing the cello.  "
      ]
     },
     "execution_count": 5,
     "metadata": {},
     "output_type": "execute_result"
    }
   ],
   "source": [
    "train_df.head()"
   ]
  },
  {
   "cell_type": "code",
   "execution_count": 6,
   "metadata": {},
   "outputs": [],
   "source": [
    "train_df = train_df.dropna()\n",
    "validation_df = validation_df.dropna()\n",
    "test_df = test_df.dropna()"
   ]
  },
  {
   "cell_type": "code",
   "execution_count": 7,
   "metadata": {},
   "outputs": [
    {
     "data": {
      "text/plain": [
       "score        5749\n",
       "sentence1    5749\n",
       "sentence2    5749\n",
       "dtype: int64"
      ]
     },
     "execution_count": 7,
     "metadata": {},
     "output_type": "execute_result"
    }
   ],
   "source": [
    "train_df.count()"
   ]
  },
  {
   "cell_type": "markdown",
   "metadata": {},
   "source": [
    "# Reuse pre-trained model"
   ]
  },
  {
   "cell_type": "code",
   "execution_count": 8,
   "metadata": {},
   "outputs": [],
   "source": [
    "max_length = 128  # Maximum length of input sentence to the model.\n",
    "batch_size = 32\n",
    "epochs = 2\n",
    "\n",
    "# Labels in our dataset.\n",
    "labels = [\"Incorrect\", \"Correct\"]"
   ]
  },
  {
   "cell_type": "code",
   "execution_count": 9,
   "metadata": {},
   "outputs": [],
   "source": [
    "\n",
    "class AlbertSemanticDataGenerator(tf.keras.utils.Sequence):\n",
    "    \"\"\"Generates batches of data.\n",
    "\n",
    "    Args:\n",
    "        sentence_pairs: Array of premise and hypothesis input sentences.\n",
    "        labels: Array of labels.\n",
    "        batch_size: Integer batch size.\n",
    "        shuffle: boolean, whether to shuffle the data.\n",
    "        include_targets: boolean, whether to incude the labels.\n",
    "\n",
    "    Returns:\n",
    "        Tuples `([input_ids, attention_mask, `token_type_ids], labels)`\n",
    "        (or just `[input_ids, attention_mask, `token_type_ids]`\n",
    "         if `include_targets=False`)\n",
    "    \"\"\"\n",
    "\n",
    "    def __init__(\n",
    "        self,\n",
    "        sentence_pairs,\n",
    "        labels,\n",
    "        batch_size=batch_size,\n",
    "        shuffle=True,\n",
    "        include_targets=True,\n",
    "    ):\n",
    "        self.sentence_pairs = sentence_pairs\n",
    "        self.labels = labels\n",
    "        self.shuffle = shuffle\n",
    "        self.batch_size = batch_size\n",
    "        self.include_targets = include_targets\n",
    "        # Load our BERT Tokenizer to encode the text.\n",
    "        # We will use base-base-uncased pretrained model.\n",
    "        self.tokenizer = transformers.AlbertTokenizer.from_pretrained(\n",
    "            \"albert-base-v2\", do_lower_case=True\n",
    "        )\n",
    "        self.indexes = np.arange(len(self.sentence_pairs))\n",
    "        self.on_epoch_end()\n",
    "\n",
    "    def __len__(self):\n",
    "        # Denotes the number of batches per epoch.\n",
    "        return len(self.sentence_pairs) // self.batch_size\n",
    "\n",
    "    def __getitem__(self, idx):\n",
    "        # Retrieves the batch of index.\n",
    "        indexes = self.indexes[idx * self.batch_size : (idx + 1) * self.batch_size]\n",
    "        sentence_pairs = self.sentence_pairs[indexes]\n",
    "\n",
    "        # With BERT tokenizer's batch_encode_plus batch of both the sentences are\n",
    "        # encoded together and separated by [SEP] token.\n",
    "        encoded = self.tokenizer.batch_encode_plus(\n",
    "            sentence_pairs.tolist(),\n",
    "            add_special_tokens=True,\n",
    "            max_length=max_length,\n",
    "            return_attention_mask=True,\n",
    "            return_token_type_ids=True,\n",
    "            pad_to_max_length=True,\n",
    "            truncation=True,\n",
    "            return_tensors=\"tf\",\n",
    "        )\n",
    "\n",
    "        # Convert batch of encoded features to numpy array.\n",
    "        input_ids = np.array(encoded[\"input_ids\"], dtype=\"int32\")\n",
    "        attention_masks = np.array(encoded[\"attention_mask\"], dtype=\"int32\")\n",
    "        token_type_ids = np.array(encoded[\"token_type_ids\"], dtype=\"int32\")\n",
    "\n",
    "        # Set to true if data generator is used for training/validation.\n",
    "        if self.include_targets:\n",
    "            labels = np.array(self.labels[indexes], dtype=\"int32\")\n",
    "            return [input_ids, attention_masks, token_type_ids], labels\n",
    "        else:\n",
    "            return [input_ids, attention_masks, token_type_ids]\n",
    "\n",
    "    def on_epoch_end(self):\n",
    "        # Shuffle indexes after each epoch if shuffle is set to True.\n",
    "        if self.shuffle:\n",
    "            np.random.RandomState(42).shuffle(self.indexes)\n"
   ]
  },
  {
   "cell_type": "code",
   "execution_count": 10,
   "metadata": {},
   "outputs": [
    {
     "name": "stdout",
     "output_type": "stream",
     "text": [
      "WARNING:tensorflow:Collective ops is not configured at program startup. Some performance features may not be enabled.\n",
      "INFO:tensorflow:Using MirroredStrategy with devices ('/job:localhost/replica:0/task:0/device:GPU:0',)\n"
     ]
    },
    {
     "name": "stderr",
     "output_type": "stream",
     "text": [
      "Some layers from the model checkpoint at albert-base-v2 were not used when initializing TFAlbertModel: ['predictions']\n",
      "- This IS expected if you are initializing TFAlbertModel from the checkpoint of a model trained on another task or with another architecture (e.g. initializing a BertForSequenceClassification model from a BertForPreTraining model).\n",
      "- This IS NOT expected if you are initializing TFAlbertModel from the checkpoint of a model that you expect to be exactly identical (initializing a BertForSequenceClassification model from a BertForSequenceClassification model).\n",
      "All the layers of TFAlbertModel were initialized from the model checkpoint at albert-base-v2.\n",
      "If your task is similar to the task the model of the checkpoint was trained on, you can already use TFAlbertModel for predictions without further training.\n"
     ]
    },
    {
     "name": "stdout",
     "output_type": "stream",
     "text": [
      "WARNING:tensorflow:The parameters `output_attentions`, `output_hidden_states` and `use_cache` cannot be updated when calling a model.They have to be set to True/False in the config object (i.e.: `config=XConfig.from_pretrained('name', output_attentions=True)`).\n",
      "WARNING:tensorflow:AutoGraph could not transform <bound method Socket.send of <zmq.sugar.socket.Socket object at 0x7f7efc613400>> and will run it as-is.\n",
      "Please report this to the TensorFlow team. When filing the bug, set the verbosity to 10 (on Linux, `export AUTOGRAPH_VERBOSITY=10`) and attach the full output.\n",
      "Cause: module, class, method, function, traceback, frame, or code object was expected, got cython_function_or_method\n",
      "To silence this warning, decorate the function with @tf.autograph.experimental.do_not_convert\n",
      "WARNING: AutoGraph could not transform <bound method Socket.send of <zmq.sugar.socket.Socket object at 0x7f7efc613400>> and will run it as-is.\n",
      "Please report this to the TensorFlow team. When filing the bug, set the verbosity to 10 (on Linux, `export AUTOGRAPH_VERBOSITY=10`) and attach the full output.\n",
      "Cause: module, class, method, function, traceback, frame, or code object was expected, got cython_function_or_method\n",
      "To silence this warning, decorate the function with @tf.autograph.experimental.do_not_convert\n",
      "WARNING:tensorflow:The parameter `return_dict` cannot be set in graph mode and will always be set to `True`.\n",
      "WARNING:tensorflow:From /opt/spack/opt/spack/linux-centos8-skylake_avx512/gcc-8.3.1/python-3.8.6-57rsjc5dqlwimr7jmfiqauov4l2hsuop/lib/python3.8/site-packages/tensorflow/python/ops/array_ops.py:5043: calling gather (from tensorflow.python.ops.array_ops) with validate_indices is deprecated and will be removed in a future version.\n",
      "Instructions for updating:\n",
      "The `validate_indices` argument has no effect. Indices are always validated on CPU and never validated on GPU.\n",
      "INFO:tensorflow:Reduce to /job:localhost/replica:0/task:0/device:CPU:0 then broadcast to ('/job:localhost/replica:0/task:0/device:CPU:0',).\n",
      "INFO:tensorflow:Reduce to /job:localhost/replica:0/task:0/device:CPU:0 then broadcast to ('/job:localhost/replica:0/task:0/device:CPU:0',).\n",
      "INFO:tensorflow:Reduce to /job:localhost/replica:0/task:0/device:CPU:0 then broadcast to ('/job:localhost/replica:0/task:0/device:CPU:0',).\n",
      "INFO:tensorflow:Reduce to /job:localhost/replica:0/task:0/device:CPU:0 then broadcast to ('/job:localhost/replica:0/task:0/device:CPU:0',).\n",
      "Strategy: <tensorflow.python.distribute.mirrored_strategy.MirroredStrategy object at 0x7f7ddb826160>\n",
      "Model: \"model\"\n",
      "__________________________________________________________________________________________________\n",
      "Layer (type)                    Output Shape         Param #     Connected to                     \n",
      "==================================================================================================\n",
      "input_ids (InputLayer)          [(None, 128)]        0                                            \n",
      "__________________________________________________________________________________________________\n",
      "attention_masks (InputLayer)    [(None, 128)]        0                                            \n",
      "__________________________________________________________________________________________________\n",
      "token_type_ids (InputLayer)     [(None, 128)]        0                                            \n",
      "__________________________________________________________________________________________________\n",
      "tf_albert_model (TFAlbertModel) TFBaseModelOutputWit 11683584    input_ids[0][0]                  \n",
      "                                                                 attention_masks[0][0]            \n",
      "                                                                 token_type_ids[0][0]             \n",
      "__________________________________________________________________________________________________\n",
      "global_average_pooling1d (Globa (None, 768)          0           tf_albert_model[0][0]            \n",
      "__________________________________________________________________________________________________\n",
      "dense (Dense)                   (None, 32)           24608       global_average_pooling1d[0][0]   \n",
      "__________________________________________________________________________________________________\n",
      "dropout_4 (Dropout)             (None, 32)           0           dense[0][0]                      \n",
      "__________________________________________________________________________________________________\n",
      "dense_1 (Dense)                 (None, 2)            66          dropout_4[0][0]                  \n",
      "==================================================================================================\n",
      "Total params: 11,708,258\n",
      "Trainable params: 24,674\n",
      "Non-trainable params: 11,683,584\n",
      "__________________________________________________________________________________________________\n"
     ]
    }
   ],
   "source": [
    "# Create the model under a distribution strategy scope.\n",
    "strategy = tf.distribute.MirroredStrategy()\n",
    "\n",
    "with strategy.scope():\n",
    "    # Encoded token ids from BERT tokenizer.\n",
    "    input_ids = tf.keras.layers.Input(\n",
    "        shape=(max_length,), dtype=tf.int32, name=\"input_ids\"\n",
    "    )\n",
    "    # Attention masks indicates to the model which tokens should be attended to.\n",
    "    attention_masks = tf.keras.layers.Input(\n",
    "        shape=(max_length,), dtype=tf.int32, name=\"attention_masks\"\n",
    "    )\n",
    "    # Token type ids are binary masks identifying different sequences in the model.\n",
    "    token_type_ids = tf.keras.layers.Input(\n",
    "        shape=(max_length,), dtype=tf.int32, name=\"token_type_ids\"\n",
    "    )\n",
    "    # Loading pretrained BERT model.\n",
    "    bert_model = transformers.TFAlbertModel.from_pretrained(\"albert-base-v2\")\n",
    "    # Freeze the BERT model to reuse the pretrained features without modifying them.\n",
    "    bert_model.trainable = False\n",
    "\n",
    "    bert_outputs = bert_model(\n",
    "        input_ids, attention_mask=attention_masks, token_type_ids=token_type_ids\n",
    "    )\n",
    "    last_hidden_state = bert_outputs[0]\n",
    "    \n",
    "    # Applying hybrid pooling approach to bi_lstm sequence output.\n",
    "    avg_pool = tf.keras.layers.GlobalAveragePooling1D()(last_hidden_state)\n",
    "    dense_layer_1 = tf.keras.layers.Dense(32, activation=\"sigmoid\")(avg_pool)\n",
    "    dropout = tf.keras.layers.Dropout(0.5)(dense_layer_1)\n",
    "    output = tf.keras.layers.Dense(2, activation=\"softmax\")(dropout)\n",
    "    model = tf.keras.models.Model(\n",
    "        inputs=[input_ids, attention_masks, token_type_ids], outputs=output\n",
    "    )\n",
    "\n",
    "    model.compile(\n",
    "        optimizer=tf.keras.optimizers.Adam(),\n",
    "        loss=\"categorical_crossentropy\",\n",
    "        metrics=[\"acc\"],\n",
    "    )\n",
    "\n",
    "\n",
    "print(f\"Strategy: {strategy}\")\n",
    "model.summary()"
   ]
  },
  {
   "cell_type": "code",
   "execution_count": 11,
   "metadata": {},
   "outputs": [
    {
     "name": "stdout",
     "output_type": "stream",
     "text": [
      "INFO:tensorflow:Reduce to /job:localhost/replica:0/task:0/device:CPU:0 then broadcast to ('/job:localhost/replica:0/task:0/device:CPU:0',).\n",
      "INFO:tensorflow:Reduce to /job:localhost/replica:0/task:0/device:CPU:0 then broadcast to ('/job:localhost/replica:0/task:0/device:CPU:0',).\n",
      "INFO:tensorflow:Reduce to /job:localhost/replica:0/task:0/device:CPU:0 then broadcast to ('/job:localhost/replica:0/task:0/device:CPU:0',).\n",
      "INFO:tensorflow:Reduce to /job:localhost/replica:0/task:0/device:CPU:0 then broadcast to ('/job:localhost/replica:0/task:0/device:CPU:0',).\n",
      "Model: \"model\"\n",
      "__________________________________________________________________________________________________\n",
      "Layer (type)                    Output Shape         Param #     Connected to                     \n",
      "==================================================================================================\n",
      "input_ids (InputLayer)          [(None, 128)]        0                                            \n",
      "__________________________________________________________________________________________________\n",
      "attention_masks (InputLayer)    [(None, 128)]        0                                            \n",
      "__________________________________________________________________________________________________\n",
      "token_type_ids (InputLayer)     [(None, 128)]        0                                            \n",
      "__________________________________________________________________________________________________\n",
      "tf_albert_model (TFAlbertModel) TFBaseModelOutputWit 11683584    input_ids[0][0]                  \n",
      "                                                                 attention_masks[0][0]            \n",
      "                                                                 token_type_ids[0][0]             \n",
      "__________________________________________________________________________________________________\n",
      "global_average_pooling1d (Globa (None, 768)          0           tf_albert_model[0][0]            \n",
      "__________________________________________________________________________________________________\n",
      "dense (Dense)                   (None, 32)           24608       global_average_pooling1d[0][0]   \n",
      "__________________________________________________________________________________________________\n",
      "dropout_4 (Dropout)             (None, 32)           0           dense[0][0]                      \n",
      "__________________________________________________________________________________________________\n",
      "dense_1 (Dense)                 (None, 2)            66          dropout_4[0][0]                  \n",
      "==================================================================================================\n",
      "Total params: 11,708,258\n",
      "Trainable params: 24,674\n",
      "Non-trainable params: 11,683,584\n",
      "__________________________________________________________________________________________________\n"
     ]
    }
   ],
   "source": [
    "# Unfreeze the bert_model.\n",
    "bert_model.trainable = False\n",
    "# Recompile the model to make the change effective.\n",
    "model.compile(\n",
    "    optimizer=tf.keras.optimizers.Adam(1e-5),\n",
    "    loss=\"categorical_crossentropy\",\n",
    "    metrics=[\"accuracy\"],\n",
    ")\n",
    "model.summary()"
   ]
  },
  {
   "cell_type": "code",
   "execution_count": 12,
   "metadata": {},
   "outputs": [],
   "source": [
    "model.load_weights('./pre-trained-albert.h5')"
   ]
  },
  {
   "cell_type": "code",
   "execution_count": 13,
   "metadata": {},
   "outputs": [],
   "source": [
    "def check_similarity(sentence1, sentence2):\n",
    "    sentence_pairs = np.array([[str(sentence1), str(sentence2)]])\n",
    "    test_data = AlbertSemanticDataGenerator(\n",
    "        sentence_pairs, labels=None, batch_size=1, shuffle=False, include_targets=False,\n",
    "    )\n",
    "\n",
    "    proba = model.predict(test_data)[0]\n",
    "    return {'Incorrect': proba[0], 'Correct': proba[1]}"
   ]
  },
  {
   "cell_type": "code",
   "execution_count": 14,
   "metadata": {},
   "outputs": [
    {
     "name": "stdout",
     "output_type": "stream",
     "text": [
      "WARNING:tensorflow:The parameters `output_attentions`, `output_hidden_states` and `use_cache` cannot be updated when calling a model.They have to be set to True/False in the config object (i.e.: `config=XConfig.from_pretrained('name', output_attentions=True)`).\n",
      "WARNING:tensorflow:The parameter `return_dict` cannot be set in graph mode and will always be set to `True`.\n"
     ]
    },
    {
     "name": "stderr",
     "output_type": "stream",
     "text": [
      "/opt/spack/opt/spack/linux-centos8-skylake_avx512/gcc-8.3.1/python-3.8.6-57rsjc5dqlwimr7jmfiqauov4l2hsuop/lib/python3.8/site-packages/transformers/tokenization_utils_base.py:2105: FutureWarning: The `pad_to_max_length` argument is deprecated and will be removed in a future version, use `padding=True` or `padding='longest'` to pad to the longest sequence in the batch, or use `padding='max_length'` to pad to a max length. In this case, you can give a specific length with `max_length` (e.g. `max_length=45`) or leave max_length to None to pad to the maximal input size of the model (e.g. 512 for Bert).\n",
      "  warnings.warn(\n"
     ]
    },
    {
     "data": {
      "text/plain": [
       "{'Incorrect': 0.9821943, 'Correct': 0.017805723}"
      ]
     },
     "execution_count": 14,
     "metadata": {},
     "output_type": "execute_result"
    }
   ],
   "source": [
    "sentence1 = 'A distributed system is a system from multiple computers which communicate with each other via network'\n",
    "sentence2 = 'A distributed system is a system from one computer without network'\n",
    "check_similarity(sentence1, sentence2)"
   ]
  },
  {
   "cell_type": "markdown",
   "metadata": {},
   "source": [
    "# Create new model"
   ]
  },
  {
   "cell_type": "code",
   "execution_count": 15,
   "metadata": {},
   "outputs": [
    {
     "data": {
      "text/plain": [
       "8"
      ]
     },
     "execution_count": 15,
     "metadata": {},
     "output_type": "execute_result"
    }
   ],
   "source": [
    "len(model.layers)"
   ]
  },
  {
   "cell_type": "code",
   "execution_count": 16,
   "metadata": {},
   "outputs": [
    {
     "data": {
      "text/plain": [
       "<tensorflow.python.keras.layers.core.Dense at 0x7f7cec518ca0>"
      ]
     },
     "execution_count": 16,
     "metadata": {},
     "output_type": "execute_result"
    }
   ],
   "source": [
    "model.layers.pop()"
   ]
  },
  {
   "cell_type": "code",
   "execution_count": 17,
   "metadata": {},
   "outputs": [
    {
     "name": "stdout",
     "output_type": "stream",
     "text": [
      "Model: \"model\"\n",
      "__________________________________________________________________________________________________\n",
      "Layer (type)                    Output Shape         Param #     Connected to                     \n",
      "==================================================================================================\n",
      "input_ids (InputLayer)          [(None, 128)]        0                                            \n",
      "__________________________________________________________________________________________________\n",
      "attention_masks (InputLayer)    [(None, 128)]        0                                            \n",
      "__________________________________________________________________________________________________\n",
      "token_type_ids (InputLayer)     [(None, 128)]        0                                            \n",
      "__________________________________________________________________________________________________\n",
      "tf_albert_model (TFAlbertModel) TFBaseModelOutputWit 11683584    input_ids[0][0]                  \n",
      "                                                                 attention_masks[0][0]            \n",
      "                                                                 token_type_ids[0][0]             \n",
      "__________________________________________________________________________________________________\n",
      "global_average_pooling1d (Globa (None, 768)          0           tf_albert_model[0][0]            \n",
      "__________________________________________________________________________________________________\n",
      "dense (Dense)                   (None, 32)           24608       global_average_pooling1d[0][0]   \n",
      "__________________________________________________________________________________________________\n",
      "dropout_4 (Dropout)             (None, 32)           0           dense[0][0]                      \n",
      "__________________________________________________________________________________________________\n",
      "dense_1 (Dense)                 (None, 2)            66          dropout_4[0][0]                  \n",
      "==================================================================================================\n",
      "Total params: 11,708,258\n",
      "Trainable params: 24,674\n",
      "Non-trainable params: 11,683,584\n",
      "__________________________________________________________________________________________________\n"
     ]
    }
   ],
   "source": [
    "model.summary()"
   ]
  },
  {
   "cell_type": "code",
   "execution_count": 18,
   "metadata": {
    "scrolled": false
   },
   "outputs": [
    {
     "name": "stdout",
     "output_type": "stream",
     "text": [
      "INFO:tensorflow:Reduce to /job:localhost/replica:0/task:0/device:CPU:0 then broadcast to ('/job:localhost/replica:0/task:0/device:CPU:0',).\n",
      "INFO:tensorflow:Reduce to /job:localhost/replica:0/task:0/device:CPU:0 then broadcast to ('/job:localhost/replica:0/task:0/device:CPU:0',).\n",
      "Model: \"model_1\"\n",
      "__________________________________________________________________________________________________\n",
      "Layer (type)                    Output Shape         Param #     Connected to                     \n",
      "==================================================================================================\n",
      "input_ids (InputLayer)          [(None, 128)]        0                                            \n",
      "__________________________________________________________________________________________________\n",
      "attention_masks (InputLayer)    [(None, 128)]        0                                            \n",
      "__________________________________________________________________________________________________\n",
      "token_type_ids (InputLayer)     [(None, 128)]        0                                            \n",
      "__________________________________________________________________________________________________\n",
      "tf_albert_model (TFAlbertModel) TFBaseModelOutputWit 11683584    input_ids[0][0]                  \n",
      "                                                                 attention_masks[0][0]            \n",
      "                                                                 token_type_ids[0][0]             \n",
      "__________________________________________________________________________________________________\n",
      "global_average_pooling1d (Globa (None, 768)          0           tf_albert_model[0][0]            \n",
      "__________________________________________________________________________________________________\n",
      "dense_2 (Dense)                 (None, 32)           24608       global_average_pooling1d[0][0]   \n",
      "__________________________________________________________________________________________________\n",
      "dropout_5 (Dropout)             (None, 32)           0           dense_2[0][0]                    \n",
      "__________________________________________________________________________________________________\n",
      "dense_3 (Dense)                 (None, 1)            33          dropout_5[0][0]                  \n",
      "==================================================================================================\n",
      "Total params: 11,708,225\n",
      "Trainable params: 24,641\n",
      "Non-trainable params: 11,683,584\n",
      "__________________________________________________________________________________________________\n"
     ]
    }
   ],
   "source": [
    "with strategy.scope():\n",
    "    avg_pooling = model.layers[-4].output\n",
    "    dense_layer = tf.keras.layers.Dense(32, activation=\"relu\")(avg_pooling)\n",
    "    dropout = tf.keras.layers.Dropout(0.5)(dense_layer)\n",
    "    output_layer = tf.keras.layers.Dense(1)(dropout)\n",
    "    model_regression = tf.keras.models.Model(inputs=model.input, outputs=output_layer)\n",
    "    model_regression.compile(\n",
    "        optimizer=tf.keras.optimizers.Adam(),\n",
    "        loss=\"mse\",\n",
    "        metrics=[\n",
    "            tf.keras.metrics.RootMeanSquaredError()\n",
    "        ],\n",
    "    )\n",
    "    \n",
    "model_regression.summary()"
   ]
  },
  {
   "cell_type": "markdown",
   "metadata": {},
   "source": [
    "# Train new model based on new dataset"
   ]
  },
  {
   "cell_type": "code",
   "execution_count": 19,
   "metadata": {},
   "outputs": [],
   "source": [
    "class AlbertSemanticDataGenerator(tf.keras.utils.Sequence):\n",
    "    def __init__(\n",
    "        self,\n",
    "        sentence_pairs,\n",
    "        scores,\n",
    "        batch_size=batch_size,\n",
    "        shuffle=True,\n",
    "        include_targets=True,\n",
    "    ):\n",
    "        self.sentence_pairs = sentence_pairs\n",
    "        self.scores = scores\n",
    "        self.shuffle = shuffle\n",
    "        self.batch_size = batch_size\n",
    "        self.include_targets = include_targets\n",
    "        # Load our BERT Tokenizer to encode the text.\n",
    "        # We will use base-base-uncased pretrained model.\n",
    "        self.tokenizer = transformers.AlbertTokenizer.from_pretrained(\n",
    "            \"albert-base-v2\", do_lower_case=True\n",
    "        )\n",
    "        self.indexes = np.arange(len(self.sentence_pairs))\n",
    "        self.on_epoch_end()\n",
    "\n",
    "    def __len__(self):\n",
    "        # Denotes the number of batches per epoch.\n",
    "        return len(self.sentence_pairs) // self.batch_size\n",
    "\n",
    "    def __getitem__(self, idx):\n",
    "        # Retrieves the batch of index.\n",
    "        indexes = self.indexes[idx * self.batch_size : (idx + 1) * self.batch_size]\n",
    "        sentence_pairs = self.sentence_pairs[indexes]\n",
    "\n",
    "        # With BERT tokenizer's batch_encode_plus batch of both the sentences are\n",
    "        # encoded together and separated by [SEP] token.\n",
    "        encoded = self.tokenizer.batch_encode_plus(\n",
    "            sentence_pairs.tolist(),\n",
    "            add_special_tokens=True,\n",
    "            max_length=max_length,\n",
    "            return_attention_mask=True,\n",
    "            return_token_type_ids=True,\n",
    "            pad_to_max_length=True,\n",
    "            truncation=True,\n",
    "            return_tensors=\"tf\",\n",
    "        )\n",
    "\n",
    "        # Convert batch of encoded features to numpy array.\n",
    "        input_ids = np.array(encoded[\"input_ids\"], dtype=\"int32\")\n",
    "        attention_masks = np.array(encoded[\"attention_mask\"], dtype=\"int32\")\n",
    "        token_type_ids = np.array(encoded[\"token_type_ids\"], dtype=\"int32\")\n",
    "\n",
    "        # Set to true if data generator is used for training/validation.\n",
    "        if self.include_targets:\n",
    "            scores = np.array(self.scores[indexes], dtype=\"int32\")\n",
    "            return [input_ids, attention_masks, token_type_ids], scores\n",
    "        else:\n",
    "            return [input_ids, attention_masks, token_type_ids]\n",
    "\n",
    "    def on_epoch_end(self):\n",
    "        # Shuffle indexes after each epoch if shuffle is set to True.\n",
    "        if self.shuffle:\n",
    "            np.random.RandomState(42).shuffle(self.indexes)"
   ]
  },
  {
   "cell_type": "code",
   "execution_count": 20,
   "metadata": {},
   "outputs": [],
   "source": [
    "train_data = AlbertSemanticDataGenerator(\n",
    "    train_df[[\"sentence1\", \"sentence2\"]].values.astype(\"str\"),\n",
    "    train_df['score'].values,\n",
    "    batch_size=batch_size,\n",
    "    shuffle=True,\n",
    ")\n",
    "\n",
    "valid_data = AlbertSemanticDataGenerator(\n",
    "    validation_df[[\"sentence1\", \"sentence2\"]].values.astype(\"str\"),\n",
    "    validation_df['score'].values,\n",
    "    batch_size=batch_size,\n",
    "    shuffle=False,\n",
    ")\n",
    "\n",
    "test_data = AlbertSemanticDataGenerator(\n",
    "    test_df[[\"sentence1\", \"sentence2\"]].values.astype(\"str\"),\n",
    "    test_df['score'].values,\n",
    "    batch_size=batch_size,\n",
    "    shuffle=False,\n",
    ")"
   ]
  },
  {
   "cell_type": "code",
   "execution_count": 21,
   "metadata": {},
   "outputs": [],
   "source": [
    "class TimeHistory(tf.keras.callbacks.Callback):\n",
    "    def on_train_begin(self, logs={}):\n",
    "        self.times = []\n",
    "\n",
    "    def on_epoch_begin(self, batch, logs={}):\n",
    "        self.epoch_time_start = time.time()\n",
    "\n",
    "    def on_epoch_end(self, batch, logs={}):\n",
    "        self.times.append(time.time() - self.epoch_time_start)"
   ]
  },
  {
   "cell_type": "code",
   "execution_count": 22,
   "metadata": {},
   "outputs": [],
   "source": [
    "time_callback = TimeHistory()"
   ]
  },
  {
   "cell_type": "code",
   "execution_count": 23,
   "metadata": {},
   "outputs": [],
   "source": [
    "max_length = 128  # Maximum length of input sentence to the model.\n",
    "batch_size = 32\n",
    "epochs = 25"
   ]
  },
  {
   "cell_type": "code",
   "execution_count": 24,
   "metadata": {
    "scrolled": false
   },
   "outputs": [
    {
     "name": "stdout",
     "output_type": "stream",
     "text": [
      "Epoch 1/25\n",
      "WARNING:tensorflow:The parameters `output_attentions`, `output_hidden_states` and `use_cache` cannot be updated when calling a model.They have to be set to True/False in the config object (i.e.: `config=XConfig.from_pretrained('name', output_attentions=True)`).\n",
      "WARNING:tensorflow:The parameter `return_dict` cannot be set in graph mode and will always be set to `True`.\n",
      "WARNING:tensorflow:The parameters `output_attentions`, `output_hidden_states` and `use_cache` cannot be updated when calling a model.They have to be set to True/False in the config object (i.e.: `config=XConfig.from_pretrained('name', output_attentions=True)`).\n",
      "WARNING:tensorflow:The parameter `return_dict` cannot be set in graph mode and will always be set to `True`.\n",
      "179/179 [==============================] - ETA: 0s - loss: 1.7142 - root_mean_squared_error: 1.3093WARNING:tensorflow:The parameters `output_attentions`, `output_hidden_states` and `use_cache` cannot be updated when calling a model.They have to be set to True/False in the config object (i.e.: `config=XConfig.from_pretrained('name', output_attentions=True)`).\n",
      "WARNING:tensorflow:The parameter `return_dict` cannot be set in graph mode and will always be set to `True`.\n",
      "179/179 [==============================] - 47s 214ms/step - loss: 1.7142 - root_mean_squared_error: 1.3093 - val_loss: 0.8839 - val_root_mean_squared_error: 0.9401\n",
      "Epoch 2/25\n",
      "179/179 [==============================] - 36s 203ms/step - loss: 1.2405 - root_mean_squared_error: 1.1138 - val_loss: 0.7756 - val_root_mean_squared_error: 0.8807\n",
      "Epoch 3/25\n",
      "179/179 [==============================] - 37s 206ms/step - loss: 1.1649 - root_mean_squared_error: 1.0793 - val_loss: 0.6904 - val_root_mean_squared_error: 0.8309\n",
      "Epoch 4/25\n",
      "179/179 [==============================] - 37s 207ms/step - loss: 1.1565 - root_mean_squared_error: 1.0754 - val_loss: 0.6631 - val_root_mean_squared_error: 0.8143\n",
      "Epoch 5/25\n",
      "179/179 [==============================] - 37s 207ms/step - loss: 1.1678 - root_mean_squared_error: 1.0806 - val_loss: 0.6686 - val_root_mean_squared_error: 0.8177\n",
      "Epoch 6/25\n",
      "179/179 [==============================] - 37s 207ms/step - loss: 1.1232 - root_mean_squared_error: 1.0598 - val_loss: 0.6925 - val_root_mean_squared_error: 0.8322\n",
      "Epoch 7/25\n",
      "179/179 [==============================] - 37s 208ms/step - loss: 1.0601 - root_mean_squared_error: 1.0296 - val_loss: 0.6677 - val_root_mean_squared_error: 0.8171\n",
      "Epoch 8/25\n",
      "179/179 [==============================] - 37s 208ms/step - loss: 1.0868 - root_mean_squared_error: 1.0425 - val_loss: 0.6850 - val_root_mean_squared_error: 0.8277\n",
      "Epoch 9/25\n",
      "179/179 [==============================] - 37s 208ms/step - loss: 1.0222 - root_mean_squared_error: 1.0110 - val_loss: 0.6932 - val_root_mean_squared_error: 0.8326\n",
      "Epoch 10/25\n",
      "179/179 [==============================] - 37s 208ms/step - loss: 0.9994 - root_mean_squared_error: 0.9997 - val_loss: 0.6741 - val_root_mean_squared_error: 0.8210\n",
      "Epoch 11/25\n",
      "179/179 [==============================] - 37s 208ms/step - loss: 1.0101 - root_mean_squared_error: 1.0050 - val_loss: 0.6749 - val_root_mean_squared_error: 0.8215\n",
      "Epoch 12/25\n",
      "179/179 [==============================] - 37s 208ms/step - loss: 0.9906 - root_mean_squared_error: 0.9953 - val_loss: 0.6625 - val_root_mean_squared_error: 0.8139\n",
      "Epoch 13/25\n",
      "179/179 [==============================] - 37s 208ms/step - loss: 0.9566 - root_mean_squared_error: 0.9780 - val_loss: 0.7226 - val_root_mean_squared_error: 0.8501\n",
      "Epoch 14/25\n",
      "179/179 [==============================] - 37s 208ms/step - loss: 0.9640 - root_mean_squared_error: 0.9818 - val_loss: 0.7228 - val_root_mean_squared_error: 0.8502\n",
      "Epoch 15/25\n",
      "179/179 [==============================] - 37s 207ms/step - loss: 0.9782 - root_mean_squared_error: 0.9891 - val_loss: 0.6928 - val_root_mean_squared_error: 0.8324\n",
      "Epoch 16/25\n",
      "179/179 [==============================] - 37s 208ms/step - loss: 0.9601 - root_mean_squared_error: 0.9799 - val_loss: 0.7328 - val_root_mean_squared_error: 0.8560\n",
      "Epoch 17/25\n",
      "179/179 [==============================] - 37s 208ms/step - loss: 0.9494 - root_mean_squared_error: 0.9744 - val_loss: 0.6868 - val_root_mean_squared_error: 0.8287\n",
      "Epoch 18/25\n",
      "179/179 [==============================] - 37s 208ms/step - loss: 0.9492 - root_mean_squared_error: 0.9742 - val_loss: 0.6777 - val_root_mean_squared_error: 0.8232\n",
      "Epoch 19/25\n",
      "179/179 [==============================] - 37s 208ms/step - loss: 0.9738 - root_mean_squared_error: 0.9868 - val_loss: 0.6976 - val_root_mean_squared_error: 0.8352\n",
      "Epoch 20/25\n",
      "179/179 [==============================] - 37s 208ms/step - loss: 0.9530 - root_mean_squared_error: 0.9762 - val_loss: 0.7191 - val_root_mean_squared_error: 0.8480\n",
      "Epoch 21/25\n",
      "179/179 [==============================] - 37s 208ms/step - loss: 0.9626 - root_mean_squared_error: 0.9811 - val_loss: 0.7504 - val_root_mean_squared_error: 0.8663\n",
      "Epoch 22/25\n",
      "179/179 [==============================] - 37s 207ms/step - loss: 0.9466 - root_mean_squared_error: 0.9729 - val_loss: 0.6930 - val_root_mean_squared_error: 0.8325\n",
      "Epoch 23/25\n",
      "179/179 [==============================] - 37s 208ms/step - loss: 0.9533 - root_mean_squared_error: 0.9764 - val_loss: 0.7106 - val_root_mean_squared_error: 0.8430\n",
      "Epoch 24/25\n",
      "179/179 [==============================] - 37s 208ms/step - loss: 0.9234 - root_mean_squared_error: 0.9609 - val_loss: 0.6883 - val_root_mean_squared_error: 0.8296\n",
      "Epoch 25/25\n",
      "179/179 [==============================] - 37s 208ms/step - loss: 0.9276 - root_mean_squared_error: 0.9631 - val_loss: 0.6935 - val_root_mean_squared_error: 0.8327\n"
     ]
    }
   ],
   "source": [
    "history = model_regression.fit(\n",
    "    train_data,\n",
    "    validation_data=valid_data,\n",
    "    epochs=epochs,\n",
    "    use_multiprocessing=True,\n",
    "    workers=-1,\n",
    "    callbacks = [time_callback]\n",
    ")"
   ]
  },
  {
   "cell_type": "code",
   "execution_count": 25,
   "metadata": {},
   "outputs": [],
   "source": [
    "hist_df = pd.DataFrame(history.history) \n",
    "hist_csv_file = 'custom-albert-history-08.csv'\n",
    "with open(hist_csv_file, mode='w') as f:\n",
    "    hist_df.to_csv(f)"
   ]
  },
  {
   "cell_type": "code",
   "execution_count": 26,
   "metadata": {},
   "outputs": [
    {
     "name": "stdout",
     "output_type": "stream",
     "text": [
      "[46.893258810043335, 36.26741027832031, 36.89666700363159, 37.08758354187012, 37.079686641693115, 37.02211928367615, 37.12399077415466, 37.21898603439331, 37.171581745147705, 37.173096895217896, 37.140076875686646, 37.248656272888184, 37.15145206451416, 37.14746642112732, 37.1074697971344, 37.2578706741333, 37.18027877807617, 37.124064683914185, 37.115034341812134, 37.19452381134033, 37.13622498512268, 37.08359122276306, 37.148459911346436, 37.17266225814819, 37.12546706199646]\n"
     ]
    }
   ],
   "source": [
    "print(time_callback.times)"
   ]
  },
  {
   "cell_type": "code",
   "execution_count": 27,
   "metadata": {},
   "outputs": [],
   "source": [
    "hist_time_df = pd.DataFrame(time_callback.times) \n",
    "hist_csv_file = 'custom-albert-time-08.csv'\n",
    "with open(hist_csv_file, mode='w') as f:\n",
    "    hist_time_df.to_csv(f)"
   ]
  },
  {
   "cell_type": "code",
   "execution_count": 28,
   "metadata": {},
   "outputs": [],
   "source": [
    "model_regression.save_weights('./custom-albert-08.h5')"
   ]
  },
  {
   "cell_type": "markdown",
   "metadata": {},
   "source": [
    "# Fine-tuning"
   ]
  },
  {
   "cell_type": "code",
   "execution_count": 29,
   "metadata": {},
   "outputs": [
    {
     "name": "stdout",
     "output_type": "stream",
     "text": [
      "Model: \"model_1\"\n",
      "__________________________________________________________________________________________________\n",
      "Layer (type)                    Output Shape         Param #     Connected to                     \n",
      "==================================================================================================\n",
      "input_ids (InputLayer)          [(None, 128)]        0                                            \n",
      "__________________________________________________________________________________________________\n",
      "attention_masks (InputLayer)    [(None, 128)]        0                                            \n",
      "__________________________________________________________________________________________________\n",
      "token_type_ids (InputLayer)     [(None, 128)]        0                                            \n",
      "__________________________________________________________________________________________________\n",
      "tf_albert_model (TFAlbertModel) TFBaseModelOutputWit 11683584    input_ids[0][0]                  \n",
      "                                                                 attention_masks[0][0]            \n",
      "                                                                 token_type_ids[0][0]             \n",
      "__________________________________________________________________________________________________\n",
      "global_average_pooling1d (Globa (None, 768)          0           tf_albert_model[0][0]            \n",
      "__________________________________________________________________________________________________\n",
      "dense_2 (Dense)                 (None, 32)           24608       global_average_pooling1d[0][0]   \n",
      "__________________________________________________________________________________________________\n",
      "dropout_5 (Dropout)             (None, 32)           0           dense_2[0][0]                    \n",
      "__________________________________________________________________________________________________\n",
      "dense_3 (Dense)                 (None, 1)            33          dropout_5[0][0]                  \n",
      "==================================================================================================\n",
      "Total params: 11,708,225\n",
      "Trainable params: 11,708,225\n",
      "Non-trainable params: 0\n",
      "__________________________________________________________________________________________________\n"
     ]
    }
   ],
   "source": [
    "with strategy.scope():\n",
    "    model_regression.layers[-5].trainable = True\n",
    "    model_regression.layers[-7].trainable = True\n",
    "    # Unfreeze the bert_model.\n",
    "    bert_model.trainable = True\n",
    "    # Recompile the model to make the change effective.\n",
    "    model_regression.compile(\n",
    "        optimizer=tf.keras.optimizers.Adam(1e-5),\n",
    "        loss=\"mse\",\n",
    "        metrics=[\n",
    "            tf.keras.metrics.RootMeanSquaredError()\n",
    "        ],\n",
    "    )\n",
    "\n",
    "model_regression.summary()"
   ]
  },
  {
   "cell_type": "code",
   "execution_count": 30,
   "metadata": {},
   "outputs": [],
   "source": [
    "time_callback = TimeHistory()"
   ]
  },
  {
   "cell_type": "code",
   "execution_count": 31,
   "metadata": {},
   "outputs": [
    {
     "name": "stdout",
     "output_type": "stream",
     "text": [
      "Epoch 1/25\n",
      "WARNING:tensorflow:The parameters `output_attentions`, `output_hidden_states` and `use_cache` cannot be updated when calling a model.They have to be set to True/False in the config object (i.e.: `config=XConfig.from_pretrained('name', output_attentions=True)`).\n",
      "WARNING:tensorflow:The parameter `return_dict` cannot be set in graph mode and will always be set to `True`.\n",
      "WARNING:tensorflow:Gradients do not exist for variables ['tf_albert_model/albert/pooler/kernel:0', 'tf_albert_model/albert/pooler/bias:0'] when minimizing the loss.\n",
      "WARNING:tensorflow:The parameters `output_attentions`, `output_hidden_states` and `use_cache` cannot be updated when calling a model.They have to be set to True/False in the config object (i.e.: `config=XConfig.from_pretrained('name', output_attentions=True)`).\n",
      "WARNING:tensorflow:The parameter `return_dict` cannot be set in graph mode and will always be set to `True`.\n",
      "WARNING:tensorflow:Gradients do not exist for variables ['tf_albert_model/albert/pooler/kernel:0', 'tf_albert_model/albert/pooler/bias:0'] when minimizing the loss.\n",
      "179/179 [==============================] - ETA: 0s - loss: 0.9152 - root_mean_squared_error: 0.9566WARNING:tensorflow:The parameters `output_attentions`, `output_hidden_states` and `use_cache` cannot be updated when calling a model.They have to be set to True/False in the config object (i.e.: `config=XConfig.from_pretrained('name', output_attentions=True)`).\n",
      "WARNING:tensorflow:The parameter `return_dict` cannot be set in graph mode and will always be set to `True`.\n",
      "179/179 [==============================] - 96s 480ms/step - loss: 0.9152 - root_mean_squared_error: 0.9566 - val_loss: 0.6822 - val_root_mean_squared_error: 0.8260\n",
      "Epoch 2/25\n",
      "179/179 [==============================] - 84s 468ms/step - loss: 0.7360 - root_mean_squared_error: 0.8579 - val_loss: 0.6028 - val_root_mean_squared_error: 0.7764\n",
      "Epoch 3/25\n",
      "179/179 [==============================] - 84s 469ms/step - loss: 0.6677 - root_mean_squared_error: 0.8171 - val_loss: 0.6440 - val_root_mean_squared_error: 0.8025\n",
      "Epoch 4/25\n",
      "179/179 [==============================] - 84s 468ms/step - loss: 0.6195 - root_mean_squared_error: 0.7871 - val_loss: 0.6627 - val_root_mean_squared_error: 0.8140\n",
      "Epoch 5/25\n",
      "179/179 [==============================] - 84s 468ms/step - loss: 0.5624 - root_mean_squared_error: 0.7499 - val_loss: 0.6224 - val_root_mean_squared_error: 0.7889\n",
      "Epoch 6/25\n",
      "179/179 [==============================] - 84s 467ms/step - loss: 0.5605 - root_mean_squared_error: 0.7487 - val_loss: 0.6145 - val_root_mean_squared_error: 0.7839\n",
      "Epoch 7/25\n",
      "179/179 [==============================] - 84s 467ms/step - loss: 0.5296 - root_mean_squared_error: 0.7278 - val_loss: 0.6221 - val_root_mean_squared_error: 0.7887\n",
      "Epoch 8/25\n",
      "179/179 [==============================] - 83s 467ms/step - loss: 0.5124 - root_mean_squared_error: 0.7158 - val_loss: 0.6580 - val_root_mean_squared_error: 0.8112\n",
      "Epoch 9/25\n",
      "179/179 [==============================] - 83s 467ms/step - loss: 0.5252 - root_mean_squared_error: 0.7247 - val_loss: 0.6220 - val_root_mean_squared_error: 0.7887\n",
      "Epoch 10/25\n",
      "179/179 [==============================] - 83s 467ms/step - loss: 0.5097 - root_mean_squared_error: 0.7140 - val_loss: 0.6329 - val_root_mean_squared_error: 0.7956\n",
      "Epoch 11/25\n",
      "179/179 [==============================] - 83s 467ms/step - loss: 0.4959 - root_mean_squared_error: 0.7042 - val_loss: 0.6373 - val_root_mean_squared_error: 0.7983\n",
      "Epoch 12/25\n",
      "179/179 [==============================] - 83s 466ms/step - loss: 0.5077 - root_mean_squared_error: 0.7125 - val_loss: 0.6514 - val_root_mean_squared_error: 0.8071\n",
      "Epoch 13/25\n",
      "179/179 [==============================] - 83s 467ms/step - loss: 0.4995 - root_mean_squared_error: 0.7068 - val_loss: 0.6947 - val_root_mean_squared_error: 0.8335\n",
      "Epoch 14/25\n",
      "179/179 [==============================] - 83s 467ms/step - loss: 0.4931 - root_mean_squared_error: 0.7022 - val_loss: 0.6254 - val_root_mean_squared_error: 0.7908\n",
      "Epoch 15/25\n",
      "179/179 [==============================] - 84s 467ms/step - loss: 0.4927 - root_mean_squared_error: 0.7019 - val_loss: 0.6121 - val_root_mean_squared_error: 0.7824\n",
      "Epoch 16/25\n",
      "179/179 [==============================] - 83s 467ms/step - loss: 0.5024 - root_mean_squared_error: 0.7088 - val_loss: 0.6310 - val_root_mean_squared_error: 0.7944\n",
      "Epoch 17/25\n",
      "179/179 [==============================] - 83s 467ms/step - loss: 0.4927 - root_mean_squared_error: 0.7019 - val_loss: 0.5883 - val_root_mean_squared_error: 0.7670\n",
      "Epoch 18/25\n",
      "179/179 [==============================] - 84s 467ms/step - loss: 0.4893 - root_mean_squared_error: 0.6995 - val_loss: 0.6303 - val_root_mean_squared_error: 0.7939\n",
      "Epoch 19/25\n",
      "179/179 [==============================] - 83s 466ms/step - loss: 0.4963 - root_mean_squared_error: 0.7045 - val_loss: 0.6034 - val_root_mean_squared_error: 0.7768\n",
      "Epoch 20/25\n",
      "179/179 [==============================] - 83s 467ms/step - loss: 0.4926 - root_mean_squared_error: 0.7019 - val_loss: 0.5989 - val_root_mean_squared_error: 0.7739\n",
      "Epoch 21/25\n",
      "179/179 [==============================] - 84s 467ms/step - loss: 0.4884 - root_mean_squared_error: 0.6989 - val_loss: 0.6247 - val_root_mean_squared_error: 0.7904\n",
      "Epoch 22/25\n",
      "179/179 [==============================] - 83s 467ms/step - loss: 0.4925 - root_mean_squared_error: 0.7018 - val_loss: 0.5932 - val_root_mean_squared_error: 0.7702\n",
      "Epoch 23/25\n",
      "179/179 [==============================] - 83s 466ms/step - loss: 0.4746 - root_mean_squared_error: 0.6889 - val_loss: 0.5891 - val_root_mean_squared_error: 0.7675\n",
      "Epoch 24/25\n",
      "179/179 [==============================] - 83s 466ms/step - loss: 0.4717 - root_mean_squared_error: 0.6868 - val_loss: 0.6088 - val_root_mean_squared_error: 0.7802\n",
      "Epoch 25/25\n",
      "179/179 [==============================] - 83s 466ms/step - loss: 0.4706 - root_mean_squared_error: 0.6860 - val_loss: 0.5962 - val_root_mean_squared_error: 0.7722\n"
     ]
    }
   ],
   "source": [
    "history = model_regression.fit(\n",
    "    train_data,\n",
    "    validation_data=valid_data,\n",
    "    epochs=epochs,\n",
    "    use_multiprocessing=True,\n",
    "    workers=-1,\n",
    "    callbacks = [time_callback]\n",
    ")"
   ]
  },
  {
   "cell_type": "code",
   "execution_count": 32,
   "metadata": {},
   "outputs": [],
   "source": [
    "hist_df = pd.DataFrame(history.history) \n",
    "hist_csv_file = 'custom-albert-fine-tuned-history-08.csv'\n",
    "with open(hist_csv_file, mode='w') as f:\n",
    "    hist_df.to_csv(f)"
   ]
  },
  {
   "cell_type": "code",
   "execution_count": 33,
   "metadata": {},
   "outputs": [],
   "source": [
    "hist_time_df = pd.DataFrame(time_callback.times) \n",
    "hist_csv_file = 'custom-albert-fine-tuned-time-08.csv'\n",
    "with open(hist_csv_file, mode='w') as f:\n",
    "    hist_time_df.to_csv(f)"
   ]
  },
  {
   "cell_type": "code",
   "execution_count": 34,
   "metadata": {},
   "outputs": [],
   "source": [
    "model_regression.save_weights('./custom-albert-fine-tuned-08.h5')"
   ]
  },
  {
   "cell_type": "markdown",
   "metadata": {},
   "source": [
    "# Evaluation"
   ]
  },
  {
   "cell_type": "code",
   "execution_count": 35,
   "metadata": {},
   "outputs": [
    {
     "name": "stdout",
     "output_type": "stream",
     "text": [
      "43/43 [==============================] - 7s 164ms/step - loss: 0.6934 - root_mean_squared_error: 0.8327\n"
     ]
    },
    {
     "data": {
      "text/plain": [
       "[0.6933885812759399, 0.8326995968818665]"
      ]
     },
     "execution_count": 35,
     "metadata": {},
     "output_type": "execute_result"
    }
   ],
   "source": [
    "model_regression.evaluate(test_data, verbose=1)"
   ]
  },
  {
   "cell_type": "markdown",
   "metadata": {},
   "source": [
    "# Testing"
   ]
  },
  {
   "cell_type": "code",
   "execution_count": 36,
   "metadata": {},
   "outputs": [],
   "source": [
    "def check_similarity(sentence1, sentence2):\n",
    "    sentence_pairs = np.array([[str(sentence1), str(sentence2)]])\n",
    "    data = AlbertSemanticDataGenerator(\n",
    "        sentence_pairs, scores=None, batch_size=1, shuffle=False, include_targets=False,\n",
    "    )\n",
    "\n",
    "    score = model_regression.predict(data)[0]\n",
    "    return score"
   ]
  },
  {
   "cell_type": "code",
   "execution_count": 37,
   "metadata": {},
   "outputs": [
    {
     "name": "stdout",
     "output_type": "stream",
     "text": [
      "WARNING:tensorflow:The parameters `output_attentions`, `output_hidden_states` and `use_cache` cannot be updated when calling a model.They have to be set to True/False in the config object (i.e.: `config=XConfig.from_pretrained('name', output_attentions=True)`).\n",
      "WARNING:tensorflow:The parameter `return_dict` cannot be set in graph mode and will always be set to `True`.\n"
     ]
    },
    {
     "data": {
      "text/plain": [
       "array([2.5183156], dtype=float32)"
      ]
     },
     "execution_count": 37,
     "metadata": {},
     "output_type": "execute_result"
    }
   ],
   "source": [
    "sentence1 = 'A distributed system is a system from multiple computers which communicate with each other via network'\n",
    "sentence2 = 'A distributed system is a system from one computer without network'\n",
    "check_similarity(sentence1, sentence2)"
   ]
  },
  {
   "cell_type": "code",
   "execution_count": 38,
   "metadata": {},
   "outputs": [
    {
     "data": {
      "text/plain": [
       "array([2.5457006], dtype=float32)"
      ]
     },
     "execution_count": 38,
     "metadata": {},
     "output_type": "execute_result"
    }
   ],
   "source": [
    "sentence1 = 'asdsd'\n",
    "sentence2 = 'asdsad are good sdsdsdsds'\n",
    "check_similarity(sentence1, sentence2)"
   ]
  },
  {
   "cell_type": "code",
   "execution_count": 39,
   "metadata": {},
   "outputs": [
    {
     "data": {
      "text/plain": [
       "array([2.7108848], dtype=float32)"
      ]
     },
     "execution_count": 39,
     "metadata": {},
     "output_type": "execute_result"
    }
   ],
   "source": [
    "sentence1 = 'the activity of learning or being trained'\n",
    "sentence2 = 'the gradual process of acquiring knowledge.'\n",
    "check_similarity(sentence1, sentence2)"
   ]
  },
  {
   "cell_type": "code",
   "execution_count": null,
   "metadata": {},
   "outputs": [],
   "source": []
  }
 ],
 "metadata": {
  "kernelspec": {
   "display_name": "Python 3",
   "language": "python",
   "name": "python3"
  },
  "language_info": {
   "codemirror_mode": {
    "name": "ipython",
    "version": 3
   },
   "file_extension": ".py",
   "mimetype": "text/x-python",
   "name": "python",
   "nbconvert_exporter": "python",
   "pygments_lexer": "ipython3",
   "version": "3.8.6"
  }
 },
 "nbformat": 4,
 "nbformat_minor": 5
}
