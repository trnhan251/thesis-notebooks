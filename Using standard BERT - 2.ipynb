{
 "cells": [
  {
   "cell_type": "code",
   "execution_count": 1,
   "id": "5a99e7f3",
   "metadata": {},
   "outputs": [],
   "source": [
    "import os\n",
    "os.environ[\"TF_FORCE_GPU_ALLOW_GROWTH\"]=\"true\"\n",
    "# https://github.com/tensorflow/tensorflow/issues/33721 "
   ]
  },
  {
   "cell_type": "code",
   "execution_count": 2,
   "id": "a901f030",
   "metadata": {},
   "outputs": [],
   "source": [
    "import numpy as np\n",
    "import pandas as pd\n",
    "import tensorflow as tf\n",
    "import transformers\n",
    "import seaborn as sns\n",
    "import time\n",
    "from csv import QUOTE_NONE"
   ]
  },
  {
   "cell_type": "code",
   "execution_count": 3,
   "id": "69e054cc",
   "metadata": {},
   "outputs": [
    {
     "name": "stdout",
     "output_type": "stream",
     "text": [
      "Num GPUs Available:  1\n"
     ]
    }
   ],
   "source": [
    "print(\"Num GPUs Available: \", len(tf.config.list_physical_devices('GPU')))"
   ]
  },
  {
   "cell_type": "code",
   "execution_count": 4,
   "id": "4b6ca427",
   "metadata": {},
   "outputs": [],
   "source": [
    "train_df = pd.read_csv('../sts-train.csv', sep='\\t', usecols=[4, 5, 6], header=None, quoting=QUOTE_NONE, names=['score', 'sentence1', 'sentence2'])\n",
    "validation_df = pd.read_csv('../sts-dev.csv', sep='\\t', usecols=[4, 5, 6], header=None, quoting=QUOTE_NONE, names=['score', 'sentence1', 'sentence2'])\n",
    "test_df = pd.read_csv('../sts-test.csv', sep='\\t', usecols=[4, 5, 6], header=None, quoting=QUOTE_NONE, names=['score', 'sentence1', 'sentence2'])"
   ]
  },
  {
   "cell_type": "code",
   "execution_count": 5,
   "id": "2602e84a",
   "metadata": {},
   "outputs": [
    {
     "data": {
      "text/html": [
       "<div>\n",
       "<style scoped>\n",
       "    .dataframe tbody tr th:only-of-type {\n",
       "        vertical-align: middle;\n",
       "    }\n",
       "\n",
       "    .dataframe tbody tr th {\n",
       "        vertical-align: top;\n",
       "    }\n",
       "\n",
       "    .dataframe thead th {\n",
       "        text-align: right;\n",
       "    }\n",
       "</style>\n",
       "<table border=\"1\" class=\"dataframe\">\n",
       "  <thead>\n",
       "    <tr style=\"text-align: right;\">\n",
       "      <th></th>\n",
       "      <th>score</th>\n",
       "      <th>sentence1</th>\n",
       "      <th>sentence2</th>\n",
       "    </tr>\n",
       "  </thead>\n",
       "  <tbody>\n",
       "    <tr>\n",
       "      <th>0</th>\n",
       "      <td>5.00</td>\n",
       "      <td>A plane is taking off.</td>\n",
       "      <td>An air plane is taking off.</td>\n",
       "    </tr>\n",
       "    <tr>\n",
       "      <th>1</th>\n",
       "      <td>3.80</td>\n",
       "      <td>A man is playing a large flute.</td>\n",
       "      <td>A man is playing a flute.</td>\n",
       "    </tr>\n",
       "    <tr>\n",
       "      <th>2</th>\n",
       "      <td>3.80</td>\n",
       "      <td>A man is spreading shreded cheese on a pizza.</td>\n",
       "      <td>A man is spreading shredded cheese on an uncoo...</td>\n",
       "    </tr>\n",
       "    <tr>\n",
       "      <th>3</th>\n",
       "      <td>2.60</td>\n",
       "      <td>Three men are playing chess.</td>\n",
       "      <td>Two men are playing chess.</td>\n",
       "    </tr>\n",
       "    <tr>\n",
       "      <th>4</th>\n",
       "      <td>4.25</td>\n",
       "      <td>A man is playing the cello.</td>\n",
       "      <td>A man seated is playing the cello.</td>\n",
       "    </tr>\n",
       "  </tbody>\n",
       "</table>\n",
       "</div>"
      ],
      "text/plain": [
       "   score                                      sentence1  \\\n",
       "0   5.00                         A plane is taking off.   \n",
       "1   3.80                A man is playing a large flute.   \n",
       "2   3.80  A man is spreading shreded cheese on a pizza.   \n",
       "3   2.60                   Three men are playing chess.   \n",
       "4   4.25                    A man is playing the cello.   \n",
       "\n",
       "                                           sentence2  \n",
       "0                        An air plane is taking off.  \n",
       "1                          A man is playing a flute.  \n",
       "2  A man is spreading shredded cheese on an uncoo...  \n",
       "3                         Two men are playing chess.  \n",
       "4                 A man seated is playing the cello.  "
      ]
     },
     "execution_count": 5,
     "metadata": {},
     "output_type": "execute_result"
    }
   ],
   "source": [
    "train_df.head()"
   ]
  },
  {
   "cell_type": "code",
   "execution_count": 6,
   "id": "d669c1ae",
   "metadata": {},
   "outputs": [],
   "source": [
    "train_df = train_df.dropna()\n",
    "validation_df = validation_df.dropna()\n",
    "test_df = test_df.dropna()"
   ]
  },
  {
   "cell_type": "code",
   "execution_count": 7,
   "id": "7e7d7f46",
   "metadata": {},
   "outputs": [
    {
     "data": {
      "text/plain": [
       "score        5749\n",
       "sentence1    5749\n",
       "sentence2    5749\n",
       "dtype: int64"
      ]
     },
     "execution_count": 7,
     "metadata": {},
     "output_type": "execute_result"
    }
   ],
   "source": [
    "train_df.count()"
   ]
  },
  {
   "cell_type": "code",
   "execution_count": 8,
   "id": "c20d96a9",
   "metadata": {},
   "outputs": [
    {
     "data": {
      "text/plain": [
       "score        1500\n",
       "sentence1    1500\n",
       "sentence2    1500\n",
       "dtype: int64"
      ]
     },
     "execution_count": 8,
     "metadata": {},
     "output_type": "execute_result"
    }
   ],
   "source": [
    "validation_df.count()"
   ]
  },
  {
   "cell_type": "code",
   "execution_count": 9,
   "id": "f65e2f87",
   "metadata": {},
   "outputs": [
    {
     "data": {
      "text/plain": [
       "score        1379\n",
       "sentence1    1379\n",
       "sentence2    1379\n",
       "dtype: int64"
      ]
     },
     "execution_count": 9,
     "metadata": {},
     "output_type": "execute_result"
    }
   ],
   "source": [
    "test_df.count()"
   ]
  },
  {
   "cell_type": "markdown",
   "id": "c74055f1",
   "metadata": {},
   "source": [
    "# Data Generator"
   ]
  },
  {
   "cell_type": "code",
   "execution_count": 10,
   "id": "c608f9a2",
   "metadata": {},
   "outputs": [],
   "source": [
    "max_length = 128  # Maximum length of input sentence to the model.\n",
    "batch_size = 32\n",
    "epochs = 50"
   ]
  },
  {
   "cell_type": "code",
   "execution_count": 11,
   "id": "2500144f",
   "metadata": {},
   "outputs": [],
   "source": [
    "class BertSemanticDataGenerator(tf.keras.utils.Sequence):\n",
    "    def __init__(\n",
    "        self,\n",
    "        sentence_pairs,\n",
    "        scores,\n",
    "        batch_size=batch_size,\n",
    "        shuffle=True,\n",
    "        include_targets=True,\n",
    "    ):\n",
    "        self.sentence_pairs = sentence_pairs\n",
    "        self.scores = scores\n",
    "        self.shuffle = shuffle\n",
    "        self.batch_size = batch_size\n",
    "        self.include_targets = include_targets\n",
    "        # Load our BERT Tokenizer to encode the text.\n",
    "        # We will use base-base-uncased pretrained model.\n",
    "        self.tokenizer = transformers.BertTokenizer.from_pretrained(\n",
    "            \"bert-base-uncased\", do_lower_case=True\n",
    "        )\n",
    "        self.indexes = np.arange(len(self.sentence_pairs))\n",
    "        self.on_epoch_end()\n",
    "\n",
    "    def __len__(self):\n",
    "        # Denotes the number of batches per epoch.\n",
    "        return len(self.sentence_pairs) // self.batch_size\n",
    "\n",
    "    def __getitem__(self, idx):\n",
    "        # Retrieves the batch of index.\n",
    "        indexes = self.indexes[idx * self.batch_size : (idx + 1) * self.batch_size]\n",
    "        sentence_pairs = self.sentence_pairs[indexes]\n",
    "\n",
    "        # With BERT tokenizer's batch_encode_plus batch of both the sentences are\n",
    "        # encoded together and separated by [SEP] token.\n",
    "        encoded = self.tokenizer.batch_encode_plus(\n",
    "            sentence_pairs.tolist(),\n",
    "            add_special_tokens=True,\n",
    "            max_length=max_length,\n",
    "            return_attention_mask=True,\n",
    "            return_token_type_ids=True,\n",
    "            pad_to_max_length=True,\n",
    "            truncation=True,\n",
    "            return_tensors=\"tf\",\n",
    "        )\n",
    "\n",
    "        # Convert batch of encoded features to numpy array.\n",
    "        input_ids = np.array(encoded[\"input_ids\"], dtype=\"int32\")\n",
    "        attention_masks = np.array(encoded[\"attention_mask\"], dtype=\"int32\")\n",
    "        token_type_ids = np.array(encoded[\"token_type_ids\"], dtype=\"int32\")\n",
    "\n",
    "        # Set to true if data generator is used for training/validation.\n",
    "        if self.include_targets:\n",
    "            scores = np.array(self.scores[indexes], dtype=\"int32\")\n",
    "            return [input_ids, attention_masks, token_type_ids], scores\n",
    "        else:\n",
    "            return [input_ids, attention_masks, token_type_ids]\n",
    "\n",
    "    def on_epoch_end(self):\n",
    "        # Shuffle indexes after each epoch if shuffle is set to True.\n",
    "        if self.shuffle:\n",
    "            np.random.RandomState(42).shuffle(self.indexes)"
   ]
  },
  {
   "cell_type": "markdown",
   "id": "0d243c7d",
   "metadata": {},
   "source": [
    "# Setup Model Architecture"
   ]
  },
  {
   "cell_type": "code",
   "execution_count": 12,
   "id": "ac215309",
   "metadata": {
    "scrolled": true
   },
   "outputs": [
    {
     "name": "stdout",
     "output_type": "stream",
     "text": [
      "INFO:tensorflow:Using MirroredStrategy with devices ('/job:localhost/replica:0/task:0/device:GPU:0',)\n"
     ]
    },
    {
     "name": "stderr",
     "output_type": "stream",
     "text": [
      "Some layers from the model checkpoint at bert-base-uncased were not used when initializing TFBertModel: ['nsp___cls', 'mlm___cls']\n",
      "- This IS expected if you are initializing TFBertModel from the checkpoint of a model trained on another task or with another architecture (e.g. initializing a BertForSequenceClassification model from a BertForPreTraining model).\n",
      "- This IS NOT expected if you are initializing TFBertModel from the checkpoint of a model that you expect to be exactly identical (initializing a BertForSequenceClassification model from a BertForSequenceClassification model).\n",
      "All the layers of TFBertModel were initialized from the model checkpoint at bert-base-uncased.\n",
      "If your task is similar to the task the model of the checkpoint was trained on, you can already use TFBertModel for predictions without further training.\n"
     ]
    },
    {
     "name": "stdout",
     "output_type": "stream",
     "text": [
      "WARNING:tensorflow:The parameters `output_attentions`, `output_hidden_states` and `use_cache` cannot be updated when calling a model.They have to be set to True/False in the config object (i.e.: `config=XConfig.from_pretrained('name', output_attentions=True)`).\n",
      "WARNING:tensorflow:AutoGraph could not transform <bound method Socket.send of <zmq.sugar.socket.Socket object at 0x7f5ee9babb80>> and will run it as-is.\n",
      "Please report this to the TensorFlow team. When filing the bug, set the verbosity to 10 (on Linux, `export AUTOGRAPH_VERBOSITY=10`) and attach the full output.\n",
      "Cause: module, class, method, function, traceback, frame, or code object was expected, got cython_function_or_method\n",
      "To silence this warning, decorate the function with @tf.autograph.experimental.do_not_convert\n",
      "WARNING: AutoGraph could not transform <bound method Socket.send of <zmq.sugar.socket.Socket object at 0x7f5ee9babb80>> and will run it as-is.\n",
      "Please report this to the TensorFlow team. When filing the bug, set the verbosity to 10 (on Linux, `export AUTOGRAPH_VERBOSITY=10`) and attach the full output.\n",
      "Cause: module, class, method, function, traceback, frame, or code object was expected, got cython_function_or_method\n",
      "To silence this warning, decorate the function with @tf.autograph.experimental.do_not_convert\n",
      "WARNING:tensorflow:The parameter `return_dict` cannot be set in graph mode and will always be set to `True`.\n",
      "INFO:tensorflow:Reduce to /job:localhost/replica:0/task:0/device:CPU:0 then broadcast to ('/job:localhost/replica:0/task:0/device:CPU:0',).\n",
      "INFO:tensorflow:Reduce to /job:localhost/replica:0/task:0/device:CPU:0 then broadcast to ('/job:localhost/replica:0/task:0/device:CPU:0',).\n",
      "INFO:tensorflow:Reduce to /job:localhost/replica:0/task:0/device:CPU:0 then broadcast to ('/job:localhost/replica:0/task:0/device:CPU:0',).\n",
      "INFO:tensorflow:Reduce to /job:localhost/replica:0/task:0/device:CPU:0 then broadcast to ('/job:localhost/replica:0/task:0/device:CPU:0',).\n",
      "INFO:tensorflow:Reduce to /job:localhost/replica:0/task:0/device:CPU:0 then broadcast to ('/job:localhost/replica:0/task:0/device:CPU:0',).\n",
      "INFO:tensorflow:Reduce to /job:localhost/replica:0/task:0/device:CPU:0 then broadcast to ('/job:localhost/replica:0/task:0/device:CPU:0',).\n",
      "INFO:tensorflow:Reduce to /job:localhost/replica:0/task:0/device:CPU:0 then broadcast to ('/job:localhost/replica:0/task:0/device:CPU:0',).\n",
      "INFO:tensorflow:Reduce to /job:localhost/replica:0/task:0/device:CPU:0 then broadcast to ('/job:localhost/replica:0/task:0/device:CPU:0',).\n",
      "Strategy: <tensorflow.python.distribute.mirrored_strategy.MirroredStrategy object at 0x7f5dd0956d90>\n",
      "Model: \"model\"\n",
      "__________________________________________________________________________________________________\n",
      "Layer (type)                    Output Shape         Param #     Connected to                     \n",
      "==================================================================================================\n",
      "input_ids (InputLayer)          [(None, 128)]        0                                            \n",
      "__________________________________________________________________________________________________\n",
      "attention_masks (InputLayer)    [(None, 128)]        0                                            \n",
      "__________________________________________________________________________________________________\n",
      "token_type_ids (InputLayer)     [(None, 128)]        0                                            \n",
      "__________________________________________________________________________________________________\n",
      "tf_bert_model (TFBertModel)     TFBaseModelOutputWit 109482240   input_ids[0][0]                  \n",
      "                                                                 attention_masks[0][0]            \n",
      "                                                                 token_type_ids[0][0]             \n",
      "__________________________________________________________________________________________________\n",
      "global_average_pooling1d (Globa (None, 768)          0           tf_bert_model[0][0]              \n",
      "__________________________________________________________________________________________________\n",
      "dense (Dense)                   (None, 32)           24608       global_average_pooling1d[0][0]   \n",
      "__________________________________________________________________________________________________\n",
      "dropout_37 (Dropout)            (None, 32)           0           dense[0][0]                      \n",
      "__________________________________________________________________________________________________\n",
      "dense_1 (Dense)                 (None, 1)            33          dropout_37[0][0]                 \n",
      "==================================================================================================\n",
      "Total params: 109,506,881\n",
      "Trainable params: 24,641\n",
      "Non-trainable params: 109,482,240\n",
      "__________________________________________________________________________________________________\n"
     ]
    }
   ],
   "source": [
    "# Create the model under a distribution strategy scope.\n",
    "strategy = tf.distribute.MirroredStrategy()\n",
    "\n",
    "with strategy.scope():\n",
    "    # Encoded token ids from BERT tokenizer.\n",
    "    input_ids = tf.keras.layers.Input(\n",
    "        shape=(max_length,), dtype=tf.int32, name=\"input_ids\"\n",
    "    )\n",
    "    # Attention masks indicates to the model which tokens should be attended to.\n",
    "    attention_masks = tf.keras.layers.Input(\n",
    "        shape=(max_length,), dtype=tf.int32, name=\"attention_masks\"\n",
    "    )\n",
    "    # Token type ids are binary masks identifying different sequences in the model.\n",
    "    token_type_ids = tf.keras.layers.Input(\n",
    "        shape=(max_length,), dtype=tf.int32, name=\"token_type_ids\"\n",
    "    )\n",
    "    # Loading pretrained BERT model.\n",
    "    bert_model = transformers.TFBertModel.from_pretrained(\"bert-base-uncased\")\n",
    "    # Freeze the BERT model to reuse the pretrained features without modifying them.\n",
    "    bert_model.trainable = False\n",
    "\n",
    "    bert_outputs = bert_model(\n",
    "        input_ids, attention_mask=attention_masks, token_type_ids=token_type_ids\n",
    "    )\n",
    "    last_hidden_state = bert_outputs[0]\n",
    "    \n",
    "    # Applying hybrid pooling approach to bi_lstm sequence output.\n",
    "    avg_pool = tf.keras.layers.GlobalAveragePooling1D()(last_hidden_state)\n",
    "    dense_layer = tf.keras.layers.Dense(32, activation=\"relu\")(avg_pool)\n",
    "    dropout = tf.keras.layers.Dropout(0.5)(dense_layer)\n",
    "    output_layer = tf.keras.layers.Dense(1)(dropout)\n",
    "    model = tf.keras.models.Model(\n",
    "        inputs=[input_ids, attention_masks, token_type_ids], outputs=output_layer\n",
    "    )\n",
    "\n",
    "    model.compile(\n",
    "        optimizer=tf.keras.optimizers.Adam(),\n",
    "        loss=\"mse\",\n",
    "        metrics=[\n",
    "            tf.keras.metrics.RootMeanSquaredError()\n",
    "        ],\n",
    "    )\n",
    "\n",
    "\n",
    "print(f\"Strategy: {strategy}\")\n",
    "model.summary()"
   ]
  },
  {
   "cell_type": "markdown",
   "id": "df06f6e3",
   "metadata": {},
   "source": [
    "# Convert Data"
   ]
  },
  {
   "cell_type": "code",
   "execution_count": 13,
   "id": "6b060145",
   "metadata": {},
   "outputs": [],
   "source": [
    "train_data = BertSemanticDataGenerator(\n",
    "    train_df[[\"sentence1\", \"sentence2\"]].values.astype(\"str\"),\n",
    "    train_df['score'].values,\n",
    "    batch_size=batch_size,\n",
    "    shuffle=True,\n",
    ")\n",
    "\n",
    "valid_data = BertSemanticDataGenerator(\n",
    "    validation_df[[\"sentence1\", \"sentence2\"]].values.astype(\"str\"),\n",
    "    validation_df['score'].values,\n",
    "    batch_size=batch_size,\n",
    "    shuffle=False,\n",
    ")\n",
    "\n",
    "test_data = BertSemanticDataGenerator(\n",
    "    test_df[[\"sentence1\", \"sentence2\"]].values.astype(\"str\"),\n",
    "    test_df['score'].values,\n",
    "    batch_size=batch_size,\n",
    "    shuffle=False,\n",
    ")"
   ]
  },
  {
   "cell_type": "markdown",
   "id": "798ce61f",
   "metadata": {},
   "source": [
    "# Train Model without Fine-tuning"
   ]
  },
  {
   "cell_type": "code",
   "execution_count": 14,
   "id": "6c17373c",
   "metadata": {},
   "outputs": [],
   "source": [
    "class TimeHistory(tf.keras.callbacks.Callback):\n",
    "    def on_train_begin(self, logs={}):\n",
    "        self.times = []\n",
    "\n",
    "    def on_epoch_begin(self, batch, logs={}):\n",
    "        self.epoch_time_start = time.time()\n",
    "\n",
    "    def on_epoch_end(self, batch, logs={}):\n",
    "        self.times.append(time.time() - self.epoch_time_start)"
   ]
  },
  {
   "cell_type": "code",
   "execution_count": 15,
   "id": "b2eef108",
   "metadata": {},
   "outputs": [],
   "source": [
    "time_callback = TimeHistory()"
   ]
  },
  {
   "cell_type": "code",
   "execution_count": 16,
   "id": "7ba3b346",
   "metadata": {
    "scrolled": false
   },
   "outputs": [
    {
     "name": "stdout",
     "output_type": "stream",
     "text": [
      "Epoch 1/50\n",
      "WARNING:tensorflow:The parameters `output_attentions`, `output_hidden_states` and `use_cache` cannot be updated when calling a model.They have to be set to True/False in the config object (i.e.: `config=XConfig.from_pretrained('name', output_attentions=True)`).\n",
      "WARNING:tensorflow:The parameter `return_dict` cannot be set in graph mode and will always be set to `True`.\n"
     ]
    },
    {
     "name": "stderr",
     "output_type": "stream",
     "text": [
      "/home/tr92346-local/.local/lib/python3.8/site-packages/transformers/tokenization_utils_base.py:2073: FutureWarning: The `pad_to_max_length` argument is deprecated and will be removed in a future version, use `padding=True` or `padding='longest'` to pad to the longest sequence in the batch, or use `padding='max_length'` to pad to a max length. In this case, you can give a specific length with `max_length` (e.g. `max_length=45`) or leave max_length to None to pad to the maximal input size of the model (e.g. 512 for Bert).\n",
      "  warnings.warn(\n"
     ]
    },
    {
     "name": "stdout",
     "output_type": "stream",
     "text": [
      "INFO:tensorflow:Reduce to /job:localhost/replica:0/task:0/device:CPU:0 then broadcast to ('/job:localhost/replica:0/task:0/device:CPU:0',).\n",
      "INFO:tensorflow:Reduce to /job:localhost/replica:0/task:0/device:CPU:0 then broadcast to ('/job:localhost/replica:0/task:0/device:CPU:0',).\n",
      "WARNING:tensorflow:The parameters `output_attentions`, `output_hidden_states` and `use_cache` cannot be updated when calling a model.They have to be set to True/False in the config object (i.e.: `config=XConfig.from_pretrained('name', output_attentions=True)`).\n",
      "WARNING:tensorflow:The parameter `return_dict` cannot be set in graph mode and will always be set to `True`.\n",
      "179/179 [==============================] - ETA: 0s - loss: 3.3187 - root_mean_squared_error: 1.7916WARNING:tensorflow:The parameters `output_attentions`, `output_hidden_states` and `use_cache` cannot be updated when calling a model.They have to be set to True/False in the config object (i.e.: `config=XConfig.from_pretrained('name', output_attentions=True)`).\n",
      "WARNING:tensorflow:The parameter `return_dict` cannot be set in graph mode and will always be set to `True`.\n",
      "179/179 [==============================] - 47s 213ms/step - loss: 3.3132 - root_mean_squared_error: 1.7901 - val_loss: 1.5960 - val_root_mean_squared_error: 1.2633\n",
      "Epoch 2/50\n",
      "179/179 [==============================] - 36s 200ms/step - loss: 1.6840 - root_mean_squared_error: 1.2976 - val_loss: 1.2946 - val_root_mean_squared_error: 1.1378\n",
      "Epoch 3/50\n",
      "179/179 [==============================] - 36s 203ms/step - loss: 1.4562 - root_mean_squared_error: 1.2066 - val_loss: 1.2529 - val_root_mean_squared_error: 1.1193\n",
      "Epoch 4/50\n",
      "179/179 [==============================] - 37s 204ms/step - loss: 1.4167 - root_mean_squared_error: 1.1902 - val_loss: 1.0675 - val_root_mean_squared_error: 1.0332\n",
      "Epoch 5/50\n",
      "179/179 [==============================] - 37s 206ms/step - loss: 1.3324 - root_mean_squared_error: 1.1542 - val_loss: 1.0414 - val_root_mean_squared_error: 1.0205\n",
      "Epoch 6/50\n",
      "179/179 [==============================] - 37s 206ms/step - loss: 1.3172 - root_mean_squared_error: 1.1476 - val_loss: 1.0314 - val_root_mean_squared_error: 1.0156\n",
      "Epoch 7/50\n",
      "179/179 [==============================] - 37s 206ms/step - loss: 1.3015 - root_mean_squared_error: 1.1408 - val_loss: 1.0037 - val_root_mean_squared_error: 1.0019\n",
      "Epoch 8/50\n",
      "179/179 [==============================] - 37s 207ms/step - loss: 1.2576 - root_mean_squared_error: 1.1214 - val_loss: 0.9842 - val_root_mean_squared_error: 0.9921\n",
      "Epoch 9/50\n",
      "179/179 [==============================] - 37s 207ms/step - loss: 1.2570 - root_mean_squared_error: 1.1209 - val_loss: 0.9775 - val_root_mean_squared_error: 0.9887\n",
      "Epoch 10/50\n",
      "179/179 [==============================] - 37s 207ms/step - loss: 1.1804 - root_mean_squared_error: 1.0863 - val_loss: 1.0083 - val_root_mean_squared_error: 1.0042\n",
      "Epoch 11/50\n",
      "179/179 [==============================] - 37s 206ms/step - loss: 1.2143 - root_mean_squared_error: 1.1017 - val_loss: 1.0250 - val_root_mean_squared_error: 1.0124\n",
      "Epoch 12/50\n",
      "179/179 [==============================] - 37s 206ms/step - loss: 1.1836 - root_mean_squared_error: 1.0875 - val_loss: 1.0605 - val_root_mean_squared_error: 1.0298\n",
      "Epoch 13/50\n",
      "179/179 [==============================] - 37s 206ms/step - loss: 1.1675 - root_mean_squared_error: 1.0803 - val_loss: 1.0102 - val_root_mean_squared_error: 1.0051\n",
      "Epoch 14/50\n",
      "179/179 [==============================] - 37s 206ms/step - loss: 1.1779 - root_mean_squared_error: 1.0852 - val_loss: 1.0379 - val_root_mean_squared_error: 1.0188\n",
      "Epoch 15/50\n",
      "179/179 [==============================] - 37s 206ms/step - loss: 1.1212 - root_mean_squared_error: 1.0587 - val_loss: 1.0216 - val_root_mean_squared_error: 1.0108\n",
      "Epoch 16/50\n",
      "179/179 [==============================] - 37s 206ms/step - loss: 1.1458 - root_mean_squared_error: 1.0704 - val_loss: 0.9705 - val_root_mean_squared_error: 0.9851\n",
      "Epoch 17/50\n",
      "179/179 [==============================] - 37s 206ms/step - loss: 1.1299 - root_mean_squared_error: 1.0629 - val_loss: 0.9885 - val_root_mean_squared_error: 0.9942\n",
      "Epoch 18/50\n",
      "179/179 [==============================] - 37s 206ms/step - loss: 1.0829 - root_mean_squared_error: 1.0401 - val_loss: 0.9741 - val_root_mean_squared_error: 0.9870\n",
      "Epoch 19/50\n",
      "179/179 [==============================] - 37s 206ms/step - loss: 1.1180 - root_mean_squared_error: 1.0571 - val_loss: 1.0540 - val_root_mean_squared_error: 1.0267\n",
      "Epoch 20/50\n",
      "179/179 [==============================] - 37s 207ms/step - loss: 1.0696 - root_mean_squared_error: 1.0342 - val_loss: 0.9698 - val_root_mean_squared_error: 0.9848\n",
      "Epoch 21/50\n",
      "179/179 [==============================] - 37s 206ms/step - loss: 1.0919 - root_mean_squared_error: 1.0449 - val_loss: 0.9406 - val_root_mean_squared_error: 0.9698\n",
      "Epoch 22/50\n",
      "179/179 [==============================] - 37s 206ms/step - loss: 1.0551 - root_mean_squared_error: 1.0268 - val_loss: 1.0104 - val_root_mean_squared_error: 1.0052\n",
      "Epoch 23/50\n",
      "179/179 [==============================] - 37s 206ms/step - loss: 1.0837 - root_mean_squared_error: 1.0409 - val_loss: 1.0165 - val_root_mean_squared_error: 1.0082\n",
      "Epoch 24/50\n",
      "179/179 [==============================] - 37s 206ms/step - loss: 1.0567 - root_mean_squared_error: 1.0276 - val_loss: 1.0445 - val_root_mean_squared_error: 1.0220\n",
      "Epoch 25/50\n",
      "179/179 [==============================] - 37s 207ms/step - loss: 1.0981 - root_mean_squared_error: 1.0479 - val_loss: 0.9889 - val_root_mean_squared_error: 0.9945\n",
      "Epoch 26/50\n",
      "179/179 [==============================] - 37s 206ms/step - loss: 1.0526 - root_mean_squared_error: 1.0259 - val_loss: 1.0940 - val_root_mean_squared_error: 1.0459\n",
      "Epoch 27/50\n",
      "179/179 [==============================] - 37s 206ms/step - loss: 1.0249 - root_mean_squared_error: 1.0122 - val_loss: 0.9899 - val_root_mean_squared_error: 0.9950\n",
      "Epoch 28/50\n",
      "179/179 [==============================] - 37s 206ms/step - loss: 1.0411 - root_mean_squared_error: 1.0202 - val_loss: 0.9689 - val_root_mean_squared_error: 0.9843\n",
      "Epoch 29/50\n",
      "179/179 [==============================] - 37s 206ms/step - loss: 1.0502 - root_mean_squared_error: 1.0247 - val_loss: 1.0067 - val_root_mean_squared_error: 1.0034\n",
      "Epoch 30/50\n",
      "179/179 [==============================] - 37s 206ms/step - loss: 1.0367 - root_mean_squared_error: 1.0180 - val_loss: 0.9696 - val_root_mean_squared_error: 0.9847\n",
      "Epoch 31/50\n",
      "179/179 [==============================] - 37s 206ms/step - loss: 1.0433 - root_mean_squared_error: 1.0214 - val_loss: 0.9906 - val_root_mean_squared_error: 0.9953\n",
      "Epoch 32/50\n",
      "179/179 [==============================] - 37s 206ms/step - loss: 1.0427 - root_mean_squared_error: 1.0211 - val_loss: 0.9618 - val_root_mean_squared_error: 0.9807\n",
      "Epoch 33/50\n",
      "179/179 [==============================] - 37s 206ms/step - loss: 1.0473 - root_mean_squared_error: 1.0233 - val_loss: 0.9795 - val_root_mean_squared_error: 0.9897\n",
      "Epoch 34/50\n",
      "179/179 [==============================] - 37s 206ms/step - loss: 1.0336 - root_mean_squared_error: 1.0166 - val_loss: 1.0146 - val_root_mean_squared_error: 1.0073\n",
      "Epoch 35/50\n",
      "179/179 [==============================] - 37s 206ms/step - loss: 1.0294 - root_mean_squared_error: 1.0145 - val_loss: 0.9585 - val_root_mean_squared_error: 0.9790\n",
      "Epoch 36/50\n",
      "179/179 [==============================] - 37s 206ms/step - loss: 1.0382 - root_mean_squared_error: 1.0189 - val_loss: 0.9686 - val_root_mean_squared_error: 0.9842\n",
      "Epoch 37/50\n",
      "179/179 [==============================] - 37s 206ms/step - loss: 0.9886 - root_mean_squared_error: 0.9942 - val_loss: 0.9686 - val_root_mean_squared_error: 0.9842\n",
      "Epoch 38/50\n",
      "179/179 [==============================] - 37s 206ms/step - loss: 1.0255 - root_mean_squared_error: 1.0126 - val_loss: 0.9419 - val_root_mean_squared_error: 0.9705\n",
      "Epoch 39/50\n",
      "179/179 [==============================] - 37s 206ms/step - loss: 1.0471 - root_mean_squared_error: 1.0232 - val_loss: 0.9393 - val_root_mean_squared_error: 0.9692\n",
      "Epoch 40/50\n",
      "179/179 [==============================] - 37s 207ms/step - loss: 0.9948 - root_mean_squared_error: 0.9973 - val_loss: 0.9543 - val_root_mean_squared_error: 0.9769\n",
      "Epoch 41/50\n",
      "179/179 [==============================] - 37s 206ms/step - loss: 0.9705 - root_mean_squared_error: 0.9851 - val_loss: 0.9782 - val_root_mean_squared_error: 0.9890\n",
      "Epoch 42/50\n",
      "179/179 [==============================] - 37s 206ms/step - loss: 0.9900 - root_mean_squared_error: 0.9948 - val_loss: 1.0350 - val_root_mean_squared_error: 1.0173\n",
      "Epoch 43/50\n",
      "179/179 [==============================] - 37s 206ms/step - loss: 1.0037 - root_mean_squared_error: 1.0016 - val_loss: 1.0336 - val_root_mean_squared_error: 1.0167\n",
      "Epoch 44/50\n",
      "179/179 [==============================] - 37s 206ms/step - loss: 1.0036 - root_mean_squared_error: 1.0017 - val_loss: 1.0534 - val_root_mean_squared_error: 1.0264\n",
      "Epoch 45/50\n",
      "179/179 [==============================] - 37s 207ms/step - loss: 0.9884 - root_mean_squared_error: 0.9940 - val_loss: 0.9968 - val_root_mean_squared_error: 0.9984\n",
      "Epoch 46/50\n",
      "179/179 [==============================] - 37s 206ms/step - loss: 0.9793 - root_mean_squared_error: 0.9895 - val_loss: 0.9668 - val_root_mean_squared_error: 0.9833\n",
      "Epoch 47/50\n",
      "179/179 [==============================] - 37s 206ms/step - loss: 1.0051 - root_mean_squared_error: 1.0024 - val_loss: 0.9691 - val_root_mean_squared_error: 0.9844\n",
      "Epoch 48/50\n",
      "179/179 [==============================] - 37s 206ms/step - loss: 0.9557 - root_mean_squared_error: 0.9773 - val_loss: 1.0174 - val_root_mean_squared_error: 1.0087\n",
      "Epoch 49/50\n",
      "179/179 [==============================] - 37s 206ms/step - loss: 0.9858 - root_mean_squared_error: 0.9928 - val_loss: 0.9393 - val_root_mean_squared_error: 0.9692\n",
      "Epoch 50/50\n",
      "179/179 [==============================] - 37s 207ms/step - loss: 0.9671 - root_mean_squared_error: 0.9833 - val_loss: 0.9615 - val_root_mean_squared_error: 0.9805\n"
     ]
    }
   ],
   "source": [
    "history = model.fit(\n",
    "    train_data,\n",
    "    validation_data=valid_data,\n",
    "    epochs=epochs,\n",
    "    use_multiprocessing=True,\n",
    "    workers=-1,\n",
    "    callbacks = [time_callback]\n",
    ")"
   ]
  },
  {
   "cell_type": "code",
   "execution_count": 17,
   "id": "bf5b09af",
   "metadata": {},
   "outputs": [],
   "source": [
    "hist_df = pd.DataFrame(history.history) \n",
    "hist_csv_file = 'using-standard-bert-history-02.csv'\n",
    "with open(hist_csv_file, mode='w') as f:\n",
    "    hist_df.to_csv(f)"
   ]
  },
  {
   "cell_type": "code",
   "execution_count": 18,
   "id": "63c957aa",
   "metadata": {},
   "outputs": [
    {
     "name": "stdout",
     "output_type": "stream",
     "text": [
      "[47.02560257911682, 35.75920867919922, 36.31362795829773, 36.5763635635376, 36.77233147621155, 36.895480155944824, 36.90148663520813, 36.951167583465576, 36.99467086791992, 36.963823318481445, 36.922207832336426, 36.88620615005493, 36.84745907783508, 36.88080906867981, 36.88453507423401, 36.913984060287476, 36.8860342502594, 36.764148235321045, 36.89016032218933, 36.98160123825073, 36.91917586326599, 36.86172676086426, 36.871763944625854, 36.939115047454834, 37.00450897216797, 36.887216329574585, 36.87971782684326, 36.8944628238678, 36.85270047187805, 36.891921043395996, 36.93081259727478, 36.887032985687256, 36.80319023132324, 36.805171728134155, 36.916136026382446, 36.87279462814331, 36.890655517578125, 36.7931444644928, 36.862993478775024, 36.95935392379761, 36.810678243637085, 36.89152526855469, 36.843350410461426, 36.849273443222046, 36.95868682861328, 36.87235116958618, 36.890642404556274, 36.86432075500488, 36.853111743927, 36.96678185462952]\n"
     ]
    }
   ],
   "source": [
    "print(time_callback.times)"
   ]
  },
  {
   "cell_type": "code",
   "execution_count": 19,
   "id": "ea7594e9",
   "metadata": {},
   "outputs": [],
   "source": [
    "hist_time_df = pd.DataFrame(time_callback.times) \n",
    "hist_csv_file = 'using-standard-bert-time-02.csv'\n",
    "with open(hist_csv_file, mode='w') as f:\n",
    "    hist_time_df.to_csv(f)"
   ]
  },
  {
   "cell_type": "code",
   "execution_count": 20,
   "id": "440af6f8",
   "metadata": {},
   "outputs": [],
   "source": [
    "model.save_weights('./using-standard-bert-model-02.h5')"
   ]
  },
  {
   "cell_type": "markdown",
   "id": "24223ef2",
   "metadata": {},
   "source": [
    "# Evaluation"
   ]
  },
  {
   "cell_type": "code",
   "execution_count": 21,
   "id": "74d62d43",
   "metadata": {},
   "outputs": [
    {
     "name": "stdout",
     "output_type": "stream",
     "text": [
      "43/43 [==============================] - 7s 152ms/step - loss: 1.1218 - root_mean_squared_error: 1.0592\n"
     ]
    },
    {
     "data": {
      "text/plain": [
       "[1.1218174695968628, 1.0591588020324707]"
      ]
     },
     "execution_count": 21,
     "metadata": {},
     "output_type": "execute_result"
    }
   ],
   "source": [
    "model.evaluate(test_data, verbose=1)"
   ]
  },
  {
   "cell_type": "markdown",
   "id": "99a68754",
   "metadata": {},
   "source": [
    "# Testing"
   ]
  },
  {
   "cell_type": "code",
   "execution_count": 22,
   "id": "cc09d2ed",
   "metadata": {},
   "outputs": [],
   "source": [
    "def check_similarity(sentence1, sentence2):\n",
    "    sentence_pairs = np.array([[str(sentence1), str(sentence2)]])\n",
    "    data = BertSemanticDataGenerator(\n",
    "        sentence_pairs, scores=None, batch_size=1, shuffle=False, include_targets=False,\n",
    "    )\n",
    "\n",
    "    score = model.predict(data)[0]\n",
    "    return score"
   ]
  },
  {
   "cell_type": "code",
   "execution_count": 23,
   "id": "76773ae4",
   "metadata": {},
   "outputs": [
    {
     "name": "stdout",
     "output_type": "stream",
     "text": [
      "WARNING:tensorflow:The parameters `output_attentions`, `output_hidden_states` and `use_cache` cannot be updated when calling a model.They have to be set to True/False in the config object (i.e.: `config=XConfig.from_pretrained('name', output_attentions=True)`).\n",
      "WARNING:tensorflow:The parameter `return_dict` cannot be set in graph mode and will always be set to `True`.\n"
     ]
    },
    {
     "data": {
      "text/plain": [
       "array([3.779285], dtype=float32)"
      ]
     },
     "execution_count": 23,
     "metadata": {},
     "output_type": "execute_result"
    }
   ],
   "source": [
    "sentence1 = 'A distributed system is a system from multiple computers which communicate with each other via network'\n",
    "sentence2 = 'A distributed system is a system from one computer without network'\n",
    "check_similarity(sentence1, sentence2)"
   ]
  },
  {
   "cell_type": "code",
   "execution_count": 24,
   "id": "811e3bcd",
   "metadata": {},
   "outputs": [
    {
     "data": {
      "text/plain": [
       "array([2.6128945], dtype=float32)"
      ]
     },
     "execution_count": 24,
     "metadata": {},
     "output_type": "execute_result"
    }
   ],
   "source": [
    "sentence1 = 'asdsd'\n",
    "sentence2 = 'asdsad are good sdsdsdsds'\n",
    "check_similarity(sentence1, sentence2)"
   ]
  },
  {
   "cell_type": "code",
   "execution_count": 25,
   "id": "3ab7c1ad",
   "metadata": {},
   "outputs": [
    {
     "data": {
      "text/plain": [
       "array([1.139409], dtype=float32)"
      ]
     },
     "execution_count": 25,
     "metadata": {},
     "output_type": "execute_result"
    }
   ],
   "source": [
    "sentence1 = 'the activity of learning or being trained'\n",
    "sentence2 = 'the gradual process of acquiring knowledge.'\n",
    "check_similarity(sentence1, sentence2)"
   ]
  },
  {
   "cell_type": "code",
   "execution_count": null,
   "id": "e28e064c",
   "metadata": {},
   "outputs": [],
   "source": []
  }
 ],
 "metadata": {
  "kernelspec": {
   "display_name": "Python 3",
   "language": "python",
   "name": "python3"
  },
  "language_info": {
   "codemirror_mode": {
    "name": "ipython",
    "version": 3
   },
   "file_extension": ".py",
   "mimetype": "text/x-python",
   "name": "python",
   "nbconvert_exporter": "python",
   "pygments_lexer": "ipython3",
   "version": "3.8.6"
  }
 },
 "nbformat": 4,
 "nbformat_minor": 5
}
