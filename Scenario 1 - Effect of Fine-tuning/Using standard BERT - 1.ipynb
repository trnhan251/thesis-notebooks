{
 "cells": [
  {
   "cell_type": "code",
   "execution_count": 1,
   "id": "5a99e7f3",
   "metadata": {},
   "outputs": [],
   "source": [
    "import os\n",
    "os.environ[\"TF_FORCE_GPU_ALLOW_GROWTH\"]=\"true\"\n",
    "# https://github.com/tensorflow/tensorflow/issues/33721 "
   ]
  },
  {
   "cell_type": "code",
   "execution_count": 2,
   "id": "a901f030",
   "metadata": {},
   "outputs": [],
   "source": [
    "import numpy as np\n",
    "import pandas as pd\n",
    "import tensorflow as tf\n",
    "import transformers\n",
    "import seaborn as sns\n",
    "import time\n",
    "from csv import QUOTE_NONE"
   ]
  },
  {
   "cell_type": "code",
   "execution_count": 3,
   "id": "69e054cc",
   "metadata": {},
   "outputs": [
    {
     "name": "stdout",
     "output_type": "stream",
     "text": [
      "Num GPUs Available:  1\n"
     ]
    }
   ],
   "source": [
    "print(\"Num GPUs Available: \", len(tf.config.list_physical_devices('GPU')))"
   ]
  },
  {
   "cell_type": "code",
   "execution_count": 4,
   "id": "4b6ca427",
   "metadata": {},
   "outputs": [],
   "source": [
    "train_df = pd.read_csv('../sts-train.csv', sep='\\t', usecols=[4, 5, 6], header=None, quoting=QUOTE_NONE, names=['score', 'sentence1', 'sentence2'])\n",
    "validation_df = pd.read_csv('../sts-dev.csv', sep='\\t', usecols=[4, 5, 6], header=None, quoting=QUOTE_NONE, names=['score', 'sentence1', 'sentence2'])\n",
    "test_df = pd.read_csv('../sts-test.csv', sep='\\t', usecols=[4, 5, 6], header=None, quoting=QUOTE_NONE, names=['score', 'sentence1', 'sentence2'])"
   ]
  },
  {
   "cell_type": "code",
   "execution_count": 5,
   "id": "2602e84a",
   "metadata": {},
   "outputs": [
    {
     "data": {
      "text/html": [
       "<div>\n",
       "<style scoped>\n",
       "    .dataframe tbody tr th:only-of-type {\n",
       "        vertical-align: middle;\n",
       "    }\n",
       "\n",
       "    .dataframe tbody tr th {\n",
       "        vertical-align: top;\n",
       "    }\n",
       "\n",
       "    .dataframe thead th {\n",
       "        text-align: right;\n",
       "    }\n",
       "</style>\n",
       "<table border=\"1\" class=\"dataframe\">\n",
       "  <thead>\n",
       "    <tr style=\"text-align: right;\">\n",
       "      <th></th>\n",
       "      <th>score</th>\n",
       "      <th>sentence1</th>\n",
       "      <th>sentence2</th>\n",
       "    </tr>\n",
       "  </thead>\n",
       "  <tbody>\n",
       "    <tr>\n",
       "      <th>0</th>\n",
       "      <td>5.00</td>\n",
       "      <td>A plane is taking off.</td>\n",
       "      <td>An air plane is taking off.</td>\n",
       "    </tr>\n",
       "    <tr>\n",
       "      <th>1</th>\n",
       "      <td>3.80</td>\n",
       "      <td>A man is playing a large flute.</td>\n",
       "      <td>A man is playing a flute.</td>\n",
       "    </tr>\n",
       "    <tr>\n",
       "      <th>2</th>\n",
       "      <td>3.80</td>\n",
       "      <td>A man is spreading shreded cheese on a pizza.</td>\n",
       "      <td>A man is spreading shredded cheese on an uncoo...</td>\n",
       "    </tr>\n",
       "    <tr>\n",
       "      <th>3</th>\n",
       "      <td>2.60</td>\n",
       "      <td>Three men are playing chess.</td>\n",
       "      <td>Two men are playing chess.</td>\n",
       "    </tr>\n",
       "    <tr>\n",
       "      <th>4</th>\n",
       "      <td>4.25</td>\n",
       "      <td>A man is playing the cello.</td>\n",
       "      <td>A man seated is playing the cello.</td>\n",
       "    </tr>\n",
       "  </tbody>\n",
       "</table>\n",
       "</div>"
      ],
      "text/plain": [
       "   score                                      sentence1  \\\n",
       "0   5.00                         A plane is taking off.   \n",
       "1   3.80                A man is playing a large flute.   \n",
       "2   3.80  A man is spreading shreded cheese on a pizza.   \n",
       "3   2.60                   Three men are playing chess.   \n",
       "4   4.25                    A man is playing the cello.   \n",
       "\n",
       "                                           sentence2  \n",
       "0                        An air plane is taking off.  \n",
       "1                          A man is playing a flute.  \n",
       "2  A man is spreading shredded cheese on an uncoo...  \n",
       "3                         Two men are playing chess.  \n",
       "4                 A man seated is playing the cello.  "
      ]
     },
     "execution_count": 5,
     "metadata": {},
     "output_type": "execute_result"
    }
   ],
   "source": [
    "train_df.head()"
   ]
  },
  {
   "cell_type": "code",
   "execution_count": 6,
   "id": "d669c1ae",
   "metadata": {},
   "outputs": [],
   "source": [
    "train_df = train_df.dropna()\n",
    "validation_df = validation_df.dropna()\n",
    "test_df = test_df.dropna()"
   ]
  },
  {
   "cell_type": "code",
   "execution_count": 7,
   "id": "7e7d7f46",
   "metadata": {},
   "outputs": [
    {
     "data": {
      "text/plain": [
       "score        5749\n",
       "sentence1    5749\n",
       "sentence2    5749\n",
       "dtype: int64"
      ]
     },
     "execution_count": 7,
     "metadata": {},
     "output_type": "execute_result"
    }
   ],
   "source": [
    "train_df.count()"
   ]
  },
  {
   "cell_type": "code",
   "execution_count": 8,
   "id": "c20d96a9",
   "metadata": {},
   "outputs": [
    {
     "data": {
      "text/plain": [
       "score        1500\n",
       "sentence1    1500\n",
       "sentence2    1500\n",
       "dtype: int64"
      ]
     },
     "execution_count": 8,
     "metadata": {},
     "output_type": "execute_result"
    }
   ],
   "source": [
    "validation_df.count()"
   ]
  },
  {
   "cell_type": "code",
   "execution_count": 9,
   "id": "f65e2f87",
   "metadata": {},
   "outputs": [
    {
     "data": {
      "text/plain": [
       "score        1379\n",
       "sentence1    1379\n",
       "sentence2    1379\n",
       "dtype: int64"
      ]
     },
     "execution_count": 9,
     "metadata": {},
     "output_type": "execute_result"
    }
   ],
   "source": [
    "test_df.count()"
   ]
  },
  {
   "cell_type": "markdown",
   "id": "c74055f1",
   "metadata": {},
   "source": [
    "# Data Generator"
   ]
  },
  {
   "cell_type": "code",
   "execution_count": 10,
   "id": "c608f9a2",
   "metadata": {},
   "outputs": [],
   "source": [
    "max_length = 128  # Maximum length of input sentence to the model.\n",
    "batch_size = 32\n",
    "epochs = 50"
   ]
  },
  {
   "cell_type": "code",
   "execution_count": 11,
   "id": "2500144f",
   "metadata": {},
   "outputs": [],
   "source": [
    "class BertSemanticDataGenerator(tf.keras.utils.Sequence):\n",
    "    def __init__(\n",
    "        self,\n",
    "        sentence_pairs,\n",
    "        scores,\n",
    "        batch_size=batch_size,\n",
    "        shuffle=True,\n",
    "        include_targets=True,\n",
    "    ):\n",
    "        self.sentence_pairs = sentence_pairs\n",
    "        self.scores = scores\n",
    "        self.shuffle = shuffle\n",
    "        self.batch_size = batch_size\n",
    "        self.include_targets = include_targets\n",
    "        # Load our BERT Tokenizer to encode the text.\n",
    "        # We will use base-base-uncased pretrained model.\n",
    "        self.tokenizer = transformers.BertTokenizer.from_pretrained(\n",
    "            \"bert-base-uncased\", do_lower_case=True\n",
    "        )\n",
    "        self.indexes = np.arange(len(self.sentence_pairs))\n",
    "        self.on_epoch_end()\n",
    "\n",
    "    def __len__(self):\n",
    "        # Denotes the number of batches per epoch.\n",
    "        return len(self.sentence_pairs) // self.batch_size\n",
    "\n",
    "    def __getitem__(self, idx):\n",
    "        # Retrieves the batch of index.\n",
    "        indexes = self.indexes[idx * self.batch_size : (idx + 1) * self.batch_size]\n",
    "        sentence_pairs = self.sentence_pairs[indexes]\n",
    "\n",
    "        # With BERT tokenizer's batch_encode_plus batch of both the sentences are\n",
    "        # encoded together and separated by [SEP] token.\n",
    "        encoded = self.tokenizer.batch_encode_plus(\n",
    "            sentence_pairs.tolist(),\n",
    "            add_special_tokens=True,\n",
    "            max_length=max_length,\n",
    "            return_attention_mask=True,\n",
    "            return_token_type_ids=True,\n",
    "            pad_to_max_length=True,\n",
    "            truncation=True,\n",
    "            return_tensors=\"tf\",\n",
    "        )\n",
    "\n",
    "        # Convert batch of encoded features to numpy array.\n",
    "        input_ids = np.array(encoded[\"input_ids\"], dtype=\"int32\")\n",
    "        attention_masks = np.array(encoded[\"attention_mask\"], dtype=\"int32\")\n",
    "        token_type_ids = np.array(encoded[\"token_type_ids\"], dtype=\"int32\")\n",
    "\n",
    "        # Set to true if data generator is used for training/validation.\n",
    "        if self.include_targets:\n",
    "            scores = np.array(self.scores[indexes], dtype=\"int32\")\n",
    "            return [input_ids, attention_masks, token_type_ids], scores\n",
    "        else:\n",
    "            return [input_ids, attention_masks, token_type_ids]\n",
    "\n",
    "    def on_epoch_end(self):\n",
    "        # Shuffle indexes after each epoch if shuffle is set to True.\n",
    "        if self.shuffle:\n",
    "            np.random.RandomState(42).shuffle(self.indexes)"
   ]
  },
  {
   "cell_type": "markdown",
   "id": "0d243c7d",
   "metadata": {},
   "source": [
    "# Setup Model Architecture"
   ]
  },
  {
   "cell_type": "code",
   "execution_count": 12,
   "id": "ac215309",
   "metadata": {
    "scrolled": true
   },
   "outputs": [
    {
     "name": "stdout",
     "output_type": "stream",
     "text": [
      "INFO:tensorflow:Using MirroredStrategy with devices ('/job:localhost/replica:0/task:0/device:GPU:0',)\n"
     ]
    },
    {
     "name": "stderr",
     "output_type": "stream",
     "text": [
      "Some layers from the model checkpoint at bert-base-uncased were not used when initializing TFBertModel: ['mlm___cls', 'nsp___cls']\n",
      "- This IS expected if you are initializing TFBertModel from the checkpoint of a model trained on another task or with another architecture (e.g. initializing a BertForSequenceClassification model from a BertForPreTraining model).\n",
      "- This IS NOT expected if you are initializing TFBertModel from the checkpoint of a model that you expect to be exactly identical (initializing a BertForSequenceClassification model from a BertForSequenceClassification model).\n",
      "All the layers of TFBertModel were initialized from the model checkpoint at bert-base-uncased.\n",
      "If your task is similar to the task the model of the checkpoint was trained on, you can already use TFBertModel for predictions without further training.\n"
     ]
    },
    {
     "name": "stdout",
     "output_type": "stream",
     "text": [
      "WARNING:tensorflow:The parameters `output_attentions`, `output_hidden_states` and `use_cache` cannot be updated when calling a model.They have to be set to True/False in the config object (i.e.: `config=XConfig.from_pretrained('name', output_attentions=True)`).\n",
      "WARNING:tensorflow:AutoGraph could not transform <bound method Socket.send of <zmq.sugar.socket.Socket object at 0x7f4045b37b80>> and will run it as-is.\n",
      "Please report this to the TensorFlow team. When filing the bug, set the verbosity to 10 (on Linux, `export AUTOGRAPH_VERBOSITY=10`) and attach the full output.\n",
      "Cause: module, class, method, function, traceback, frame, or code object was expected, got cython_function_or_method\n",
      "To silence this warning, decorate the function with @tf.autograph.experimental.do_not_convert\n",
      "WARNING: AutoGraph could not transform <bound method Socket.send of <zmq.sugar.socket.Socket object at 0x7f4045b37b80>> and will run it as-is.\n",
      "Please report this to the TensorFlow team. When filing the bug, set the verbosity to 10 (on Linux, `export AUTOGRAPH_VERBOSITY=10`) and attach the full output.\n",
      "Cause: module, class, method, function, traceback, frame, or code object was expected, got cython_function_or_method\n",
      "To silence this warning, decorate the function with @tf.autograph.experimental.do_not_convert\n",
      "WARNING:tensorflow:The parameter `return_dict` cannot be set in graph mode and will always be set to `True`.\n",
      "INFO:tensorflow:Reduce to /job:localhost/replica:0/task:0/device:CPU:0 then broadcast to ('/job:localhost/replica:0/task:0/device:CPU:0',).\n",
      "INFO:tensorflow:Reduce to /job:localhost/replica:0/task:0/device:CPU:0 then broadcast to ('/job:localhost/replica:0/task:0/device:CPU:0',).\n",
      "INFO:tensorflow:Reduce to /job:localhost/replica:0/task:0/device:CPU:0 then broadcast to ('/job:localhost/replica:0/task:0/device:CPU:0',).\n",
      "INFO:tensorflow:Reduce to /job:localhost/replica:0/task:0/device:CPU:0 then broadcast to ('/job:localhost/replica:0/task:0/device:CPU:0',).\n",
      "INFO:tensorflow:Reduce to /job:localhost/replica:0/task:0/device:CPU:0 then broadcast to ('/job:localhost/replica:0/task:0/device:CPU:0',).\n",
      "INFO:tensorflow:Reduce to /job:localhost/replica:0/task:0/device:CPU:0 then broadcast to ('/job:localhost/replica:0/task:0/device:CPU:0',).\n",
      "INFO:tensorflow:Reduce to /job:localhost/replica:0/task:0/device:CPU:0 then broadcast to ('/job:localhost/replica:0/task:0/device:CPU:0',).\n",
      "INFO:tensorflow:Reduce to /job:localhost/replica:0/task:0/device:CPU:0 then broadcast to ('/job:localhost/replica:0/task:0/device:CPU:0',).\n",
      "Strategy: <tensorflow.python.distribute.mirrored_strategy.MirroredStrategy object at 0x7f3f2c916e20>\n",
      "Model: \"model\"\n",
      "__________________________________________________________________________________________________\n",
      "Layer (type)                    Output Shape         Param #     Connected to                     \n",
      "==================================================================================================\n",
      "input_ids (InputLayer)          [(None, 128)]        0                                            \n",
      "__________________________________________________________________________________________________\n",
      "attention_masks (InputLayer)    [(None, 128)]        0                                            \n",
      "__________________________________________________________________________________________________\n",
      "token_type_ids (InputLayer)     [(None, 128)]        0                                            \n",
      "__________________________________________________________________________________________________\n",
      "tf_bert_model (TFBertModel)     TFBaseModelOutputWit 109482240   input_ids[0][0]                  \n",
      "                                                                 attention_masks[0][0]            \n",
      "                                                                 token_type_ids[0][0]             \n",
      "__________________________________________________________________________________________________\n",
      "global_average_pooling1d (Globa (None, 768)          0           tf_bert_model[0][0]              \n",
      "__________________________________________________________________________________________________\n",
      "dense (Dense)                   (None, 32)           24608       global_average_pooling1d[0][0]   \n",
      "__________________________________________________________________________________________________\n",
      "dropout_37 (Dropout)            (None, 32)           0           dense[0][0]                      \n",
      "__________________________________________________________________________________________________\n",
      "dense_1 (Dense)                 (None, 1)            33          dropout_37[0][0]                 \n",
      "==================================================================================================\n",
      "Total params: 109,506,881\n",
      "Trainable params: 24,641\n",
      "Non-trainable params: 109,482,240\n",
      "__________________________________________________________________________________________________\n"
     ]
    }
   ],
   "source": [
    "# Create the model under a distribution strategy scope.\n",
    "strategy = tf.distribute.MirroredStrategy()\n",
    "\n",
    "with strategy.scope():\n",
    "    # Encoded token ids from BERT tokenizer.\n",
    "    input_ids = tf.keras.layers.Input(\n",
    "        shape=(max_length,), dtype=tf.int32, name=\"input_ids\"\n",
    "    )\n",
    "    # Attention masks indicates to the model which tokens should be attended to.\n",
    "    attention_masks = tf.keras.layers.Input(\n",
    "        shape=(max_length,), dtype=tf.int32, name=\"attention_masks\"\n",
    "    )\n",
    "    # Token type ids are binary masks identifying different sequences in the model.\n",
    "    token_type_ids = tf.keras.layers.Input(\n",
    "        shape=(max_length,), dtype=tf.int32, name=\"token_type_ids\"\n",
    "    )\n",
    "    # Loading pretrained BERT model.\n",
    "    bert_model = transformers.TFBertModel.from_pretrained(\"bert-base-uncased\")\n",
    "    # Freeze the BERT model to reuse the pretrained features without modifying them.\n",
    "    bert_model.trainable = False\n",
    "\n",
    "    bert_outputs = bert_model(\n",
    "        input_ids, attention_mask=attention_masks, token_type_ids=token_type_ids\n",
    "    )\n",
    "    last_hidden_state = bert_outputs[0]\n",
    "    \n",
    "    # Applying hybrid pooling approach to bi_lstm sequence output.\n",
    "    avg_pool = tf.keras.layers.GlobalAveragePooling1D()(last_hidden_state)\n",
    "    dense_layer = tf.keras.layers.Dense(32, activation=\"relu\")(avg_pool)\n",
    "    dropout = tf.keras.layers.Dropout(0.5)(dense_layer)\n",
    "    output_layer = tf.keras.layers.Dense(1)(dropout)\n",
    "    model = tf.keras.models.Model(\n",
    "        inputs=[input_ids, attention_masks, token_type_ids], outputs=output_layer\n",
    "    )\n",
    "\n",
    "    model.compile(\n",
    "        optimizer=tf.keras.optimizers.Adam(),\n",
    "        loss=\"mse\",\n",
    "        metrics=[\n",
    "            tf.keras.metrics.RootMeanSquaredError()\n",
    "        ],\n",
    "    )\n",
    "\n",
    "\n",
    "print(f\"Strategy: {strategy}\")\n",
    "model.summary()"
   ]
  },
  {
   "cell_type": "markdown",
   "id": "df06f6e3",
   "metadata": {},
   "source": [
    "# Convert Data"
   ]
  },
  {
   "cell_type": "code",
   "execution_count": 13,
   "id": "6b060145",
   "metadata": {},
   "outputs": [],
   "source": [
    "train_data = BertSemanticDataGenerator(\n",
    "    train_df[[\"sentence1\", \"sentence2\"]].values.astype(\"str\"),\n",
    "    train_df['score'].values,\n",
    "    batch_size=batch_size,\n",
    "    shuffle=True,\n",
    ")\n",
    "\n",
    "valid_data = BertSemanticDataGenerator(\n",
    "    validation_df[[\"sentence1\", \"sentence2\"]].values.astype(\"str\"),\n",
    "    validation_df['score'].values,\n",
    "    batch_size=batch_size,\n",
    "    shuffle=False,\n",
    ")\n",
    "\n",
    "test_data = BertSemanticDataGenerator(\n",
    "    test_df[[\"sentence1\", \"sentence2\"]].values.astype(\"str\"),\n",
    "    test_df['score'].values,\n",
    "    batch_size=batch_size,\n",
    "    shuffle=False,\n",
    ")"
   ]
  },
  {
   "cell_type": "markdown",
   "id": "798ce61f",
   "metadata": {},
   "source": [
    "# Train Model without Fine-tuning"
   ]
  },
  {
   "cell_type": "code",
   "execution_count": 14,
   "id": "6c17373c",
   "metadata": {},
   "outputs": [],
   "source": [
    "class TimeHistory(tf.keras.callbacks.Callback):\n",
    "    def on_train_begin(self, logs={}):\n",
    "        self.times = []\n",
    "\n",
    "    def on_epoch_begin(self, batch, logs={}):\n",
    "        self.epoch_time_start = time.time()\n",
    "\n",
    "    def on_epoch_end(self, batch, logs={}):\n",
    "        self.times.append(time.time() - self.epoch_time_start)"
   ]
  },
  {
   "cell_type": "code",
   "execution_count": 15,
   "id": "b2eef108",
   "metadata": {},
   "outputs": [],
   "source": [
    "time_callback = TimeHistory()"
   ]
  },
  {
   "cell_type": "code",
   "execution_count": 16,
   "id": "7ba3b346",
   "metadata": {
    "scrolled": false
   },
   "outputs": [
    {
     "name": "stdout",
     "output_type": "stream",
     "text": [
      "Epoch 1/50\n",
      "WARNING:tensorflow:The parameters `output_attentions`, `output_hidden_states` and `use_cache` cannot be updated when calling a model.They have to be set to True/False in the config object (i.e.: `config=XConfig.from_pretrained('name', output_attentions=True)`).\n",
      "WARNING:tensorflow:The parameter `return_dict` cannot be set in graph mode and will always be set to `True`.\n"
     ]
    },
    {
     "name": "stderr",
     "output_type": "stream",
     "text": [
      "/home/tr92346-local/.local/lib/python3.8/site-packages/transformers/tokenization_utils_base.py:2073: FutureWarning: The `pad_to_max_length` argument is deprecated and will be removed in a future version, use `padding=True` or `padding='longest'` to pad to the longest sequence in the batch, or use `padding='max_length'` to pad to a max length. In this case, you can give a specific length with `max_length` (e.g. `max_length=45`) or leave max_length to None to pad to the maximal input size of the model (e.g. 512 for Bert).\n",
      "  warnings.warn(\n"
     ]
    },
    {
     "name": "stdout",
     "output_type": "stream",
     "text": [
      "INFO:tensorflow:Reduce to /job:localhost/replica:0/task:0/device:CPU:0 then broadcast to ('/job:localhost/replica:0/task:0/device:CPU:0',).\n",
      "INFO:tensorflow:Reduce to /job:localhost/replica:0/task:0/device:CPU:0 then broadcast to ('/job:localhost/replica:0/task:0/device:CPU:0',).\n",
      "WARNING:tensorflow:The parameters `output_attentions`, `output_hidden_states` and `use_cache` cannot be updated when calling a model.They have to be set to True/False in the config object (i.e.: `config=XConfig.from_pretrained('name', output_attentions=True)`).\n",
      "WARNING:tensorflow:The parameter `return_dict` cannot be set in graph mode and will always be set to `True`.\n",
      "179/179 [==============================] - ETA: 0s - loss: 2.9297 - root_mean_squared_error: 1.6957WARNING:tensorflow:The parameters `output_attentions`, `output_hidden_states` and `use_cache` cannot be updated when calling a model.They have to be set to True/False in the config object (i.e.: `config=XConfig.from_pretrained('name', output_attentions=True)`).\n",
      "WARNING:tensorflow:The parameter `return_dict` cannot be set in graph mode and will always be set to `True`.\n",
      "179/179 [==============================] - 47s 214ms/step - loss: 2.9258 - root_mean_squared_error: 1.6946 - val_loss: 1.6370 - val_root_mean_squared_error: 1.2795\n",
      "Epoch 2/50\n",
      "179/179 [==============================] - 36s 200ms/step - loss: 1.6190 - root_mean_squared_error: 1.2723 - val_loss: 1.2860 - val_root_mean_squared_error: 1.1340\n",
      "Epoch 3/50\n",
      "179/179 [==============================] - 36s 203ms/step - loss: 1.5053 - root_mean_squared_error: 1.2268 - val_loss: 1.1452 - val_root_mean_squared_error: 1.0701\n",
      "Epoch 4/50\n",
      "179/179 [==============================] - 37s 204ms/step - loss: 1.4194 - root_mean_squared_error: 1.1913 - val_loss: 1.0742 - val_root_mean_squared_error: 1.0364\n",
      "Epoch 5/50\n",
      "179/179 [==============================] - 37s 205ms/step - loss: 1.3686 - root_mean_squared_error: 1.1697 - val_loss: 1.0490 - val_root_mean_squared_error: 1.0242\n",
      "Epoch 6/50\n",
      "179/179 [==============================] - 37s 206ms/step - loss: 1.3189 - root_mean_squared_error: 1.1483 - val_loss: 1.0693 - val_root_mean_squared_error: 1.0341\n",
      "Epoch 7/50\n",
      "179/179 [==============================] - 37s 207ms/step - loss: 1.3188 - root_mean_squared_error: 1.1483 - val_loss: 1.1132 - val_root_mean_squared_error: 1.0551\n",
      "Epoch 8/50\n",
      "179/179 [==============================] - 37s 207ms/step - loss: 1.2494 - root_mean_squared_error: 1.1175 - val_loss: 1.0549 - val_root_mean_squared_error: 1.0271\n",
      "Epoch 9/50\n",
      "179/179 [==============================] - 37s 206ms/step - loss: 1.2758 - root_mean_squared_error: 1.1295 - val_loss: 1.0144 - val_root_mean_squared_error: 1.0072\n",
      "Epoch 10/50\n",
      "179/179 [==============================] - 37s 207ms/step - loss: 1.2149 - root_mean_squared_error: 1.1020 - val_loss: 0.9771 - val_root_mean_squared_error: 0.9885\n",
      "Epoch 11/50\n",
      "179/179 [==============================] - 37s 206ms/step - loss: 1.1626 - root_mean_squared_error: 1.0781 - val_loss: 0.9914 - val_root_mean_squared_error: 0.9957\n",
      "Epoch 12/50\n",
      "179/179 [==============================] - 37s 206ms/step - loss: 1.2093 - root_mean_squared_error: 1.0996 - val_loss: 1.0306 - val_root_mean_squared_error: 1.0152\n",
      "Epoch 13/50\n",
      "179/179 [==============================] - 37s 207ms/step - loss: 1.2315 - root_mean_squared_error: 1.1097 - val_loss: 1.0130 - val_root_mean_squared_error: 1.0065\n",
      "Epoch 14/50\n",
      "179/179 [==============================] - 37s 206ms/step - loss: 1.1936 - root_mean_squared_error: 1.0924 - val_loss: 0.9935 - val_root_mean_squared_error: 0.9968\n",
      "Epoch 15/50\n",
      "179/179 [==============================] - 37s 206ms/step - loss: 1.1867 - root_mean_squared_error: 1.0892 - val_loss: 0.9924 - val_root_mean_squared_error: 0.9962\n",
      "Epoch 16/50\n",
      "179/179 [==============================] - 37s 206ms/step - loss: 1.1676 - root_mean_squared_error: 1.0805 - val_loss: 1.0043 - val_root_mean_squared_error: 1.0021\n",
      "Epoch 17/50\n",
      "179/179 [==============================] - 37s 206ms/step - loss: 1.2014 - root_mean_squared_error: 1.0959 - val_loss: 1.0622 - val_root_mean_squared_error: 1.0306\n",
      "Epoch 18/50\n",
      "179/179 [==============================] - 37s 206ms/step - loss: 1.1176 - root_mean_squared_error: 1.0570 - val_loss: 1.0217 - val_root_mean_squared_error: 1.0108\n",
      "Epoch 19/50\n",
      "179/179 [==============================] - 37s 207ms/step - loss: 1.1534 - root_mean_squared_error: 1.0738 - val_loss: 0.9979 - val_root_mean_squared_error: 0.9989\n",
      "Epoch 20/50\n",
      "179/179 [==============================] - 37s 207ms/step - loss: 1.0956 - root_mean_squared_error: 1.0464 - val_loss: 0.9770 - val_root_mean_squared_error: 0.9884\n",
      "Epoch 21/50\n",
      "179/179 [==============================] - 37s 206ms/step - loss: 1.1294 - root_mean_squared_error: 1.0626 - val_loss: 1.0117 - val_root_mean_squared_error: 1.0058\n",
      "Epoch 22/50\n",
      "179/179 [==============================] - 37s 206ms/step - loss: 1.1535 - root_mean_squared_error: 1.0739 - val_loss: 0.9710 - val_root_mean_squared_error: 0.9854\n",
      "Epoch 23/50\n",
      "179/179 [==============================] - 37s 206ms/step - loss: 1.1261 - root_mean_squared_error: 1.0611 - val_loss: 0.9927 - val_root_mean_squared_error: 0.9964\n",
      "Epoch 24/50\n",
      "179/179 [==============================] - 37s 206ms/step - loss: 1.1020 - root_mean_squared_error: 1.0497 - val_loss: 1.0565 - val_root_mean_squared_error: 1.0279\n",
      "Epoch 25/50\n",
      "179/179 [==============================] - 37s 207ms/step - loss: 1.1310 - root_mean_squared_error: 1.0634 - val_loss: 0.9896 - val_root_mean_squared_error: 0.9948\n",
      "Epoch 26/50\n",
      "179/179 [==============================] - 37s 206ms/step - loss: 1.1209 - root_mean_squared_error: 1.0584 - val_loss: 1.0588 - val_root_mean_squared_error: 1.0290\n",
      "Epoch 27/50\n",
      "179/179 [==============================] - 37s 206ms/step - loss: 1.0599 - root_mean_squared_error: 1.0293 - val_loss: 0.9723 - val_root_mean_squared_error: 0.9861\n",
      "Epoch 28/50\n",
      "179/179 [==============================] - 37s 206ms/step - loss: 1.1149 - root_mean_squared_error: 1.0558 - val_loss: 1.0306 - val_root_mean_squared_error: 1.0152\n",
      "Epoch 29/50\n",
      "179/179 [==============================] - 37s 206ms/step - loss: 1.1344 - root_mean_squared_error: 1.0650 - val_loss: 1.0226 - val_root_mean_squared_error: 1.0113\n",
      "Epoch 30/50\n",
      "179/179 [==============================] - 37s 206ms/step - loss: 1.1426 - root_mean_squared_error: 1.0688 - val_loss: 0.9740 - val_root_mean_squared_error: 0.9869\n",
      "Epoch 31/50\n",
      "179/179 [==============================] - 37s 207ms/step - loss: 1.0626 - root_mean_squared_error: 1.0307 - val_loss: 0.9967 - val_root_mean_squared_error: 0.9984\n",
      "Epoch 32/50\n",
      "179/179 [==============================] - 37s 206ms/step - loss: 1.0730 - root_mean_squared_error: 1.0358 - val_loss: 1.0512 - val_root_mean_squared_error: 1.0253\n",
      "Epoch 33/50\n",
      "179/179 [==============================] - 37s 206ms/step - loss: 1.0615 - root_mean_squared_error: 1.0301 - val_loss: 0.9443 - val_root_mean_squared_error: 0.9717\n",
      "Epoch 34/50\n",
      "179/179 [==============================] - 37s 206ms/step - loss: 1.0230 - root_mean_squared_error: 1.0114 - val_loss: 0.9545 - val_root_mean_squared_error: 0.9770\n",
      "Epoch 35/50\n",
      "179/179 [==============================] - 37s 206ms/step - loss: 1.0292 - root_mean_squared_error: 1.0144 - val_loss: 0.9786 - val_root_mean_squared_error: 0.9893\n",
      "Epoch 36/50\n",
      "179/179 [==============================] - 37s 206ms/step - loss: 1.0525 - root_mean_squared_error: 1.0259 - val_loss: 0.9485 - val_root_mean_squared_error: 0.9739\n",
      "Epoch 37/50\n",
      "179/179 [==============================] - 37s 207ms/step - loss: 1.0718 - root_mean_squared_error: 1.0351 - val_loss: 1.0030 - val_root_mean_squared_error: 1.0015\n",
      "Epoch 38/50\n",
      "179/179 [==============================] - 37s 206ms/step - loss: 1.0543 - root_mean_squared_error: 1.0266 - val_loss: 1.0241 - val_root_mean_squared_error: 1.0120\n",
      "Epoch 39/50\n",
      "179/179 [==============================] - 37s 206ms/step - loss: 0.9992 - root_mean_squared_error: 0.9995 - val_loss: 1.0505 - val_root_mean_squared_error: 1.0250\n",
      "Epoch 40/50\n",
      "179/179 [==============================] - 37s 206ms/step - loss: 1.0060 - root_mean_squared_error: 1.0025 - val_loss: 0.9813 - val_root_mean_squared_error: 0.9906\n",
      "Epoch 41/50\n",
      "179/179 [==============================] - 37s 206ms/step - loss: 1.0244 - root_mean_squared_error: 1.0121 - val_loss: 0.9468 - val_root_mean_squared_error: 0.9730\n",
      "Epoch 42/50\n",
      "179/179 [==============================] - 37s 206ms/step - loss: 1.0267 - root_mean_squared_error: 1.0132 - val_loss: 0.9623 - val_root_mean_squared_error: 0.9810\n",
      "Epoch 43/50\n",
      "179/179 [==============================] - 37s 206ms/step - loss: 0.9754 - root_mean_squared_error: 0.9876 - val_loss: 0.9683 - val_root_mean_squared_error: 0.9840\n",
      "Epoch 44/50\n",
      "179/179 [==============================] - 37s 206ms/step - loss: 0.9781 - root_mean_squared_error: 0.9887 - val_loss: 0.9638 - val_root_mean_squared_error: 0.9817\n",
      "Epoch 45/50\n",
      "179/179 [==============================] - 37s 206ms/step - loss: 0.9750 - root_mean_squared_error: 0.9871 - val_loss: 0.9770 - val_root_mean_squared_error: 0.9884\n",
      "Epoch 46/50\n",
      "179/179 [==============================] - 37s 206ms/step - loss: 1.0010 - root_mean_squared_error: 1.0004 - val_loss: 0.9706 - val_root_mean_squared_error: 0.9852\n",
      "Epoch 47/50\n",
      "179/179 [==============================] - 37s 206ms/step - loss: 0.9881 - root_mean_squared_error: 0.9939 - val_loss: 0.9896 - val_root_mean_squared_error: 0.9948\n",
      "Epoch 48/50\n",
      "179/179 [==============================] - 37s 206ms/step - loss: 0.9586 - root_mean_squared_error: 0.9789 - val_loss: 0.9516 - val_root_mean_squared_error: 0.9755\n",
      "Epoch 49/50\n",
      "179/179 [==============================] - 37s 206ms/step - loss: 0.9960 - root_mean_squared_error: 0.9980 - val_loss: 0.9616 - val_root_mean_squared_error: 0.9806\n",
      "Epoch 50/50\n",
      "179/179 [==============================] - 37s 206ms/step - loss: 0.9870 - root_mean_squared_error: 0.9933 - val_loss: 0.9545 - val_root_mean_squared_error: 0.9770\n"
     ]
    }
   ],
   "source": [
    "history = model.fit(\n",
    "    train_data,\n",
    "    validation_data=valid_data,\n",
    "    epochs=epochs,\n",
    "    use_multiprocessing=True,\n",
    "    workers=-1,\n",
    "    callbacks = [time_callback]\n",
    ")"
   ]
  },
  {
   "cell_type": "code",
   "execution_count": 17,
   "id": "bf5b09af",
   "metadata": {},
   "outputs": [],
   "source": [
    "hist_df = pd.DataFrame(history.history) \n",
    "hist_csv_file = 'using-standard-bert-history-01.csv'\n",
    "with open(hist_csv_file, mode='w') as f:\n",
    "    hist_df.to_csv(f)"
   ]
  },
  {
   "cell_type": "code",
   "execution_count": 18,
   "id": "63c957aa",
   "metadata": {},
   "outputs": [
    {
     "name": "stdout",
     "output_type": "stream",
     "text": [
      "[47.20469951629639, 35.695271015167236, 36.24570393562317, 36.53668284416199, 36.710169315338135, 36.788649797439575, 36.944395542144775, 37.002979040145874, 36.92944312095642, 36.97036623954773, 36.86108708381653, 36.91543984413147, 36.947885274887085, 36.91234350204468, 36.92590951919556, 36.90681314468384, 36.827576875686646, 36.805537700653076, 36.973292112350464, 36.95141243934631, 36.925761461257935, 36.92972707748413, 36.8661584854126, 36.815993785858154, 36.94056510925293, 36.93550515174866, 36.88229274749756, 36.86723732948303, 36.913716316223145, 36.82883620262146, 36.971396684646606, 36.917320728302, 36.87533760070801, 36.87160921096802, 36.849711656570435, 36.84141397476196, 36.952215909957886, 36.92577576637268, 36.91494369506836, 36.88554525375366, 36.828063011169434, 36.82686495780945, 36.938653230667114, 36.920039653778076, 36.87231469154358, 36.876415729522705, 36.87499952316284, 36.84750699996948, 36.86452651023865, 36.89947247505188]\n"
     ]
    }
   ],
   "source": [
    "print(time_callback.times)"
   ]
  },
  {
   "cell_type": "code",
   "execution_count": 19,
   "id": "ea7594e9",
   "metadata": {},
   "outputs": [],
   "source": [
    "hist_time_df = pd.DataFrame(time_callback.times) \n",
    "hist_csv_file = 'using-standard-bert-time-01.csv'\n",
    "with open(hist_csv_file, mode='w') as f:\n",
    "    hist_time_df.to_csv(f)"
   ]
  },
  {
   "cell_type": "code",
   "execution_count": 20,
   "id": "440af6f8",
   "metadata": {},
   "outputs": [],
   "source": [
    "output_dir = './models/exp01'\n",
    "model.save_weights('./using-standard-bert-model-01.h5')"
   ]
  },
  {
   "cell_type": "markdown",
   "id": "24223ef2",
   "metadata": {},
   "source": [
    "# Evaluation"
   ]
  },
  {
   "cell_type": "code",
   "execution_count": 21,
   "id": "74d62d43",
   "metadata": {},
   "outputs": [
    {
     "name": "stdout",
     "output_type": "stream",
     "text": [
      "43/43 [==============================] - 7s 152ms/step - loss: 1.1546 - root_mean_squared_error: 1.0745\n"
     ]
    },
    {
     "data": {
      "text/plain": [
       "[1.154600977897644, 1.0745235681533813]"
      ]
     },
     "execution_count": 21,
     "metadata": {},
     "output_type": "execute_result"
    }
   ],
   "source": [
    "model.evaluate(test_data, verbose=1)"
   ]
  },
  {
   "cell_type": "markdown",
   "id": "99a68754",
   "metadata": {},
   "source": [
    "# Testing"
   ]
  },
  {
   "cell_type": "code",
   "execution_count": 22,
   "id": "cc09d2ed",
   "metadata": {},
   "outputs": [],
   "source": [
    "def check_similarity(sentence1, sentence2):\n",
    "    sentence_pairs = np.array([[str(sentence1), str(sentence2)]])\n",
    "    data = BertSemanticDataGenerator(\n",
    "        sentence_pairs, scores=None, batch_size=1, shuffle=False, include_targets=False,\n",
    "    )\n",
    "\n",
    "    score = model.predict(data)[0]\n",
    "    return score"
   ]
  },
  {
   "cell_type": "code",
   "execution_count": 23,
   "id": "76773ae4",
   "metadata": {},
   "outputs": [
    {
     "name": "stdout",
     "output_type": "stream",
     "text": [
      "WARNING:tensorflow:The parameters `output_attentions`, `output_hidden_states` and `use_cache` cannot be updated when calling a model.They have to be set to True/False in the config object (i.e.: `config=XConfig.from_pretrained('name', output_attentions=True)`).\n",
      "WARNING:tensorflow:The parameter `return_dict` cannot be set in graph mode and will always be set to `True`.\n"
     ]
    },
    {
     "data": {
      "text/plain": [
       "array([3.480238], dtype=float32)"
      ]
     },
     "execution_count": 23,
     "metadata": {},
     "output_type": "execute_result"
    }
   ],
   "source": [
    "sentence1 = 'A distributed system is a system from multiple computers which communicate with each other via network'\n",
    "sentence2 = 'A distributed system is a system from one computer without network'\n",
    "check_similarity(sentence1, sentence2)"
   ]
  },
  {
   "cell_type": "code",
   "execution_count": 24,
   "id": "811e3bcd",
   "metadata": {},
   "outputs": [
    {
     "data": {
      "text/plain": [
       "array([2.425862], dtype=float32)"
      ]
     },
     "execution_count": 24,
     "metadata": {},
     "output_type": "execute_result"
    }
   ],
   "source": [
    "sentence1 = 'asdsd'\n",
    "sentence2 = 'asdsad are good sdsdsdsds'\n",
    "check_similarity(sentence1, sentence2)"
   ]
  },
  {
   "cell_type": "code",
   "execution_count": 25,
   "id": "3ab7c1ad",
   "metadata": {},
   "outputs": [
    {
     "data": {
      "text/plain": [
       "array([1.5063605], dtype=float32)"
      ]
     },
     "execution_count": 25,
     "metadata": {},
     "output_type": "execute_result"
    }
   ],
   "source": [
    "sentence1 = 'the activity of learning or being trained'\n",
    "sentence2 = 'the gradual process of acquiring knowledge.'\n",
    "check_similarity(sentence1, sentence2)"
   ]
  },
  {
   "cell_type": "code",
   "execution_count": null,
   "id": "e28e064c",
   "metadata": {},
   "outputs": [],
   "source": []
  }
 ],
 "metadata": {
  "kernelspec": {
   "display_name": "Python 3",
   "language": "python",
   "name": "python3"
  },
  "language_info": {
   "codemirror_mode": {
    "name": "ipython",
    "version": 3
   },
   "file_extension": ".py",
   "mimetype": "text/x-python",
   "name": "python",
   "nbconvert_exporter": "python",
   "pygments_lexer": "ipython3",
   "version": "3.8.6"
  }
 },
 "nbformat": 4,
 "nbformat_minor": 5
}
