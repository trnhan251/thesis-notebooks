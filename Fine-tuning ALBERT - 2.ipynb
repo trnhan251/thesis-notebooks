{
 "cells": [
  {
   "cell_type": "code",
   "execution_count": 1,
   "metadata": {},
   "outputs": [],
   "source": [
    "import os\n",
    "os.environ[\"TF_FORCE_GPU_ALLOW_GROWTH\"]=\"true\"\n",
    "# https://github.com/tensorflow/tensorflow/issues/33721 "
   ]
  },
  {
   "cell_type": "code",
   "execution_count": 2,
   "metadata": {},
   "outputs": [],
   "source": [
    "import numpy as np\n",
    "import pandas as pd\n",
    "import tensorflow as tf\n",
    "import transformers\n",
    "import seaborn as sns\n",
    "import time\n",
    "from csv import QUOTE_NONE"
   ]
  },
  {
   "cell_type": "code",
   "execution_count": 3,
   "metadata": {},
   "outputs": [
    {
     "name": "stdout",
     "output_type": "stream",
     "text": [
      "Num GPUs Available:  1\n"
     ]
    }
   ],
   "source": [
    "print(\"Num GPUs Available: \", len(tf.config.list_physical_devices('GPU')))"
   ]
  },
  {
   "cell_type": "code",
   "execution_count": 4,
   "metadata": {},
   "outputs": [],
   "source": [
    "train_df = pd.read_csv('../sts-train.csv', sep='\\t', usecols=[4, 5, 6], header=None, quoting=QUOTE_NONE, names=['score', 'sentence1', 'sentence2'])\n",
    "validation_df = pd.read_csv('../sts-dev.csv', sep='\\t', usecols=[4, 5, 6], header=None, quoting=QUOTE_NONE, names=['score', 'sentence1', 'sentence2'])\n",
    "test_df = pd.read_csv('../sts-test.csv', sep='\\t', usecols=[4, 5, 6], header=None, quoting=QUOTE_NONE, names=['score', 'sentence1', 'sentence2'])"
   ]
  },
  {
   "cell_type": "code",
   "execution_count": 5,
   "metadata": {},
   "outputs": [
    {
     "data": {
      "text/html": [
       "<div>\n",
       "<style scoped>\n",
       "    .dataframe tbody tr th:only-of-type {\n",
       "        vertical-align: middle;\n",
       "    }\n",
       "\n",
       "    .dataframe tbody tr th {\n",
       "        vertical-align: top;\n",
       "    }\n",
       "\n",
       "    .dataframe thead th {\n",
       "        text-align: right;\n",
       "    }\n",
       "</style>\n",
       "<table border=\"1\" class=\"dataframe\">\n",
       "  <thead>\n",
       "    <tr style=\"text-align: right;\">\n",
       "      <th></th>\n",
       "      <th>score</th>\n",
       "      <th>sentence1</th>\n",
       "      <th>sentence2</th>\n",
       "    </tr>\n",
       "  </thead>\n",
       "  <tbody>\n",
       "    <tr>\n",
       "      <th>0</th>\n",
       "      <td>5.00</td>\n",
       "      <td>A plane is taking off.</td>\n",
       "      <td>An air plane is taking off.</td>\n",
       "    </tr>\n",
       "    <tr>\n",
       "      <th>1</th>\n",
       "      <td>3.80</td>\n",
       "      <td>A man is playing a large flute.</td>\n",
       "      <td>A man is playing a flute.</td>\n",
       "    </tr>\n",
       "    <tr>\n",
       "      <th>2</th>\n",
       "      <td>3.80</td>\n",
       "      <td>A man is spreading shreded cheese on a pizza.</td>\n",
       "      <td>A man is spreading shredded cheese on an uncoo...</td>\n",
       "    </tr>\n",
       "    <tr>\n",
       "      <th>3</th>\n",
       "      <td>2.60</td>\n",
       "      <td>Three men are playing chess.</td>\n",
       "      <td>Two men are playing chess.</td>\n",
       "    </tr>\n",
       "    <tr>\n",
       "      <th>4</th>\n",
       "      <td>4.25</td>\n",
       "      <td>A man is playing the cello.</td>\n",
       "      <td>A man seated is playing the cello.</td>\n",
       "    </tr>\n",
       "  </tbody>\n",
       "</table>\n",
       "</div>"
      ],
      "text/plain": [
       "   score                                      sentence1  \\\n",
       "0   5.00                         A plane is taking off.   \n",
       "1   3.80                A man is playing a large flute.   \n",
       "2   3.80  A man is spreading shreded cheese on a pizza.   \n",
       "3   2.60                   Three men are playing chess.   \n",
       "4   4.25                    A man is playing the cello.   \n",
       "\n",
       "                                           sentence2  \n",
       "0                        An air plane is taking off.  \n",
       "1                          A man is playing a flute.  \n",
       "2  A man is spreading shredded cheese on an uncoo...  \n",
       "3                         Two men are playing chess.  \n",
       "4                 A man seated is playing the cello.  "
      ]
     },
     "execution_count": 5,
     "metadata": {},
     "output_type": "execute_result"
    }
   ],
   "source": [
    "train_df.head()"
   ]
  },
  {
   "cell_type": "code",
   "execution_count": 6,
   "metadata": {},
   "outputs": [],
   "source": [
    "train_df = train_df.dropna()\n",
    "validation_df = validation_df.dropna()\n",
    "test_df = test_df.dropna()"
   ]
  },
  {
   "cell_type": "code",
   "execution_count": 7,
   "metadata": {},
   "outputs": [
    {
     "data": {
      "text/plain": [
       "score        5749\n",
       "sentence1    5749\n",
       "sentence2    5749\n",
       "dtype: int64"
      ]
     },
     "execution_count": 7,
     "metadata": {},
     "output_type": "execute_result"
    }
   ],
   "source": [
    "train_df.count()"
   ]
  },
  {
   "cell_type": "code",
   "execution_count": 8,
   "metadata": {},
   "outputs": [
    {
     "data": {
      "text/plain": [
       "score        1500\n",
       "sentence1    1500\n",
       "sentence2    1500\n",
       "dtype: int64"
      ]
     },
     "execution_count": 8,
     "metadata": {},
     "output_type": "execute_result"
    }
   ],
   "source": [
    "validation_df.count()"
   ]
  },
  {
   "cell_type": "code",
   "execution_count": 9,
   "metadata": {},
   "outputs": [
    {
     "data": {
      "text/plain": [
       "score        1379\n",
       "sentence1    1379\n",
       "sentence2    1379\n",
       "dtype: int64"
      ]
     },
     "execution_count": 9,
     "metadata": {},
     "output_type": "execute_result"
    }
   ],
   "source": [
    "test_df.count()"
   ]
  },
  {
   "cell_type": "markdown",
   "metadata": {},
   "source": [
    "# Data Generator"
   ]
  },
  {
   "cell_type": "code",
   "execution_count": 10,
   "metadata": {},
   "outputs": [],
   "source": [
    "max_length = 128  # Maximum length of input sentence to the model.\n",
    "batch_size = 32\n",
    "epochs = 25"
   ]
  },
  {
   "cell_type": "code",
   "execution_count": 11,
   "metadata": {},
   "outputs": [],
   "source": [
    "class AlbertSemanticDataGenerator(tf.keras.utils.Sequence):\n",
    "    def __init__(\n",
    "        self,\n",
    "        sentence_pairs,\n",
    "        scores,\n",
    "        batch_size=batch_size,\n",
    "        shuffle=True,\n",
    "        include_targets=True,\n",
    "    ):\n",
    "        self.sentence_pairs = sentence_pairs\n",
    "        self.scores = scores\n",
    "        self.shuffle = shuffle\n",
    "        self.batch_size = batch_size\n",
    "        self.include_targets = include_targets\n",
    "        # Load our BERT Tokenizer to encode the text.\n",
    "        # We will use base-base-uncased pretrained model.\n",
    "        self.tokenizer = transformers.AlbertTokenizer.from_pretrained(\n",
    "            \"albert-base-v2\", do_lower_case=True\n",
    "        )\n",
    "        self.indexes = np.arange(len(self.sentence_pairs))\n",
    "        self.on_epoch_end()\n",
    "\n",
    "    def __len__(self):\n",
    "        # Denotes the number of batches per epoch.\n",
    "        return len(self.sentence_pairs) // self.batch_size\n",
    "\n",
    "    def __getitem__(self, idx):\n",
    "        # Retrieves the batch of index.\n",
    "        indexes = self.indexes[idx * self.batch_size : (idx + 1) * self.batch_size]\n",
    "        sentence_pairs = self.sentence_pairs[indexes]\n",
    "\n",
    "        # With BERT tokenizer's batch_encode_plus batch of both the sentences are\n",
    "        # encoded together and separated by [SEP] token.\n",
    "        encoded = self.tokenizer.batch_encode_plus(\n",
    "            sentence_pairs.tolist(),\n",
    "            add_special_tokens=True,\n",
    "            max_length=max_length,\n",
    "            return_attention_mask=True,\n",
    "            return_token_type_ids=True,\n",
    "            pad_to_max_length=True,\n",
    "            truncation=True,\n",
    "            return_tensors=\"tf\",\n",
    "        )\n",
    "\n",
    "        # Convert batch of encoded features to numpy array.\n",
    "        input_ids = np.array(encoded[\"input_ids\"], dtype=\"int32\")\n",
    "        attention_masks = np.array(encoded[\"attention_mask\"], dtype=\"int32\")\n",
    "        token_type_ids = np.array(encoded[\"token_type_ids\"], dtype=\"int32\")\n",
    "\n",
    "        # Set to true if data generator is used for training/validation.\n",
    "        if self.include_targets:\n",
    "            scores = np.array(self.scores[indexes], dtype=\"int32\")\n",
    "            return [input_ids, attention_masks, token_type_ids], scores\n",
    "        else:\n",
    "            return [input_ids, attention_masks, token_type_ids]\n",
    "\n",
    "    def on_epoch_end(self):\n",
    "        # Shuffle indexes after each epoch if shuffle is set to True.\n",
    "        if self.shuffle:\n",
    "            np.random.RandomState(42).shuffle(self.indexes)"
   ]
  },
  {
   "cell_type": "markdown",
   "metadata": {},
   "source": [
    "# Setup Model Architecture"
   ]
  },
  {
   "cell_type": "code",
   "execution_count": 12,
   "metadata": {},
   "outputs": [
    {
     "name": "stdout",
     "output_type": "stream",
     "text": [
      "WARNING:tensorflow:Collective ops is not configured at program startup. Some performance features may not be enabled.\n",
      "INFO:tensorflow:Using MirroredStrategy with devices ('/job:localhost/replica:0/task:0/device:GPU:0',)\n"
     ]
    },
    {
     "name": "stderr",
     "output_type": "stream",
     "text": [
      "Some layers from the model checkpoint at albert-base-v2 were not used when initializing TFAlbertModel: ['predictions']\n",
      "- This IS expected if you are initializing TFAlbertModel from the checkpoint of a model trained on another task or with another architecture (e.g. initializing a BertForSequenceClassification model from a BertForPreTraining model).\n",
      "- This IS NOT expected if you are initializing TFAlbertModel from the checkpoint of a model that you expect to be exactly identical (initializing a BertForSequenceClassification model from a BertForSequenceClassification model).\n",
      "All the layers of TFAlbertModel were initialized from the model checkpoint at albert-base-v2.\n",
      "If your task is similar to the task the model of the checkpoint was trained on, you can already use TFAlbertModel for predictions without further training.\n"
     ]
    },
    {
     "name": "stdout",
     "output_type": "stream",
     "text": [
      "WARNING:tensorflow:The parameters `output_attentions`, `output_hidden_states` and `use_cache` cannot be updated when calling a model.They have to be set to True/False in the config object (i.e.: `config=XConfig.from_pretrained('name', output_attentions=True)`).\n",
      "WARNING:tensorflow:AutoGraph could not transform <bound method Socket.send of <zmq.sugar.socket.Socket object at 0x7f7f2c6b80a0>> and will run it as-is.\n",
      "Please report this to the TensorFlow team. When filing the bug, set the verbosity to 10 (on Linux, `export AUTOGRAPH_VERBOSITY=10`) and attach the full output.\n",
      "Cause: module, class, method, function, traceback, frame, or code object was expected, got cython_function_or_method\n",
      "To silence this warning, decorate the function with @tf.autograph.experimental.do_not_convert\n",
      "WARNING: AutoGraph could not transform <bound method Socket.send of <zmq.sugar.socket.Socket object at 0x7f7f2c6b80a0>> and will run it as-is.\n",
      "Please report this to the TensorFlow team. When filing the bug, set the verbosity to 10 (on Linux, `export AUTOGRAPH_VERBOSITY=10`) and attach the full output.\n",
      "Cause: module, class, method, function, traceback, frame, or code object was expected, got cython_function_or_method\n",
      "To silence this warning, decorate the function with @tf.autograph.experimental.do_not_convert\n",
      "WARNING:tensorflow:The parameter `return_dict` cannot be set in graph mode and will always be set to `True`.\n",
      "WARNING:tensorflow:From /opt/spack/opt/spack/linux-centos8-skylake_avx512/gcc-8.3.1/python-3.8.6-57rsjc5dqlwimr7jmfiqauov4l2hsuop/lib/python3.8/site-packages/tensorflow/python/ops/array_ops.py:5043: calling gather (from tensorflow.python.ops.array_ops) with validate_indices is deprecated and will be removed in a future version.\n",
      "Instructions for updating:\n",
      "The `validate_indices` argument has no effect. Indices are always validated on CPU and never validated on GPU.\n",
      "INFO:tensorflow:Reduce to /job:localhost/replica:0/task:0/device:CPU:0 then broadcast to ('/job:localhost/replica:0/task:0/device:CPU:0',).\n",
      "INFO:tensorflow:Reduce to /job:localhost/replica:0/task:0/device:CPU:0 then broadcast to ('/job:localhost/replica:0/task:0/device:CPU:0',).\n",
      "INFO:tensorflow:Reduce to /job:localhost/replica:0/task:0/device:CPU:0 then broadcast to ('/job:localhost/replica:0/task:0/device:CPU:0',).\n",
      "INFO:tensorflow:Reduce to /job:localhost/replica:0/task:0/device:CPU:0 then broadcast to ('/job:localhost/replica:0/task:0/device:CPU:0',).\n",
      "INFO:tensorflow:Reduce to /job:localhost/replica:0/task:0/device:CPU:0 then broadcast to ('/job:localhost/replica:0/task:0/device:CPU:0',).\n",
      "INFO:tensorflow:Reduce to /job:localhost/replica:0/task:0/device:CPU:0 then broadcast to ('/job:localhost/replica:0/task:0/device:CPU:0',).\n",
      "INFO:tensorflow:Reduce to /job:localhost/replica:0/task:0/device:CPU:0 then broadcast to ('/job:localhost/replica:0/task:0/device:CPU:0',).\n",
      "INFO:tensorflow:Reduce to /job:localhost/replica:0/task:0/device:CPU:0 then broadcast to ('/job:localhost/replica:0/task:0/device:CPU:0',).\n",
      "Strategy: <tensorflow.python.distribute.mirrored_strategy.MirroredStrategy object at 0x7f7e0c87ab80>\n",
      "Model: \"model\"\n",
      "__________________________________________________________________________________________________\n",
      "Layer (type)                    Output Shape         Param #     Connected to                     \n",
      "==================================================================================================\n",
      "input_ids (InputLayer)          [(None, 128)]        0                                            \n",
      "__________________________________________________________________________________________________\n",
      "attention_masks (InputLayer)    [(None, 128)]        0                                            \n",
      "__________________________________________________________________________________________________\n",
      "token_type_ids (InputLayer)     [(None, 128)]        0                                            \n",
      "__________________________________________________________________________________________________\n",
      "tf_albert_model (TFAlbertModel) TFBaseModelOutputWit 11683584    input_ids[0][0]                  \n",
      "                                                                 attention_masks[0][0]            \n",
      "                                                                 token_type_ids[0][0]             \n",
      "__________________________________________________________________________________________________\n",
      "global_average_pooling1d (Globa (None, 768)          0           tf_albert_model[0][0]            \n",
      "__________________________________________________________________________________________________\n",
      "dense (Dense)                   (None, 32)           24608       global_average_pooling1d[0][0]   \n",
      "__________________________________________________________________________________________________\n",
      "dropout_4 (Dropout)             (None, 32)           0           dense[0][0]                      \n",
      "__________________________________________________________________________________________________\n",
      "dense_1 (Dense)                 (None, 1)            33          dropout_4[0][0]                  \n",
      "==================================================================================================\n",
      "Total params: 11,708,225\n",
      "Trainable params: 24,641\n",
      "Non-trainable params: 11,683,584\n",
      "__________________________________________________________________________________________________\n"
     ]
    }
   ],
   "source": [
    "# Create the model under a distribution strategy scope.\n",
    "strategy = tf.distribute.MirroredStrategy()\n",
    "\n",
    "with strategy.scope():\n",
    "    # Encoded token ids from BERT tokenizer.\n",
    "    input_ids = tf.keras.layers.Input(\n",
    "        shape=(max_length,), dtype=tf.int32, name=\"input_ids\"\n",
    "    )\n",
    "    # Attention masks indicates to the model which tokens should be attended to.\n",
    "    attention_masks = tf.keras.layers.Input(\n",
    "        shape=(max_length,), dtype=tf.int32, name=\"attention_masks\"\n",
    "    )\n",
    "    # Token type ids are binary masks identifying different sequences in the model.\n",
    "    token_type_ids = tf.keras.layers.Input(\n",
    "        shape=(max_length,), dtype=tf.int32, name=\"token_type_ids\"\n",
    "    )\n",
    "    # Loading pretrained BERT model.\n",
    "    albert_model = transformers.TFAlbertModel.from_pretrained(\"albert-base-v2\")\n",
    "    # Freeze the BERT model to reuse the pretrained features without modifying them.\n",
    "    albert_model.trainable = False\n",
    "\n",
    "    albert_outputs = albert_model(\n",
    "        input_ids, attention_mask=attention_masks, token_type_ids=token_type_ids\n",
    "    )\n",
    "    last_hidden_state = albert_outputs[0]\n",
    "    \n",
    "    # Applying hybrid pooling approach to bi_lstm sequence output.\n",
    "    avg_pool = tf.keras.layers.GlobalAveragePooling1D()(last_hidden_state)\n",
    "    dense_layer = tf.keras.layers.Dense(32, activation=\"relu\")(avg_pool)\n",
    "    dropout = tf.keras.layers.Dropout(0.5)(dense_layer)\n",
    "    output_layer = tf.keras.layers.Dense(1)(dropout)\n",
    "    model = tf.keras.models.Model(\n",
    "        inputs=[input_ids, attention_masks, token_type_ids], outputs=output_layer\n",
    "    )\n",
    "\n",
    "    model.compile(\n",
    "        optimizer=tf.keras.optimizers.Adam(),\n",
    "        loss=\"mse\",\n",
    "        metrics=[\n",
    "            tf.keras.metrics.RootMeanSquaredError()\n",
    "        ],\n",
    "    )\n",
    "\n",
    "\n",
    "print(f\"Strategy: {strategy}\")\n",
    "model.summary()"
   ]
  },
  {
   "cell_type": "markdown",
   "metadata": {},
   "source": [
    "# Convert Data"
   ]
  },
  {
   "cell_type": "code",
   "execution_count": 13,
   "metadata": {},
   "outputs": [],
   "source": [
    "train_data = AlbertSemanticDataGenerator(\n",
    "    train_df[[\"sentence1\", \"sentence2\"]].values.astype(\"str\"),\n",
    "    train_df['score'].values,\n",
    "    batch_size=batch_size,\n",
    "    shuffle=True,\n",
    ")\n",
    "\n",
    "valid_data = AlbertSemanticDataGenerator(\n",
    "    validation_df[[\"sentence1\", \"sentence2\"]].values.astype(\"str\"),\n",
    "    validation_df['score'].values,\n",
    "    batch_size=batch_size,\n",
    "    shuffle=False,\n",
    ")\n",
    "\n",
    "test_data = AlbertSemanticDataGenerator(\n",
    "    test_df[[\"sentence1\", \"sentence2\"]].values.astype(\"str\"),\n",
    "    test_df['score'].values,\n",
    "    batch_size=batch_size,\n",
    "    shuffle=False,\n",
    ")"
   ]
  },
  {
   "cell_type": "markdown",
   "metadata": {},
   "source": [
    "# Train Model without Fine-tuning"
   ]
  },
  {
   "cell_type": "code",
   "execution_count": 14,
   "metadata": {},
   "outputs": [],
   "source": [
    "class TimeHistory(tf.keras.callbacks.Callback):\n",
    "    def on_train_begin(self, logs={}):\n",
    "        self.times = []\n",
    "\n",
    "    def on_epoch_begin(self, batch, logs={}):\n",
    "        self.epoch_time_start = time.time()\n",
    "\n",
    "    def on_epoch_end(self, batch, logs={}):\n",
    "        self.times.append(time.time() - self.epoch_time_start)"
   ]
  },
  {
   "cell_type": "code",
   "execution_count": 15,
   "metadata": {},
   "outputs": [],
   "source": [
    "time_callback = TimeHistory()"
   ]
  },
  {
   "cell_type": "code",
   "execution_count": 16,
   "metadata": {
    "scrolled": false
   },
   "outputs": [
    {
     "name": "stdout",
     "output_type": "stream",
     "text": [
      "Epoch 1/25\n",
      "WARNING:tensorflow:The parameters `output_attentions`, `output_hidden_states` and `use_cache` cannot be updated when calling a model.They have to be set to True/False in the config object (i.e.: `config=XConfig.from_pretrained('name', output_attentions=True)`).\n",
      "WARNING:tensorflow:The parameter `return_dict` cannot be set in graph mode and will always be set to `True`.\n"
     ]
    },
    {
     "name": "stderr",
     "output_type": "stream",
     "text": [
      "/opt/spack/opt/spack/linux-centos8-skylake_avx512/gcc-8.3.1/python-3.8.6-57rsjc5dqlwimr7jmfiqauov4l2hsuop/lib/python3.8/site-packages/transformers/tokenization_utils_base.py:2105: FutureWarning: The `pad_to_max_length` argument is deprecated and will be removed in a future version, use `padding=True` or `padding='longest'` to pad to the longest sequence in the batch, or use `padding='max_length'` to pad to a max length. In this case, you can give a specific length with `max_length` (e.g. `max_length=45`) or leave max_length to None to pad to the maximal input size of the model (e.g. 512 for Bert).\n",
      "  warnings.warn(\n"
     ]
    },
    {
     "name": "stdout",
     "output_type": "stream",
     "text": [
      "INFO:tensorflow:Reduce to /job:localhost/replica:0/task:0/device:CPU:0 then broadcast to ('/job:localhost/replica:0/task:0/device:CPU:0',).\n",
      "INFO:tensorflow:Reduce to /job:localhost/replica:0/task:0/device:CPU:0 then broadcast to ('/job:localhost/replica:0/task:0/device:CPU:0',).\n",
      "WARNING:tensorflow:The parameters `output_attentions`, `output_hidden_states` and `use_cache` cannot be updated when calling a model.They have to be set to True/False in the config object (i.e.: `config=XConfig.from_pretrained('name', output_attentions=True)`).\n",
      "WARNING:tensorflow:The parameter `return_dict` cannot be set in graph mode and will always be set to `True`.\n",
      "179/179 [==============================] - ETA: 0s - loss: 2.0800 - root_mean_squared_error: 1.4422WARNING:tensorflow:The parameters `output_attentions`, `output_hidden_states` and `use_cache` cannot be updated when calling a model.They have to be set to True/False in the config object (i.e.: `config=XConfig.from_pretrained('name', output_attentions=True)`).\n",
      "WARNING:tensorflow:The parameter `return_dict` cannot be set in graph mode and will always be set to `True`.\n",
      "179/179 [==============================] - 47s 214ms/step - loss: 2.0800 - root_mean_squared_error: 1.4422 - val_loss: 0.9681 - val_root_mean_squared_error: 0.9839\n",
      "Epoch 2/25\n",
      "179/179 [==============================] - 36s 201ms/step - loss: 1.5465 - root_mean_squared_error: 1.2436 - val_loss: 1.0849 - val_root_mean_squared_error: 1.0416\n",
      "Epoch 3/25\n",
      "179/179 [==============================] - 36s 204ms/step - loss: 1.4610 - root_mean_squared_error: 1.2087 - val_loss: 0.7866 - val_root_mean_squared_error: 0.8869\n",
      "Epoch 4/25\n",
      "179/179 [==============================] - 37s 205ms/step - loss: 1.3751 - root_mean_squared_error: 1.1726 - val_loss: 0.7759 - val_root_mean_squared_error: 0.8808\n",
      "Epoch 5/25\n",
      "179/179 [==============================] - 37s 206ms/step - loss: 1.3099 - root_mean_squared_error: 1.1445 - val_loss: 0.7517 - val_root_mean_squared_error: 0.8670\n",
      "Epoch 6/25\n",
      "179/179 [==============================] - 37s 207ms/step - loss: 1.2588 - root_mean_squared_error: 1.1220 - val_loss: 0.7506 - val_root_mean_squared_error: 0.8664\n",
      "Epoch 7/25\n",
      "179/179 [==============================] - 37s 207ms/step - loss: 1.2311 - root_mean_squared_error: 1.1096 - val_loss: 0.7444 - val_root_mean_squared_error: 0.8628\n",
      "Epoch 8/25\n",
      "179/179 [==============================] - 37s 207ms/step - loss: 1.1640 - root_mean_squared_error: 1.0789 - val_loss: 0.7577 - val_root_mean_squared_error: 0.8705\n",
      "Epoch 9/25\n",
      "179/179 [==============================] - 37s 207ms/step - loss: 1.1560 - root_mean_squared_error: 1.0752 - val_loss: 0.8302 - val_root_mean_squared_error: 0.9112\n",
      "Epoch 10/25\n",
      "179/179 [==============================] - 37s 208ms/step - loss: 1.1494 - root_mean_squared_error: 1.0721 - val_loss: 0.7639 - val_root_mean_squared_error: 0.8740\n",
      "Epoch 11/25\n",
      "179/179 [==============================] - 37s 207ms/step - loss: 1.0758 - root_mean_squared_error: 1.0372 - val_loss: 0.7394 - val_root_mean_squared_error: 0.8599\n",
      "Epoch 12/25\n",
      "179/179 [==============================] - 37s 207ms/step - loss: 1.0893 - root_mean_squared_error: 1.0437 - val_loss: 0.7565 - val_root_mean_squared_error: 0.8697\n",
      "Epoch 13/25\n",
      "179/179 [==============================] - 37s 207ms/step - loss: 1.0448 - root_mean_squared_error: 1.0222 - val_loss: 0.8071 - val_root_mean_squared_error: 0.8984\n",
      "Epoch 14/25\n",
      "179/179 [==============================] - 37s 208ms/step - loss: 1.0411 - root_mean_squared_error: 1.0204 - val_loss: 0.7623 - val_root_mean_squared_error: 0.8731\n",
      "Epoch 15/25\n",
      "179/179 [==============================] - 37s 207ms/step - loss: 1.0167 - root_mean_squared_error: 1.0083 - val_loss: 0.8443 - val_root_mean_squared_error: 0.9189\n",
      "Epoch 16/25\n",
      "179/179 [==============================] - 37s 207ms/step - loss: 1.0189 - root_mean_squared_error: 1.0094 - val_loss: 0.8899 - val_root_mean_squared_error: 0.9434\n",
      "Epoch 17/25\n",
      "179/179 [==============================] - 37s 207ms/step - loss: 1.0210 - root_mean_squared_error: 1.0104 - val_loss: 0.7927 - val_root_mean_squared_error: 0.8903\n",
      "Epoch 18/25\n",
      "179/179 [==============================] - 37s 208ms/step - loss: 0.9949 - root_mean_squared_error: 0.9975 - val_loss: 0.7429 - val_root_mean_squared_error: 0.8619\n",
      "Epoch 19/25\n",
      "179/179 [==============================] - 37s 207ms/step - loss: 0.9816 - root_mean_squared_error: 0.9908 - val_loss: 0.7919 - val_root_mean_squared_error: 0.8899\n",
      "Epoch 20/25\n",
      "179/179 [==============================] - 37s 207ms/step - loss: 0.9894 - root_mean_squared_error: 0.9947 - val_loss: 0.7255 - val_root_mean_squared_error: 0.8518\n",
      "Epoch 21/25\n",
      "179/179 [==============================] - 37s 207ms/step - loss: 0.9483 - root_mean_squared_error: 0.9738 - val_loss: 0.7745 - val_root_mean_squared_error: 0.8801\n",
      "Epoch 22/25\n",
      "179/179 [==============================] - 37s 208ms/step - loss: 0.9450 - root_mean_squared_error: 0.9721 - val_loss: 0.7415 - val_root_mean_squared_error: 0.8611\n",
      "Epoch 23/25\n",
      "179/179 [==============================] - 37s 207ms/step - loss: 0.9498 - root_mean_squared_error: 0.9746 - val_loss: 0.7660 - val_root_mean_squared_error: 0.8752\n",
      "Epoch 24/25\n",
      "179/179 [==============================] - 37s 207ms/step - loss: 0.9305 - root_mean_squared_error: 0.9646 - val_loss: 0.7338 - val_root_mean_squared_error: 0.8566\n",
      "Epoch 25/25\n",
      "179/179 [==============================] - 37s 207ms/step - loss: 0.9467 - root_mean_squared_error: 0.9730 - val_loss: 0.7895 - val_root_mean_squared_error: 0.8885\n"
     ]
    }
   ],
   "source": [
    "history = model.fit(\n",
    "    train_data,\n",
    "    validation_data=valid_data,\n",
    "    epochs=epochs,\n",
    "    use_multiprocessing=True,\n",
    "    workers=-1,\n",
    "    callbacks = [time_callback]\n",
    ")"
   ]
  },
  {
   "cell_type": "code",
   "execution_count": 17,
   "metadata": {},
   "outputs": [],
   "source": [
    "hist_df = pd.DataFrame(history.history) \n",
    "hist_csv_file = 'fine-tuning-albert-history-02.csv'\n",
    "with open(hist_csv_file, mode='w') as f:\n",
    "    hist_df.to_csv(f)"
   ]
  },
  {
   "cell_type": "code",
   "execution_count": 18,
   "metadata": {},
   "outputs": [
    {
     "name": "stdout",
     "output_type": "stream",
     "text": [
      "[46.87286019325256, 35.970815658569336, 36.46117639541626, 36.64298152923584, 36.84411668777466, 36.94751477241516, 36.933316469192505, 37.01644277572632, 37.00060558319092, 37.111520767211914, 37.09709167480469, 37.05241107940674, 37.040064334869385, 37.126811265945435, 37.05315923690796, 37.02454161643982, 36.99898147583008, 37.16005611419678, 37.03099060058594, 37.052393674850464, 37.00095582008362, 37.11003541946411, 37.06991267204285, 37.05381727218628, 37.018091678619385]\n"
     ]
    }
   ],
   "source": [
    "print(time_callback.times)"
   ]
  },
  {
   "cell_type": "code",
   "execution_count": 19,
   "metadata": {},
   "outputs": [],
   "source": [
    "hist_time_df = pd.DataFrame(time_callback.times) \n",
    "hist_csv_file = 'fine-tuning-albert-time-02.csv'\n",
    "with open(hist_csv_file, mode='w') as f:\n",
    "    hist_time_df.to_csv(f)"
   ]
  },
  {
   "cell_type": "code",
   "execution_count": 20,
   "metadata": {},
   "outputs": [],
   "source": [
    "model.save_weights('./fine-tuning-albert-model-02.h5')"
   ]
  },
  {
   "cell_type": "markdown",
   "metadata": {},
   "source": [
    "# Fine-tuning"
   ]
  },
  {
   "cell_type": "code",
   "execution_count": 21,
   "metadata": {},
   "outputs": [
    {
     "name": "stdout",
     "output_type": "stream",
     "text": [
      "Model: \"model\"\n",
      "__________________________________________________________________________________________________\n",
      "Layer (type)                    Output Shape         Param #     Connected to                     \n",
      "==================================================================================================\n",
      "input_ids (InputLayer)          [(None, 128)]        0                                            \n",
      "__________________________________________________________________________________________________\n",
      "attention_masks (InputLayer)    [(None, 128)]        0                                            \n",
      "__________________________________________________________________________________________________\n",
      "token_type_ids (InputLayer)     [(None, 128)]        0                                            \n",
      "__________________________________________________________________________________________________\n",
      "tf_albert_model (TFAlbertModel) TFBaseModelOutputWit 11683584    input_ids[0][0]                  \n",
      "                                                                 attention_masks[0][0]            \n",
      "                                                                 token_type_ids[0][0]             \n",
      "__________________________________________________________________________________________________\n",
      "global_average_pooling1d (Globa (None, 768)          0           tf_albert_model[0][0]            \n",
      "__________________________________________________________________________________________________\n",
      "dense (Dense)                   (None, 32)           24608       global_average_pooling1d[0][0]   \n",
      "__________________________________________________________________________________________________\n",
      "dropout_4 (Dropout)             (None, 32)           0           dense[0][0]                      \n",
      "__________________________________________________________________________________________________\n",
      "dense_1 (Dense)                 (None, 1)            33          dropout_4[0][0]                  \n",
      "==================================================================================================\n",
      "Total params: 11,708,225\n",
      "Trainable params: 11,708,225\n",
      "Non-trainable params: 0\n",
      "__________________________________________________________________________________________________\n"
     ]
    }
   ],
   "source": [
    "with strategy.scope():\n",
    "    # Unfreeze the bert_model.\n",
    "    albert_model.trainable = True\n",
    "    # Recompile the model to make the change effective.\n",
    "    model.compile(\n",
    "        optimizer=tf.keras.optimizers.Adam(1e-5),\n",
    "        loss=\"mse\",\n",
    "        metrics=[\n",
    "            tf.keras.metrics.RootMeanSquaredError()\n",
    "        ],\n",
    "    )\n",
    "\n",
    "model.summary()"
   ]
  },
  {
   "cell_type": "code",
   "execution_count": 22,
   "metadata": {},
   "outputs": [],
   "source": [
    "time_callback = TimeHistory()"
   ]
  },
  {
   "cell_type": "code",
   "execution_count": 23,
   "metadata": {},
   "outputs": [
    {
     "name": "stdout",
     "output_type": "stream",
     "text": [
      "Epoch 1/25\n",
      "WARNING:tensorflow:The parameters `output_attentions`, `output_hidden_states` and `use_cache` cannot be updated when calling a model.They have to be set to True/False in the config object (i.e.: `config=XConfig.from_pretrained('name', output_attentions=True)`).\n",
      "WARNING:tensorflow:The parameter `return_dict` cannot be set in graph mode and will always be set to `True`.\n",
      "WARNING:tensorflow:Gradients do not exist for variables ['tf_albert_model/albert/pooler/kernel:0', 'tf_albert_model/albert/pooler/bias:0'] when minimizing the loss.\n",
      "WARNING:tensorflow:The parameters `output_attentions`, `output_hidden_states` and `use_cache` cannot be updated when calling a model.They have to be set to True/False in the config object (i.e.: `config=XConfig.from_pretrained('name', output_attentions=True)`).\n",
      "WARNING:tensorflow:The parameter `return_dict` cannot be set in graph mode and will always be set to `True`.\n",
      "WARNING:tensorflow:Gradients do not exist for variables ['tf_albert_model/albert/pooler/kernel:0', 'tf_albert_model/albert/pooler/bias:0'] when minimizing the loss.\n",
      "179/179 [==============================] - ETA: 0s - loss: 1.7144 - root_mean_squared_error: 1.3093WARNING:tensorflow:The parameters `output_attentions`, `output_hidden_states` and `use_cache` cannot be updated when calling a model.They have to be set to True/False in the config object (i.e.: `config=XConfig.from_pretrained('name', output_attentions=True)`).\n",
      "WARNING:tensorflow:The parameter `return_dict` cannot be set in graph mode and will always be set to `True`.\n",
      "179/179 [==============================] - 96s 477ms/step - loss: 1.7144 - root_mean_squared_error: 1.3093 - val_loss: 1.1101 - val_root_mean_squared_error: 1.0536\n",
      "Epoch 2/25\n",
      "179/179 [==============================] - 83s 465ms/step - loss: 1.0879 - root_mean_squared_error: 1.0430 - val_loss: 0.7200 - val_root_mean_squared_error: 0.8485\n",
      "Epoch 3/25\n",
      "179/179 [==============================] - 83s 466ms/step - loss: 0.8467 - root_mean_squared_error: 0.9202 - val_loss: 0.6791 - val_root_mean_squared_error: 0.8241\n",
      "Epoch 4/25\n",
      "179/179 [==============================] - 83s 465ms/step - loss: 0.9180 - root_mean_squared_error: 0.9581 - val_loss: 0.6368 - val_root_mean_squared_error: 0.7980\n",
      "Epoch 5/25\n",
      "179/179 [==============================] - 83s 464ms/step - loss: 0.8092 - root_mean_squared_error: 0.8995 - val_loss: 0.7207 - val_root_mean_squared_error: 0.8489\n",
      "Epoch 6/25\n",
      "179/179 [==============================] - 83s 465ms/step - loss: 0.7149 - root_mean_squared_error: 0.8455 - val_loss: 0.5731 - val_root_mean_squared_error: 0.7571\n",
      "Epoch 7/25\n",
      "179/179 [==============================] - 83s 464ms/step - loss: 0.6320 - root_mean_squared_error: 0.7950 - val_loss: 0.5612 - val_root_mean_squared_error: 0.7492\n",
      "Epoch 8/25\n",
      "179/179 [==============================] - 83s 464ms/step - loss: 0.5560 - root_mean_squared_error: 0.7456 - val_loss: 0.5381 - val_root_mean_squared_error: 0.7336\n",
      "Epoch 9/25\n",
      "179/179 [==============================] - 83s 465ms/step - loss: 0.5335 - root_mean_squared_error: 0.7304 - val_loss: 0.5370 - val_root_mean_squared_error: 0.7328\n",
      "Epoch 10/25\n",
      "179/179 [==============================] - 83s 464ms/step - loss: 0.4989 - root_mean_squared_error: 0.7063 - val_loss: 0.5248 - val_root_mean_squared_error: 0.7244\n",
      "Epoch 11/25\n",
      "179/179 [==============================] - 83s 464ms/step - loss: 0.4508 - root_mean_squared_error: 0.6714 - val_loss: 0.5349 - val_root_mean_squared_error: 0.7314\n",
      "Epoch 12/25\n",
      "179/179 [==============================] - 83s 465ms/step - loss: 0.4321 - root_mean_squared_error: 0.6573 - val_loss: 0.5753 - val_root_mean_squared_error: 0.7585\n",
      "Epoch 13/25\n",
      "179/179 [==============================] - 83s 465ms/step - loss: 0.4037 - root_mean_squared_error: 0.6354 - val_loss: 0.5493 - val_root_mean_squared_error: 0.7412\n",
      "Epoch 14/25\n",
      "179/179 [==============================] - 83s 464ms/step - loss: 0.3781 - root_mean_squared_error: 0.6149 - val_loss: 0.5556 - val_root_mean_squared_error: 0.7454\n",
      "Epoch 15/25\n",
      "179/179 [==============================] - 83s 465ms/step - loss: 0.5262 - root_mean_squared_error: 0.7254 - val_loss: 0.5330 - val_root_mean_squared_error: 0.7300\n",
      "Epoch 16/25\n",
      "179/179 [==============================] - 83s 464ms/step - loss: 0.8833 - root_mean_squared_error: 0.9399 - val_loss: 0.6391 - val_root_mean_squared_error: 0.7994\n",
      "Epoch 17/25\n",
      "179/179 [==============================] - 83s 464ms/step - loss: 0.5703 - root_mean_squared_error: 0.7552 - val_loss: 0.5994 - val_root_mean_squared_error: 0.7742\n",
      "Epoch 18/25\n",
      "179/179 [==============================] - 83s 464ms/step - loss: 0.5121 - root_mean_squared_error: 0.7156 - val_loss: 0.5886 - val_root_mean_squared_error: 0.7672\n",
      "Epoch 19/25\n",
      "179/179 [==============================] - 83s 464ms/step - loss: 0.4591 - root_mean_squared_error: 0.6776 - val_loss: 0.5832 - val_root_mean_squared_error: 0.7637\n",
      "Epoch 20/25\n",
      "179/179 [==============================] - 83s 464ms/step - loss: 0.4433 - root_mean_squared_error: 0.6658 - val_loss: 0.5364 - val_root_mean_squared_error: 0.7324\n",
      "Epoch 21/25\n",
      "179/179 [==============================] - 83s 465ms/step - loss: 0.5756 - root_mean_squared_error: 0.7587 - val_loss: 0.6366 - val_root_mean_squared_error: 0.7979\n",
      "Epoch 22/25\n",
      "179/179 [==============================] - 83s 466ms/step - loss: 0.5049 - root_mean_squared_error: 0.7105 - val_loss: 0.5654 - val_root_mean_squared_error: 0.7519\n",
      "Epoch 23/25\n",
      "179/179 [==============================] - 83s 465ms/step - loss: 0.3952 - root_mean_squared_error: 0.6287 - val_loss: 0.5357 - val_root_mean_squared_error: 0.7319\n",
      "Epoch 24/25\n",
      "179/179 [==============================] - 83s 465ms/step - loss: 0.3788 - root_mean_squared_error: 0.6154 - val_loss: 0.5376 - val_root_mean_squared_error: 0.7332\n",
      "Epoch 25/25\n",
      "179/179 [==============================] - 83s 465ms/step - loss: 0.3556 - root_mean_squared_error: 0.5964 - val_loss: 0.5389 - val_root_mean_squared_error: 0.7341\n"
     ]
    }
   ],
   "source": [
    "history = model.fit(\n",
    "    train_data,\n",
    "    validation_data=valid_data,\n",
    "    epochs=epochs,\n",
    "    use_multiprocessing=True,\n",
    "    workers=-1,\n",
    "    callbacks = [time_callback]\n",
    ")"
   ]
  },
  {
   "cell_type": "code",
   "execution_count": 24,
   "metadata": {},
   "outputs": [],
   "source": [
    "hist_df = pd.DataFrame(history.history) \n",
    "hist_csv_file = 'fine-tuning-albert-history-02-fine-tuned.csv'\n",
    "with open(hist_csv_file, mode='w') as f:\n",
    "    hist_df.to_csv(f)"
   ]
  },
  {
   "cell_type": "code",
   "execution_count": 25,
   "metadata": {},
   "outputs": [],
   "source": [
    "hist_time_df = pd.DataFrame(time_callback.times) \n",
    "hist_csv_file = 'fine-tuning-albert-time-02-fine-tuned.csv'\n",
    "with open(hist_csv_file, mode='w') as f:\n",
    "    hist_time_df.to_csv(f)"
   ]
  },
  {
   "cell_type": "code",
   "execution_count": 26,
   "metadata": {},
   "outputs": [],
   "source": [
    "model.save_weights('./fine-tuning-albert-model-02-fine-tuned.h5')"
   ]
  },
  {
   "cell_type": "markdown",
   "metadata": {},
   "source": [
    "# Evaluation"
   ]
  },
  {
   "cell_type": "code",
   "execution_count": 27,
   "metadata": {},
   "outputs": [
    {
     "name": "stdout",
     "output_type": "stream",
     "text": [
      "43/43 [==============================] - 7s 164ms/step - loss: 0.7528 - root_mean_squared_error: 0.8677\n"
     ]
    },
    {
     "data": {
      "text/plain": [
       "[0.7528190612792969, 0.8676514625549316]"
      ]
     },
     "execution_count": 27,
     "metadata": {},
     "output_type": "execute_result"
    }
   ],
   "source": [
    "model.evaluate(test_data, verbose=1)"
   ]
  },
  {
   "cell_type": "markdown",
   "metadata": {},
   "source": [
    "# Testing"
   ]
  },
  {
   "cell_type": "code",
   "execution_count": 28,
   "metadata": {},
   "outputs": [],
   "source": [
    "def check_similarity(sentence1, sentence2):\n",
    "    sentence_pairs = np.array([[str(sentence1), str(sentence2)]])\n",
    "    data = AlbertSemanticDataGenerator(\n",
    "        sentence_pairs, scores=None, batch_size=1, shuffle=False, include_targets=False,\n",
    "    )\n",
    "\n",
    "    score = model.predict(data)[0]\n",
    "    return score"
   ]
  },
  {
   "cell_type": "code",
   "execution_count": 29,
   "metadata": {},
   "outputs": [
    {
     "name": "stdout",
     "output_type": "stream",
     "text": [
      "WARNING:tensorflow:The parameters `output_attentions`, `output_hidden_states` and `use_cache` cannot be updated when calling a model.They have to be set to True/False in the config object (i.e.: `config=XConfig.from_pretrained('name', output_attentions=True)`).\n",
      "WARNING:tensorflow:The parameter `return_dict` cannot be set in graph mode and will always be set to `True`.\n"
     ]
    },
    {
     "data": {
      "text/plain": [
       "array([2.8670263], dtype=float32)"
      ]
     },
     "execution_count": 29,
     "metadata": {},
     "output_type": "execute_result"
    }
   ],
   "source": [
    "sentence1 = 'A distributed system is a system from multiple computers which communicate with each other via network'\n",
    "sentence2 = 'A distributed system is a system from one computer without network'\n",
    "check_similarity(sentence1, sentence2)"
   ]
  },
  {
   "cell_type": "code",
   "execution_count": 30,
   "metadata": {},
   "outputs": [
    {
     "data": {
      "text/plain": [
       "array([1.7264205], dtype=float32)"
      ]
     },
     "execution_count": 30,
     "metadata": {},
     "output_type": "execute_result"
    }
   ],
   "source": [
    "sentence1 = 'asdsd'\n",
    "sentence2 = 'asdsad are good sdsdsdsds'\n",
    "check_similarity(sentence1, sentence2)"
   ]
  },
  {
   "cell_type": "code",
   "execution_count": 31,
   "metadata": {},
   "outputs": [
    {
     "data": {
      "text/plain": [
       "array([2.5044184], dtype=float32)"
      ]
     },
     "execution_count": 31,
     "metadata": {},
     "output_type": "execute_result"
    }
   ],
   "source": [
    "sentence1 = 'the activity of learning or being trained'\n",
    "sentence2 = 'the gradual process of acquiring knowledge.'\n",
    "check_similarity(sentence1, sentence2)"
   ]
  },
  {
   "cell_type": "code",
   "execution_count": null,
   "metadata": {},
   "outputs": [],
   "source": []
  }
 ],
 "metadata": {
  "kernelspec": {
   "display_name": "Python 3",
   "language": "python",
   "name": "python3"
  },
  "language_info": {
   "codemirror_mode": {
    "name": "ipython",
    "version": 3
   },
   "file_extension": ".py",
   "mimetype": "text/x-python",
   "name": "python",
   "nbconvert_exporter": "python",
   "pygments_lexer": "ipython3",
   "version": "3.8.6"
  }
 },
 "nbformat": 4,
 "nbformat_minor": 5
}
