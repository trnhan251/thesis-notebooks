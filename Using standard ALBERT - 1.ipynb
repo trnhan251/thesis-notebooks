{
 "cells": [
  {
   "cell_type": "code",
   "execution_count": 1,
   "metadata": {},
   "outputs": [],
   "source": [
    "import os\n",
    "os.environ[\"TF_FORCE_GPU_ALLOW_GROWTH\"]=\"true\"\n",
    "# https://github.com/tensorflow/tensorflow/issues/33721 "
   ]
  },
  {
   "cell_type": "code",
   "execution_count": 2,
   "metadata": {},
   "outputs": [],
   "source": [
    "import numpy as np\n",
    "import pandas as pd\n",
    "import tensorflow as tf\n",
    "import transformers\n",
    "import seaborn as sns\n",
    "import time\n",
    "from csv import QUOTE_NONE"
   ]
  },
  {
   "cell_type": "code",
   "execution_count": 3,
   "metadata": {},
   "outputs": [
    {
     "name": "stdout",
     "output_type": "stream",
     "text": [
      "Num GPUs Available:  1\n"
     ]
    }
   ],
   "source": [
    "print(\"Num GPUs Available: \", len(tf.config.list_physical_devices('GPU')))"
   ]
  },
  {
   "cell_type": "code",
   "execution_count": 4,
   "metadata": {},
   "outputs": [],
   "source": [
    "train_df = pd.read_csv('../sts-train.csv', sep='\\t', usecols=[4, 5, 6], header=None, quoting=QUOTE_NONE, names=['score', 'sentence1', 'sentence2'])\n",
    "validation_df = pd.read_csv('../sts-dev.csv', sep='\\t', usecols=[4, 5, 6], header=None, quoting=QUOTE_NONE, names=['score', 'sentence1', 'sentence2'])\n",
    "test_df = pd.read_csv('../sts-test.csv', sep='\\t', usecols=[4, 5, 6], header=None, quoting=QUOTE_NONE, names=['score', 'sentence1', 'sentence2'])"
   ]
  },
  {
   "cell_type": "code",
   "execution_count": 5,
   "metadata": {},
   "outputs": [
    {
     "data": {
      "text/html": [
       "<div>\n",
       "<style scoped>\n",
       "    .dataframe tbody tr th:only-of-type {\n",
       "        vertical-align: middle;\n",
       "    }\n",
       "\n",
       "    .dataframe tbody tr th {\n",
       "        vertical-align: top;\n",
       "    }\n",
       "\n",
       "    .dataframe thead th {\n",
       "        text-align: right;\n",
       "    }\n",
       "</style>\n",
       "<table border=\"1\" class=\"dataframe\">\n",
       "  <thead>\n",
       "    <tr style=\"text-align: right;\">\n",
       "      <th></th>\n",
       "      <th>score</th>\n",
       "      <th>sentence1</th>\n",
       "      <th>sentence2</th>\n",
       "    </tr>\n",
       "  </thead>\n",
       "  <tbody>\n",
       "    <tr>\n",
       "      <th>0</th>\n",
       "      <td>5.00</td>\n",
       "      <td>A plane is taking off.</td>\n",
       "      <td>An air plane is taking off.</td>\n",
       "    </tr>\n",
       "    <tr>\n",
       "      <th>1</th>\n",
       "      <td>3.80</td>\n",
       "      <td>A man is playing a large flute.</td>\n",
       "      <td>A man is playing a flute.</td>\n",
       "    </tr>\n",
       "    <tr>\n",
       "      <th>2</th>\n",
       "      <td>3.80</td>\n",
       "      <td>A man is spreading shreded cheese on a pizza.</td>\n",
       "      <td>A man is spreading shredded cheese on an uncoo...</td>\n",
       "    </tr>\n",
       "    <tr>\n",
       "      <th>3</th>\n",
       "      <td>2.60</td>\n",
       "      <td>Three men are playing chess.</td>\n",
       "      <td>Two men are playing chess.</td>\n",
       "    </tr>\n",
       "    <tr>\n",
       "      <th>4</th>\n",
       "      <td>4.25</td>\n",
       "      <td>A man is playing the cello.</td>\n",
       "      <td>A man seated is playing the cello.</td>\n",
       "    </tr>\n",
       "  </tbody>\n",
       "</table>\n",
       "</div>"
      ],
      "text/plain": [
       "   score                                      sentence1  \\\n",
       "0   5.00                         A plane is taking off.   \n",
       "1   3.80                A man is playing a large flute.   \n",
       "2   3.80  A man is spreading shreded cheese on a pizza.   \n",
       "3   2.60                   Three men are playing chess.   \n",
       "4   4.25                    A man is playing the cello.   \n",
       "\n",
       "                                           sentence2  \n",
       "0                        An air plane is taking off.  \n",
       "1                          A man is playing a flute.  \n",
       "2  A man is spreading shredded cheese on an uncoo...  \n",
       "3                         Two men are playing chess.  \n",
       "4                 A man seated is playing the cello.  "
      ]
     },
     "execution_count": 5,
     "metadata": {},
     "output_type": "execute_result"
    }
   ],
   "source": [
    "train_df.head()"
   ]
  },
  {
   "cell_type": "code",
   "execution_count": 6,
   "metadata": {},
   "outputs": [],
   "source": [
    "train_df = train_df.dropna()\n",
    "validation_df = validation_df.dropna()\n",
    "test_df = test_df.dropna()"
   ]
  },
  {
   "cell_type": "code",
   "execution_count": 7,
   "metadata": {},
   "outputs": [
    {
     "data": {
      "text/plain": [
       "score        5749\n",
       "sentence1    5749\n",
       "sentence2    5749\n",
       "dtype: int64"
      ]
     },
     "execution_count": 7,
     "metadata": {},
     "output_type": "execute_result"
    }
   ],
   "source": [
    "train_df.count()"
   ]
  },
  {
   "cell_type": "code",
   "execution_count": 8,
   "metadata": {},
   "outputs": [
    {
     "data": {
      "text/plain": [
       "score        1500\n",
       "sentence1    1500\n",
       "sentence2    1500\n",
       "dtype: int64"
      ]
     },
     "execution_count": 8,
     "metadata": {},
     "output_type": "execute_result"
    }
   ],
   "source": [
    "validation_df.count()"
   ]
  },
  {
   "cell_type": "code",
   "execution_count": 9,
   "metadata": {},
   "outputs": [
    {
     "data": {
      "text/plain": [
       "score        1379\n",
       "sentence1    1379\n",
       "sentence2    1379\n",
       "dtype: int64"
      ]
     },
     "execution_count": 9,
     "metadata": {},
     "output_type": "execute_result"
    }
   ],
   "source": [
    "test_df.count()"
   ]
  },
  {
   "cell_type": "markdown",
   "metadata": {},
   "source": [
    "# Data Generator"
   ]
  },
  {
   "cell_type": "code",
   "execution_count": 10,
   "metadata": {},
   "outputs": [],
   "source": [
    "max_length = 128  # Maximum length of input sentence to the model.\n",
    "batch_size = 32\n",
    "epochs = 50"
   ]
  },
  {
   "cell_type": "code",
   "execution_count": 11,
   "metadata": {},
   "outputs": [],
   "source": [
    "class AlbertSemanticDataGenerator(tf.keras.utils.Sequence):\n",
    "    def __init__(\n",
    "        self,\n",
    "        sentence_pairs,\n",
    "        scores,\n",
    "        batch_size=batch_size,\n",
    "        shuffle=True,\n",
    "        include_targets=True,\n",
    "    ):\n",
    "        self.sentence_pairs = sentence_pairs\n",
    "        self.scores = scores\n",
    "        self.shuffle = shuffle\n",
    "        self.batch_size = batch_size\n",
    "        self.include_targets = include_targets\n",
    "        # Load our BERT Tokenizer to encode the text.\n",
    "        # We will use base-base-uncased pretrained model.\n",
    "        self.tokenizer = transformers.AlbertTokenizer.from_pretrained(\n",
    "            \"albert-base-v2\", do_lower_case=True\n",
    "        )\n",
    "        self.indexes = np.arange(len(self.sentence_pairs))\n",
    "        self.on_epoch_end()\n",
    "\n",
    "    def __len__(self):\n",
    "        # Denotes the number of batches per epoch.\n",
    "        return len(self.sentence_pairs) // self.batch_size\n",
    "\n",
    "    def __getitem__(self, idx):\n",
    "        # Retrieves the batch of index.\n",
    "        indexes = self.indexes[idx * self.batch_size : (idx + 1) * self.batch_size]\n",
    "        sentence_pairs = self.sentence_pairs[indexes]\n",
    "\n",
    "        # With BERT tokenizer's batch_encode_plus batch of both the sentences are\n",
    "        # encoded together and separated by [SEP] token.\n",
    "        encoded = self.tokenizer.batch_encode_plus(\n",
    "            sentence_pairs.tolist(),\n",
    "            add_special_tokens=True,\n",
    "            max_length=max_length,\n",
    "            return_attention_mask=True,\n",
    "            return_token_type_ids=True,\n",
    "            pad_to_max_length=True,\n",
    "            truncation=True,\n",
    "            return_tensors=\"tf\",\n",
    "        )\n",
    "\n",
    "        # Convert batch of encoded features to numpy array.\n",
    "        input_ids = np.array(encoded[\"input_ids\"], dtype=\"int32\")\n",
    "        attention_masks = np.array(encoded[\"attention_mask\"], dtype=\"int32\")\n",
    "        token_type_ids = np.array(encoded[\"token_type_ids\"], dtype=\"int32\")\n",
    "\n",
    "        # Set to true if data generator is used for training/validation.\n",
    "        if self.include_targets:\n",
    "            scores = np.array(self.scores[indexes], dtype=\"int32\")\n",
    "            return [input_ids, attention_masks, token_type_ids], scores\n",
    "        else:\n",
    "            return [input_ids, attention_masks, token_type_ids]\n",
    "\n",
    "    def on_epoch_end(self):\n",
    "        # Shuffle indexes after each epoch if shuffle is set to True.\n",
    "        if self.shuffle:\n",
    "            np.random.RandomState(42).shuffle(self.indexes)"
   ]
  },
  {
   "cell_type": "markdown",
   "metadata": {},
   "source": [
    "# Setup Model Architecture"
   ]
  },
  {
   "cell_type": "code",
   "execution_count": 12,
   "metadata": {},
   "outputs": [
    {
     "name": "stdout",
     "output_type": "stream",
     "text": [
      "WARNING:tensorflow:Collective ops is not configured at program startup. Some performance features may not be enabled.\n",
      "INFO:tensorflow:Using MirroredStrategy with devices ('/job:localhost/replica:0/task:0/device:GPU:0',)\n"
     ]
    },
    {
     "name": "stderr",
     "output_type": "stream",
     "text": [
      "Some layers from the model checkpoint at albert-base-v2 were not used when initializing TFAlbertModel: ['predictions']\n",
      "- This IS expected if you are initializing TFAlbertModel from the checkpoint of a model trained on another task or with another architecture (e.g. initializing a BertForSequenceClassification model from a BertForPreTraining model).\n",
      "- This IS NOT expected if you are initializing TFAlbertModel from the checkpoint of a model that you expect to be exactly identical (initializing a BertForSequenceClassification model from a BertForSequenceClassification model).\n",
      "All the layers of TFAlbertModel were initialized from the model checkpoint at albert-base-v2.\n",
      "If your task is similar to the task the model of the checkpoint was trained on, you can already use TFAlbertModel for predictions without further training.\n"
     ]
    },
    {
     "name": "stdout",
     "output_type": "stream",
     "text": [
      "WARNING:tensorflow:The parameters `output_attentions`, `output_hidden_states` and `use_cache` cannot be updated when calling a model.They have to be set to True/False in the config object (i.e.: `config=XConfig.from_pretrained('name', output_attentions=True)`).\n",
      "WARNING:tensorflow:AutoGraph could not transform <bound method Socket.send of <zmq.sugar.socket.Socket object at 0x7fec944ab0a0>> and will run it as-is.\n",
      "Please report this to the TensorFlow team. When filing the bug, set the verbosity to 10 (on Linux, `export AUTOGRAPH_VERBOSITY=10`) and attach the full output.\n",
      "Cause: module, class, method, function, traceback, frame, or code object was expected, got cython_function_or_method\n",
      "To silence this warning, decorate the function with @tf.autograph.experimental.do_not_convert\n",
      "WARNING: AutoGraph could not transform <bound method Socket.send of <zmq.sugar.socket.Socket object at 0x7fec944ab0a0>> and will run it as-is.\n",
      "Please report this to the TensorFlow team. When filing the bug, set the verbosity to 10 (on Linux, `export AUTOGRAPH_VERBOSITY=10`) and attach the full output.\n",
      "Cause: module, class, method, function, traceback, frame, or code object was expected, got cython_function_or_method\n",
      "To silence this warning, decorate the function with @tf.autograph.experimental.do_not_convert\n",
      "WARNING:tensorflow:The parameter `return_dict` cannot be set in graph mode and will always be set to `True`.\n",
      "WARNING:tensorflow:From /opt/spack/opt/spack/linux-centos8-skylake_avx512/gcc-8.3.1/python-3.8.6-57rsjc5dqlwimr7jmfiqauov4l2hsuop/lib/python3.8/site-packages/tensorflow/python/ops/array_ops.py:5043: calling gather (from tensorflow.python.ops.array_ops) with validate_indices is deprecated and will be removed in a future version.\n",
      "Instructions for updating:\n",
      "The `validate_indices` argument has no effect. Indices are always validated on CPU and never validated on GPU.\n",
      "INFO:tensorflow:Reduce to /job:localhost/replica:0/task:0/device:CPU:0 then broadcast to ('/job:localhost/replica:0/task:0/device:CPU:0',).\n",
      "INFO:tensorflow:Reduce to /job:localhost/replica:0/task:0/device:CPU:0 then broadcast to ('/job:localhost/replica:0/task:0/device:CPU:0',).\n",
      "INFO:tensorflow:Reduce to /job:localhost/replica:0/task:0/device:CPU:0 then broadcast to ('/job:localhost/replica:0/task:0/device:CPU:0',).\n",
      "INFO:tensorflow:Reduce to /job:localhost/replica:0/task:0/device:CPU:0 then broadcast to ('/job:localhost/replica:0/task:0/device:CPU:0',).\n",
      "INFO:tensorflow:Reduce to /job:localhost/replica:0/task:0/device:CPU:0 then broadcast to ('/job:localhost/replica:0/task:0/device:CPU:0',).\n",
      "INFO:tensorflow:Reduce to /job:localhost/replica:0/task:0/device:CPU:0 then broadcast to ('/job:localhost/replica:0/task:0/device:CPU:0',).\n",
      "INFO:tensorflow:Reduce to /job:localhost/replica:0/task:0/device:CPU:0 then broadcast to ('/job:localhost/replica:0/task:0/device:CPU:0',).\n",
      "INFO:tensorflow:Reduce to /job:localhost/replica:0/task:0/device:CPU:0 then broadcast to ('/job:localhost/replica:0/task:0/device:CPU:0',).\n",
      "Strategy: <tensorflow.python.distribute.mirrored_strategy.MirroredStrategy object at 0x7feb5fd68280>\n",
      "Model: \"model\"\n",
      "__________________________________________________________________________________________________\n",
      "Layer (type)                    Output Shape         Param #     Connected to                     \n",
      "==================================================================================================\n",
      "input_ids (InputLayer)          [(None, 128)]        0                                            \n",
      "__________________________________________________________________________________________________\n",
      "attention_masks (InputLayer)    [(None, 128)]        0                                            \n",
      "__________________________________________________________________________________________________\n",
      "token_type_ids (InputLayer)     [(None, 128)]        0                                            \n",
      "__________________________________________________________________________________________________\n",
      "tf_albert_model (TFAlbertModel) TFBaseModelOutputWit 11683584    input_ids[0][0]                  \n",
      "                                                                 attention_masks[0][0]            \n",
      "                                                                 token_type_ids[0][0]             \n",
      "__________________________________________________________________________________________________\n",
      "global_average_pooling1d (Globa (None, 768)          0           tf_albert_model[0][0]            \n",
      "__________________________________________________________________________________________________\n",
      "dense (Dense)                   (None, 32)           24608       global_average_pooling1d[0][0]   \n",
      "__________________________________________________________________________________________________\n",
      "dropout_4 (Dropout)             (None, 32)           0           dense[0][0]                      \n",
      "__________________________________________________________________________________________________\n",
      "dense_1 (Dense)                 (None, 1)            33          dropout_4[0][0]                  \n",
      "==================================================================================================\n",
      "Total params: 11,708,225\n",
      "Trainable params: 24,641\n",
      "Non-trainable params: 11,683,584\n",
      "__________________________________________________________________________________________________\n"
     ]
    }
   ],
   "source": [
    "# Create the model under a distribution strategy scope.\n",
    "strategy = tf.distribute.MirroredStrategy()\n",
    "\n",
    "with strategy.scope():\n",
    "    # Encoded token ids from BERT tokenizer.\n",
    "    input_ids = tf.keras.layers.Input(\n",
    "        shape=(max_length,), dtype=tf.int32, name=\"input_ids\"\n",
    "    )\n",
    "    # Attention masks indicates to the model which tokens should be attended to.\n",
    "    attention_masks = tf.keras.layers.Input(\n",
    "        shape=(max_length,), dtype=tf.int32, name=\"attention_masks\"\n",
    "    )\n",
    "    # Token type ids are binary masks identifying different sequences in the model.\n",
    "    token_type_ids = tf.keras.layers.Input(\n",
    "        shape=(max_length,), dtype=tf.int32, name=\"token_type_ids\"\n",
    "    )\n",
    "    # Loading pretrained BERT model.\n",
    "    albert_model = transformers.TFAlbertModel.from_pretrained(\"albert-base-v2\")\n",
    "    # Freeze the BERT model to reuse the pretrained features without modifying them.\n",
    "    albert_model.trainable = False\n",
    "\n",
    "    albert_outputs = albert_model(\n",
    "        input_ids, attention_mask=attention_masks, token_type_ids=token_type_ids\n",
    "    )\n",
    "    last_hidden_state = albert_outputs[0]\n",
    "    \n",
    "    # Applying hybrid pooling approach to bi_lstm sequence output.\n",
    "    avg_pool = tf.keras.layers.GlobalAveragePooling1D()(last_hidden_state)\n",
    "    dense_layer = tf.keras.layers.Dense(32, activation=\"relu\")(avg_pool)\n",
    "    dropout = tf.keras.layers.Dropout(0.5)(dense_layer)\n",
    "    output_layer = tf.keras.layers.Dense(1)(dropout)\n",
    "    model = tf.keras.models.Model(\n",
    "        inputs=[input_ids, attention_masks, token_type_ids], outputs=output_layer\n",
    "    )\n",
    "\n",
    "    model.compile(\n",
    "        optimizer=tf.keras.optimizers.Adam(),\n",
    "        loss=\"mse\",\n",
    "        metrics=[\n",
    "            tf.keras.metrics.RootMeanSquaredError()\n",
    "        ],\n",
    "    )\n",
    "\n",
    "\n",
    "print(f\"Strategy: {strategy}\")\n",
    "model.summary()"
   ]
  },
  {
   "cell_type": "markdown",
   "metadata": {},
   "source": [
    "# Convert Data"
   ]
  },
  {
   "cell_type": "code",
   "execution_count": 13,
   "metadata": {},
   "outputs": [],
   "source": [
    "train_data = AlbertSemanticDataGenerator(\n",
    "    train_df[[\"sentence1\", \"sentence2\"]].values.astype(\"str\"),\n",
    "    train_df['score'].values,\n",
    "    batch_size=batch_size,\n",
    "    shuffle=True,\n",
    ")\n",
    "\n",
    "valid_data = AlbertSemanticDataGenerator(\n",
    "    validation_df[[\"sentence1\", \"sentence2\"]].values.astype(\"str\"),\n",
    "    validation_df['score'].values,\n",
    "    batch_size=batch_size,\n",
    "    shuffle=False,\n",
    ")\n",
    "\n",
    "test_data = AlbertSemanticDataGenerator(\n",
    "    test_df[[\"sentence1\", \"sentence2\"]].values.astype(\"str\"),\n",
    "    test_df['score'].values,\n",
    "    batch_size=batch_size,\n",
    "    shuffle=False,\n",
    ")"
   ]
  },
  {
   "cell_type": "markdown",
   "metadata": {},
   "source": [
    "# Train Model without Fine-tuning"
   ]
  },
  {
   "cell_type": "code",
   "execution_count": 14,
   "metadata": {},
   "outputs": [],
   "source": [
    "class TimeHistory(tf.keras.callbacks.Callback):\n",
    "    def on_train_begin(self, logs={}):\n",
    "        self.times = []\n",
    "\n",
    "    def on_epoch_begin(self, batch, logs={}):\n",
    "        self.epoch_time_start = time.time()\n",
    "\n",
    "    def on_epoch_end(self, batch, logs={}):\n",
    "        self.times.append(time.time() - self.epoch_time_start)"
   ]
  },
  {
   "cell_type": "code",
   "execution_count": 15,
   "metadata": {},
   "outputs": [],
   "source": [
    "time_callback = TimeHistory()"
   ]
  },
  {
   "cell_type": "code",
   "execution_count": 16,
   "metadata": {
    "scrolled": false
   },
   "outputs": [
    {
     "name": "stdout",
     "output_type": "stream",
     "text": [
      "Epoch 1/50\n",
      "WARNING:tensorflow:The parameters `output_attentions`, `output_hidden_states` and `use_cache` cannot be updated when calling a model.They have to be set to True/False in the config object (i.e.: `config=XConfig.from_pretrained('name', output_attentions=True)`).\n",
      "WARNING:tensorflow:The parameter `return_dict` cannot be set in graph mode and will always be set to `True`.\n"
     ]
    },
    {
     "name": "stderr",
     "output_type": "stream",
     "text": [
      "/opt/spack/opt/spack/linux-centos8-skylake_avx512/gcc-8.3.1/python-3.8.6-57rsjc5dqlwimr7jmfiqauov4l2hsuop/lib/python3.8/site-packages/transformers/tokenization_utils_base.py:2105: FutureWarning: The `pad_to_max_length` argument is deprecated and will be removed in a future version, use `padding=True` or `padding='longest'` to pad to the longest sequence in the batch, or use `padding='max_length'` to pad to a max length. In this case, you can give a specific length with `max_length` (e.g. `max_length=45`) or leave max_length to None to pad to the maximal input size of the model (e.g. 512 for Bert).\n",
      "  warnings.warn(\n"
     ]
    },
    {
     "name": "stdout",
     "output_type": "stream",
     "text": [
      "INFO:tensorflow:Reduce to /job:localhost/replica:0/task:0/device:CPU:0 then broadcast to ('/job:localhost/replica:0/task:0/device:CPU:0',).\n",
      "INFO:tensorflow:Reduce to /job:localhost/replica:0/task:0/device:CPU:0 then broadcast to ('/job:localhost/replica:0/task:0/device:CPU:0',).\n",
      "WARNING:tensorflow:The parameters `output_attentions`, `output_hidden_states` and `use_cache` cannot be updated when calling a model.They have to be set to True/False in the config object (i.e.: `config=XConfig.from_pretrained('name', output_attentions=True)`).\n",
      "WARNING:tensorflow:The parameter `return_dict` cannot be set in graph mode and will always be set to `True`.\n",
      "179/179 [==============================] - ETA: 0s - loss: 1.8451 - root_mean_squared_error: 1.3583WARNING:tensorflow:The parameters `output_attentions`, `output_hidden_states` and `use_cache` cannot be updated when calling a model.They have to be set to True/False in the config object (i.e.: `config=XConfig.from_pretrained('name', output_attentions=True)`).\n",
      "WARNING:tensorflow:The parameter `return_dict` cannot be set in graph mode and will always be set to `True`.\n",
      "179/179 [==============================] - 47s 214ms/step - loss: 1.8451 - root_mean_squared_error: 1.3583 - val_loss: 1.0082 - val_root_mean_squared_error: 1.0041\n",
      "Epoch 2/50\n",
      "179/179 [==============================] - 36s 201ms/step - loss: 1.4156 - root_mean_squared_error: 1.1898 - val_loss: 0.8845 - val_root_mean_squared_error: 0.9405\n",
      "Epoch 3/50\n",
      "179/179 [==============================] - 37s 204ms/step - loss: 1.2828 - root_mean_squared_error: 1.1326 - val_loss: 0.8062 - val_root_mean_squared_error: 0.8979\n",
      "Epoch 4/50\n",
      "179/179 [==============================] - 37s 205ms/step - loss: 1.2081 - root_mean_squared_error: 1.0991 - val_loss: 0.7906 - val_root_mean_squared_error: 0.8892\n",
      "Epoch 5/50\n",
      "179/179 [==============================] - 37s 207ms/step - loss: 1.1721 - root_mean_squared_error: 1.0826 - val_loss: 0.7653 - val_root_mean_squared_error: 0.8748\n",
      "Epoch 6/50\n",
      "179/179 [==============================] - 37s 207ms/step - loss: 1.1112 - root_mean_squared_error: 1.0542 - val_loss: 0.7619 - val_root_mean_squared_error: 0.8728\n",
      "Epoch 7/50\n",
      "179/179 [==============================] - 37s 207ms/step - loss: 1.0950 - root_mean_squared_error: 1.0464 - val_loss: 0.7400 - val_root_mean_squared_error: 0.8602\n",
      "Epoch 8/50\n",
      "179/179 [==============================] - 37s 207ms/step - loss: 1.1203 - root_mean_squared_error: 1.0585 - val_loss: 0.7464 - val_root_mean_squared_error: 0.8640\n",
      "Epoch 9/50\n",
      "179/179 [==============================] - 37s 208ms/step - loss: 1.0407 - root_mean_squared_error: 1.0201 - val_loss: 0.7412 - val_root_mean_squared_error: 0.8609\n",
      "Epoch 10/50\n",
      "179/179 [==============================] - 37s 207ms/step - loss: 1.0214 - root_mean_squared_error: 1.0106 - val_loss: 0.8129 - val_root_mean_squared_error: 0.9016\n",
      "Epoch 11/50\n",
      "179/179 [==============================] - 37s 207ms/step - loss: 0.9967 - root_mean_squared_error: 0.9984 - val_loss: 0.7392 - val_root_mean_squared_error: 0.8598\n",
      "Epoch 12/50\n",
      "179/179 [==============================] - 37s 207ms/step - loss: 0.9965 - root_mean_squared_error: 0.9983 - val_loss: 0.7661 - val_root_mean_squared_error: 0.8753\n",
      "Epoch 13/50\n",
      "179/179 [==============================] - 37s 207ms/step - loss: 0.9795 - root_mean_squared_error: 0.9897 - val_loss: 0.9035 - val_root_mean_squared_error: 0.9506\n",
      "Epoch 14/50\n",
      "179/179 [==============================] - 37s 207ms/step - loss: 0.9896 - root_mean_squared_error: 0.9948 - val_loss: 0.7439 - val_root_mean_squared_error: 0.8625\n",
      "Epoch 15/50\n",
      "179/179 [==============================] - 37s 207ms/step - loss: 0.9512 - root_mean_squared_error: 0.9753 - val_loss: 0.7326 - val_root_mean_squared_error: 0.8559\n",
      "Epoch 16/50\n",
      "179/179 [==============================] - 37s 207ms/step - loss: 0.9515 - root_mean_squared_error: 0.9755 - val_loss: 0.7264 - val_root_mean_squared_error: 0.8523\n",
      "Epoch 17/50\n",
      "179/179 [==============================] - 37s 207ms/step - loss: 0.9283 - root_mean_squared_error: 0.9635 - val_loss: 0.7276 - val_root_mean_squared_error: 0.8530\n",
      "Epoch 18/50\n",
      "179/179 [==============================] - 37s 207ms/step - loss: 0.9445 - root_mean_squared_error: 0.9718 - val_loss: 0.8001 - val_root_mean_squared_error: 0.8945\n",
      "Epoch 19/50\n",
      "179/179 [==============================] - 37s 206ms/step - loss: 0.9170 - root_mean_squared_error: 0.9576 - val_loss: 0.7779 - val_root_mean_squared_error: 0.8820\n",
      "Epoch 20/50\n",
      "179/179 [==============================] - 37s 207ms/step - loss: 0.8923 - root_mean_squared_error: 0.9446 - val_loss: 0.7732 - val_root_mean_squared_error: 0.8793\n",
      "Epoch 21/50\n",
      "179/179 [==============================] - 37s 207ms/step - loss: 0.9039 - root_mean_squared_error: 0.9507 - val_loss: 0.7529 - val_root_mean_squared_error: 0.8677\n",
      "Epoch 22/50\n",
      "179/179 [==============================] - 37s 207ms/step - loss: 0.8917 - root_mean_squared_error: 0.9443 - val_loss: 0.7757 - val_root_mean_squared_error: 0.8807\n",
      "Epoch 23/50\n",
      "179/179 [==============================] - 37s 206ms/step - loss: 0.8917 - root_mean_squared_error: 0.9443 - val_loss: 0.7412 - val_root_mean_squared_error: 0.8609\n",
      "Epoch 24/50\n",
      "179/179 [==============================] - 37s 206ms/step - loss: 0.8790 - root_mean_squared_error: 0.9376 - val_loss: 0.7783 - val_root_mean_squared_error: 0.8822\n",
      "Epoch 25/50\n",
      "179/179 [==============================] - 37s 207ms/step - loss: 0.8665 - root_mean_squared_error: 0.9309 - val_loss: 0.7911 - val_root_mean_squared_error: 0.8894\n",
      "Epoch 26/50\n",
      "179/179 [==============================] - 37s 207ms/step - loss: 0.8695 - root_mean_squared_error: 0.9325 - val_loss: 0.7666 - val_root_mean_squared_error: 0.8756\n",
      "Epoch 27/50\n",
      "179/179 [==============================] - 37s 207ms/step - loss: 0.8714 - root_mean_squared_error: 0.9335 - val_loss: 0.7833 - val_root_mean_squared_error: 0.8850\n",
      "Epoch 28/50\n",
      "179/179 [==============================] - 37s 206ms/step - loss: 0.8816 - root_mean_squared_error: 0.9389 - val_loss: 0.7608 - val_root_mean_squared_error: 0.8722\n",
      "Epoch 29/50\n",
      "179/179 [==============================] - 37s 206ms/step - loss: 0.8614 - root_mean_squared_error: 0.9281 - val_loss: 0.7647 - val_root_mean_squared_error: 0.8745\n",
      "Epoch 30/50\n",
      "179/179 [==============================] - 37s 207ms/step - loss: 0.8880 - root_mean_squared_error: 0.9423 - val_loss: 0.7740 - val_root_mean_squared_error: 0.8798\n",
      "Epoch 31/50\n",
      "179/179 [==============================] - 37s 207ms/step - loss: 0.8690 - root_mean_squared_error: 0.9322 - val_loss: 0.7564 - val_root_mean_squared_error: 0.8697\n",
      "Epoch 32/50\n",
      "179/179 [==============================] - 37s 206ms/step - loss: 0.8616 - root_mean_squared_error: 0.9282 - val_loss: 0.7536 - val_root_mean_squared_error: 0.8681\n",
      "Epoch 33/50\n",
      "179/179 [==============================] - 37s 207ms/step - loss: 0.8716 - root_mean_squared_error: 0.9336 - val_loss: 0.7260 - val_root_mean_squared_error: 0.8521\n",
      "Epoch 34/50\n",
      "179/179 [==============================] - 37s 207ms/step - loss: 0.8492 - root_mean_squared_error: 0.9215 - val_loss: 0.7909 - val_root_mean_squared_error: 0.8893\n",
      "Epoch 35/50\n",
      "179/179 [==============================] - 37s 206ms/step - loss: 0.8908 - root_mean_squared_error: 0.9438 - val_loss: 0.7636 - val_root_mean_squared_error: 0.8739\n",
      "Epoch 36/50\n",
      "179/179 [==============================] - 37s 206ms/step - loss: 0.8357 - root_mean_squared_error: 0.9142 - val_loss: 0.7711 - val_root_mean_squared_error: 0.8781\n",
      "Epoch 37/50\n",
      "179/179 [==============================] - 37s 206ms/step - loss: 0.8637 - root_mean_squared_error: 0.9293 - val_loss: 0.7229 - val_root_mean_squared_error: 0.8502\n",
      "Epoch 38/50\n",
      "179/179 [==============================] - 37s 207ms/step - loss: 0.8601 - root_mean_squared_error: 0.9274 - val_loss: 0.7395 - val_root_mean_squared_error: 0.8600\n",
      "Epoch 39/50\n",
      "179/179 [==============================] - 37s 206ms/step - loss: 0.8494 - root_mean_squared_error: 0.9216 - val_loss: 0.7355 - val_root_mean_squared_error: 0.8576\n",
      "Epoch 40/50\n",
      "179/179 [==============================] - 37s 206ms/step - loss: 0.8270 - root_mean_squared_error: 0.9094 - val_loss: 0.7618 - val_root_mean_squared_error: 0.8728\n",
      "Epoch 41/50\n"
     ]
    },
    {
     "name": "stdout",
     "output_type": "stream",
     "text": [
      "179/179 [==============================] - 37s 206ms/step - loss: 0.8446 - root_mean_squared_error: 0.9190 - val_loss: 0.7496 - val_root_mean_squared_error: 0.8658\n",
      "Epoch 42/50\n",
      "179/179 [==============================] - 37s 207ms/step - loss: 0.8473 - root_mean_squared_error: 0.9205 - val_loss: 0.7687 - val_root_mean_squared_error: 0.8768\n",
      "Epoch 43/50\n",
      "179/179 [==============================] - 37s 206ms/step - loss: 0.8244 - root_mean_squared_error: 0.9080 - val_loss: 0.7567 - val_root_mean_squared_error: 0.8699\n",
      "Epoch 44/50\n",
      "179/179 [==============================] - 37s 206ms/step - loss: 0.8299 - root_mean_squared_error: 0.9110 - val_loss: 0.7900 - val_root_mean_squared_error: 0.8888\n",
      "Epoch 45/50\n",
      "179/179 [==============================] - 37s 206ms/step - loss: 0.8454 - root_mean_squared_error: 0.9194 - val_loss: 0.8219 - val_root_mean_squared_error: 0.9066\n",
      "Epoch 46/50\n",
      "179/179 [==============================] - 37s 207ms/step - loss: 0.8202 - root_mean_squared_error: 0.9057 - val_loss: 0.8150 - val_root_mean_squared_error: 0.9028\n",
      "Epoch 47/50\n",
      "179/179 [==============================] - 37s 206ms/step - loss: 0.8347 - root_mean_squared_error: 0.9136 - val_loss: 0.7849 - val_root_mean_squared_error: 0.8859\n",
      "Epoch 48/50\n",
      "179/179 [==============================] - 37s 206ms/step - loss: 0.8305 - root_mean_squared_error: 0.9113 - val_loss: 0.7766 - val_root_mean_squared_error: 0.8812\n",
      "Epoch 49/50\n",
      "179/179 [==============================] - 37s 206ms/step - loss: 0.8371 - root_mean_squared_error: 0.9149 - val_loss: 0.8258 - val_root_mean_squared_error: 0.9088\n",
      "Epoch 50/50\n",
      "179/179 [==============================] - 37s 207ms/step - loss: 0.8461 - root_mean_squared_error: 0.9198 - val_loss: 0.7294 - val_root_mean_squared_error: 0.8541\n"
     ]
    }
   ],
   "source": [
    "history = model.fit(\n",
    "    train_data,\n",
    "    validation_data=valid_data,\n",
    "    epochs=epochs,\n",
    "    use_multiprocessing=True,\n",
    "    workers=-1,\n",
    "    callbacks = [time_callback]\n",
    ")"
   ]
  },
  {
   "cell_type": "code",
   "execution_count": 17,
   "metadata": {},
   "outputs": [],
   "source": [
    "hist_df = pd.DataFrame(history.history) \n",
    "hist_csv_file = 'using-standard-albert-history-01.csv'\n",
    "with open(hist_csv_file, mode='w') as f:\n",
    "    hist_df.to_csv(f)"
   ]
  },
  {
   "cell_type": "code",
   "execution_count": 18,
   "metadata": {},
   "outputs": [
    {
     "name": "stdout",
     "output_type": "stream",
     "text": [
      "[46.761653900146484, 35.9401216506958, 36.51329731941223, 36.73858451843262, 36.960084199905396, 36.98572087287903, 36.99850606918335, 37.01041531562805, 37.1099169254303, 37.07095503807068, 37.00225281715393, 36.95877122879028, 37.02801275253296, 36.99090909957886, 36.97313165664673, 36.938053607940674, 37.038631200790405, 37.019874811172485, 36.92543983459473, 36.939226388931274, 37.030810594558716, 36.968754529953, 36.92278075218201, 36.888179302215576, 36.985438108444214, 36.994746685028076, 36.94369101524353, 36.87661361694336, 36.920745849609375, 36.964438676834106, 36.934975385665894, 36.85775637626648, 36.94272327423096, 36.99184441566467, 36.88790559768677, 36.859930753707886, 36.91948413848877, 36.979132413864136, 36.89594578742981, 36.90595197677612, 36.88626432418823, 36.99145030975342, 36.88920617103577, 36.873992919921875, 36.85991382598877, 37.00477862358093, 36.915162086486816, 36.91175985336304, 36.85884118080139, 36.94232678413391]\n"
     ]
    }
   ],
   "source": [
    "print(time_callback.times)"
   ]
  },
  {
   "cell_type": "code",
   "execution_count": 19,
   "metadata": {},
   "outputs": [],
   "source": [
    "hist_time_df = pd.DataFrame(time_callback.times) \n",
    "hist_csv_file = 'using-standard-albert-time-01.csv'\n",
    "with open(hist_csv_file, mode='w') as f:\n",
    "    hist_time_df.to_csv(f)"
   ]
  },
  {
   "cell_type": "code",
   "execution_count": 20,
   "metadata": {},
   "outputs": [],
   "source": [
    "model.save_weights('./using-standard-albert-model-01.h5')"
   ]
  },
  {
   "cell_type": "markdown",
   "metadata": {},
   "source": [
    "# Evaluation"
   ]
  },
  {
   "cell_type": "code",
   "execution_count": 21,
   "metadata": {},
   "outputs": [
    {
     "name": "stdout",
     "output_type": "stream",
     "text": [
      "43/43 [==============================] - 7s 164ms/step - loss: 0.9189 - root_mean_squared_error: 0.9586\n"
     ]
    },
    {
     "data": {
      "text/plain": [
       "[0.9189221858978271, 0.9586042761802673]"
      ]
     },
     "execution_count": 21,
     "metadata": {},
     "output_type": "execute_result"
    }
   ],
   "source": [
    "model.evaluate(test_data, verbose=1)"
   ]
  },
  {
   "cell_type": "markdown",
   "metadata": {},
   "source": [
    "# Testing"
   ]
  },
  {
   "cell_type": "code",
   "execution_count": 22,
   "metadata": {},
   "outputs": [],
   "source": [
    "def check_similarity(sentence1, sentence2):\n",
    "    sentence_pairs = np.array([[str(sentence1), str(sentence2)]])\n",
    "    data = AlbertSemanticDataGenerator(\n",
    "        sentence_pairs, scores=None, batch_size=1, shuffle=False, include_targets=False,\n",
    "    )\n",
    "\n",
    "    score = model.predict(data)[0]\n",
    "    return score"
   ]
  },
  {
   "cell_type": "code",
   "execution_count": 23,
   "metadata": {},
   "outputs": [
    {
     "name": "stdout",
     "output_type": "stream",
     "text": [
      "WARNING:tensorflow:The parameters `output_attentions`, `output_hidden_states` and `use_cache` cannot be updated when calling a model.They have to be set to True/False in the config object (i.e.: `config=XConfig.from_pretrained('name', output_attentions=True)`).\n",
      "WARNING:tensorflow:The parameter `return_dict` cannot be set in graph mode and will always be set to `True`.\n"
     ]
    },
    {
     "data": {
      "text/plain": [
       "array([4.3049545], dtype=float32)"
      ]
     },
     "execution_count": 23,
     "metadata": {},
     "output_type": "execute_result"
    }
   ],
   "source": [
    "sentence1 = 'A distributed system is a system from multiple computers which communicate with each other via network'\n",
    "sentence2 = 'A distributed system is a system from one computer without network'\n",
    "check_similarity(sentence1, sentence2)"
   ]
  },
  {
   "cell_type": "code",
   "execution_count": 24,
   "metadata": {},
   "outputs": [
    {
     "data": {
      "text/plain": [
       "array([0.91901344], dtype=float32)"
      ]
     },
     "execution_count": 24,
     "metadata": {},
     "output_type": "execute_result"
    }
   ],
   "source": [
    "sentence1 = 'asdsd'\n",
    "sentence2 = 'asdsad are good sdsdsdsds'\n",
    "check_similarity(sentence1, sentence2)"
   ]
  },
  {
   "cell_type": "code",
   "execution_count": 25,
   "metadata": {},
   "outputs": [
    {
     "data": {
      "text/plain": [
       "array([1.6289066], dtype=float32)"
      ]
     },
     "execution_count": 25,
     "metadata": {},
     "output_type": "execute_result"
    }
   ],
   "source": [
    "sentence1 = 'the activity of learning or being trained'\n",
    "sentence2 = 'the gradual process of acquiring knowledge.'\n",
    "check_similarity(sentence1, sentence2)"
   ]
  },
  {
   "cell_type": "code",
   "execution_count": null,
   "metadata": {},
   "outputs": [],
   "source": []
  }
 ],
 "metadata": {
  "kernelspec": {
   "display_name": "Python 3",
   "language": "python",
   "name": "python3"
  },
  "language_info": {
   "codemirror_mode": {
    "name": "ipython",
    "version": 3
   },
   "file_extension": ".py",
   "mimetype": "text/x-python",
   "name": "python",
   "nbconvert_exporter": "python",
   "pygments_lexer": "ipython3",
   "version": "3.8.6"
  }
 },
 "nbformat": 4,
 "nbformat_minor": 5
}
