{
 "cells": [
  {
   "cell_type": "code",
   "execution_count": 1,
   "id": "4579b345",
   "metadata": {},
   "outputs": [],
   "source": [
    "import os\n",
    "os.environ[\"TF_FORCE_GPU_ALLOW_GROWTH\"]=\"true\"\n",
    "# https://github.com/tensorflow/tensorflow/issues/33721 "
   ]
  },
  {
   "cell_type": "code",
   "execution_count": 2,
   "id": "heard-technician",
   "metadata": {},
   "outputs": [],
   "source": [
    "import numpy as np\n",
    "import pandas as pd\n",
    "import tensorflow as tf\n",
    "import transformers\n",
    "import seaborn as sns\n",
    "import time\n",
    "from csv import QUOTE_NONE\n",
    "from ipywidgets import IntProgress"
   ]
  },
  {
   "cell_type": "code",
   "execution_count": 3,
   "id": "a8e74e61",
   "metadata": {},
   "outputs": [
    {
     "name": "stdout",
     "output_type": "stream",
     "text": [
      "Num GPUs Available:  1\n"
     ]
    }
   ],
   "source": [
    "print(\"Num GPUs Available: \", len(tf.config.list_physical_devices('GPU')))"
   ]
  },
  {
   "cell_type": "code",
   "execution_count": 4,
   "id": "irish-failure",
   "metadata": {},
   "outputs": [],
   "source": [
    "train_df = pd.read_csv('../sts-train.csv', sep='\\t', usecols=[4, 5, 6], header=None, quoting=QUOTE_NONE, names=['score', 'sentence1', 'sentence2'])\n",
    "validation_df = pd.read_csv('../sts-dev.csv', sep='\\t', usecols=[4, 5, 6], header=None, quoting=QUOTE_NONE, names=['score', 'sentence1', 'sentence2'])\n",
    "test_df = pd.read_csv('../sts-test.csv', sep='\\t', usecols=[4, 5, 6], header=None, quoting=QUOTE_NONE, names=['score', 'sentence1', 'sentence2'])"
   ]
  },
  {
   "cell_type": "code",
   "execution_count": 5,
   "id": "willing-founder",
   "metadata": {},
   "outputs": [
    {
     "data": {
      "text/html": [
       "<div>\n",
       "<style scoped>\n",
       "    .dataframe tbody tr th:only-of-type {\n",
       "        vertical-align: middle;\n",
       "    }\n",
       "\n",
       "    .dataframe tbody tr th {\n",
       "        vertical-align: top;\n",
       "    }\n",
       "\n",
       "    .dataframe thead th {\n",
       "        text-align: right;\n",
       "    }\n",
       "</style>\n",
       "<table border=\"1\" class=\"dataframe\">\n",
       "  <thead>\n",
       "    <tr style=\"text-align: right;\">\n",
       "      <th></th>\n",
       "      <th>score</th>\n",
       "      <th>sentence1</th>\n",
       "      <th>sentence2</th>\n",
       "    </tr>\n",
       "  </thead>\n",
       "  <tbody>\n",
       "    <tr>\n",
       "      <th>0</th>\n",
       "      <td>5.00</td>\n",
       "      <td>A plane is taking off.</td>\n",
       "      <td>An air plane is taking off.</td>\n",
       "    </tr>\n",
       "    <tr>\n",
       "      <th>1</th>\n",
       "      <td>3.80</td>\n",
       "      <td>A man is playing a large flute.</td>\n",
       "      <td>A man is playing a flute.</td>\n",
       "    </tr>\n",
       "    <tr>\n",
       "      <th>2</th>\n",
       "      <td>3.80</td>\n",
       "      <td>A man is spreading shreded cheese on a pizza.</td>\n",
       "      <td>A man is spreading shredded cheese on an uncoo...</td>\n",
       "    </tr>\n",
       "    <tr>\n",
       "      <th>3</th>\n",
       "      <td>2.60</td>\n",
       "      <td>Three men are playing chess.</td>\n",
       "      <td>Two men are playing chess.</td>\n",
       "    </tr>\n",
       "    <tr>\n",
       "      <th>4</th>\n",
       "      <td>4.25</td>\n",
       "      <td>A man is playing the cello.</td>\n",
       "      <td>A man seated is playing the cello.</td>\n",
       "    </tr>\n",
       "  </tbody>\n",
       "</table>\n",
       "</div>"
      ],
      "text/plain": [
       "   score                                      sentence1  \\\n",
       "0   5.00                         A plane is taking off.   \n",
       "1   3.80                A man is playing a large flute.   \n",
       "2   3.80  A man is spreading shreded cheese on a pizza.   \n",
       "3   2.60                   Three men are playing chess.   \n",
       "4   4.25                    A man is playing the cello.   \n",
       "\n",
       "                                           sentence2  \n",
       "0                        An air plane is taking off.  \n",
       "1                          A man is playing a flute.  \n",
       "2  A man is spreading shredded cheese on an uncoo...  \n",
       "3                         Two men are playing chess.  \n",
       "4                 A man seated is playing the cello.  "
      ]
     },
     "execution_count": 5,
     "metadata": {},
     "output_type": "execute_result"
    }
   ],
   "source": [
    "train_df.head()"
   ]
  },
  {
   "cell_type": "code",
   "execution_count": 6,
   "id": "simplified-muslim",
   "metadata": {},
   "outputs": [],
   "source": [
    "train_df = train_df.dropna()\n",
    "validation_df = validation_df.dropna()\n",
    "test_df = test_df.dropna()"
   ]
  },
  {
   "cell_type": "code",
   "execution_count": 7,
   "id": "e8edfc3c",
   "metadata": {},
   "outputs": [
    {
     "data": {
      "text/plain": [
       "score        5749\n",
       "sentence1    5749\n",
       "sentence2    5749\n",
       "dtype: int64"
      ]
     },
     "execution_count": 7,
     "metadata": {},
     "output_type": "execute_result"
    }
   ],
   "source": [
    "train_df.count()"
   ]
  },
  {
   "cell_type": "markdown",
   "id": "instant-cruise",
   "metadata": {},
   "source": [
    "# Reuse pre-trained model"
   ]
  },
  {
   "cell_type": "code",
   "execution_count": 8,
   "id": "foreign-arctic",
   "metadata": {},
   "outputs": [],
   "source": [
    "max_length = 128  # Maximum length of input sentence to the model.\n",
    "batch_size = 32\n",
    "epochs = 2\n",
    "\n",
    "# Labels in our dataset.\n",
    "labels = [\"Incorrect\", \"Correct\"]"
   ]
  },
  {
   "cell_type": "code",
   "execution_count": 9,
   "id": "nasty-naples",
   "metadata": {},
   "outputs": [],
   "source": [
    "\n",
    "class BertSemanticDataGenerator(tf.keras.utils.Sequence):\n",
    "    \"\"\"Generates batches of data.\n",
    "\n",
    "    Args:\n",
    "        sentence_pairs: Array of premise and hypothesis input sentences.\n",
    "        labels: Array of labels.\n",
    "        batch_size: Integer batch size.\n",
    "        shuffle: boolean, whether to shuffle the data.\n",
    "        include_targets: boolean, whether to incude the labels.\n",
    "\n",
    "    Returns:\n",
    "        Tuples `([input_ids, attention_mask, `token_type_ids], labels)`\n",
    "        (or just `[input_ids, attention_mask, `token_type_ids]`\n",
    "         if `include_targets=False`)\n",
    "    \"\"\"\n",
    "\n",
    "    def __init__(\n",
    "        self,\n",
    "        sentence_pairs,\n",
    "        labels,\n",
    "        batch_size=batch_size,\n",
    "        shuffle=True,\n",
    "        include_targets=True,\n",
    "    ):\n",
    "        self.sentence_pairs = sentence_pairs\n",
    "        self.labels = labels\n",
    "        self.shuffle = shuffle\n",
    "        self.batch_size = batch_size\n",
    "        self.include_targets = include_targets\n",
    "        # Load our BERT Tokenizer to encode the text.\n",
    "        # We will use base-base-uncased pretrained model.\n",
    "        self.tokenizer = transformers.BertTokenizer.from_pretrained(\n",
    "            \"bert-base-uncased\", do_lower_case=True\n",
    "        )\n",
    "        self.indexes = np.arange(len(self.sentence_pairs))\n",
    "        self.on_epoch_end()\n",
    "\n",
    "    def __len__(self):\n",
    "        # Denotes the number of batches per epoch.\n",
    "        return len(self.sentence_pairs) // self.batch_size\n",
    "\n",
    "    def __getitem__(self, idx):\n",
    "        # Retrieves the batch of index.\n",
    "        indexes = self.indexes[idx * self.batch_size : (idx + 1) * self.batch_size]\n",
    "        sentence_pairs = self.sentence_pairs[indexes]\n",
    "\n",
    "        # With BERT tokenizer's batch_encode_plus batch of both the sentences are\n",
    "        # encoded together and separated by [SEP] token.\n",
    "        encoded = self.tokenizer.batch_encode_plus(\n",
    "            sentence_pairs.tolist(),\n",
    "            add_special_tokens=True,\n",
    "            max_length=max_length,\n",
    "            return_attention_mask=True,\n",
    "            return_token_type_ids=True,\n",
    "            pad_to_max_length=True,\n",
    "            truncation=True,\n",
    "            return_tensors=\"tf\",\n",
    "        )\n",
    "\n",
    "        # Convert batch of encoded features to numpy array.\n",
    "        input_ids = np.array(encoded[\"input_ids\"], dtype=\"int32\")\n",
    "        attention_masks = np.array(encoded[\"attention_mask\"], dtype=\"int32\")\n",
    "        token_type_ids = np.array(encoded[\"token_type_ids\"], dtype=\"int32\")\n",
    "\n",
    "        # Set to true if data generator is used for training/validation.\n",
    "        if self.include_targets:\n",
    "            labels = np.array(self.labels[indexes], dtype=\"int32\")\n",
    "            return [input_ids, attention_masks, token_type_ids], labels\n",
    "        else:\n",
    "            return [input_ids, attention_masks, token_type_ids]\n",
    "\n",
    "    def on_epoch_end(self):\n",
    "        # Shuffle indexes after each epoch if shuffle is set to True.\n",
    "        if self.shuffle:\n",
    "            np.random.RandomState(42).shuffle(self.indexes)\n"
   ]
  },
  {
   "cell_type": "code",
   "execution_count": 10,
   "id": "reported-syndicate",
   "metadata": {},
   "outputs": [
    {
     "name": "stdout",
     "output_type": "stream",
     "text": [
      "INFO:tensorflow:Using MirroredStrategy with devices ('/job:localhost/replica:0/task:0/device:GPU:0',)\n"
     ]
    },
    {
     "name": "stderr",
     "output_type": "stream",
     "text": [
      "Some layers from the model checkpoint at bert-base-uncased were not used when initializing TFBertModel: ['mlm___cls', 'nsp___cls']\n",
      "- This IS expected if you are initializing TFBertModel from the checkpoint of a model trained on another task or with another architecture (e.g. initializing a BertForSequenceClassification model from a BertForPreTraining model).\n",
      "- This IS NOT expected if you are initializing TFBertModel from the checkpoint of a model that you expect to be exactly identical (initializing a BertForSequenceClassification model from a BertForSequenceClassification model).\n",
      "All the layers of TFBertModel were initialized from the model checkpoint at bert-base-uncased.\n",
      "If your task is similar to the task the model of the checkpoint was trained on, you can already use TFBertModel for predictions without further training.\n"
     ]
    },
    {
     "name": "stdout",
     "output_type": "stream",
     "text": [
      "WARNING:tensorflow:The parameters `output_attentions`, `output_hidden_states` and `use_cache` cannot be updated when calling a model.They have to be set to True/False in the config object (i.e.: `config=XConfig.from_pretrained('name', output_attentions=True)`).\n",
      "WARNING:tensorflow:AutoGraph could not transform <bound method Socket.send of <zmq.sugar.socket.Socket object at 0x7fc3fccece20>> and will run it as-is.\n",
      "Please report this to the TensorFlow team. When filing the bug, set the verbosity to 10 (on Linux, `export AUTOGRAPH_VERBOSITY=10`) and attach the full output.\n",
      "Cause: module, class, method, function, traceback, frame, or code object was expected, got cython_function_or_method\n",
      "To silence this warning, decorate the function with @tf.autograph.experimental.do_not_convert\n",
      "WARNING: AutoGraph could not transform <bound method Socket.send of <zmq.sugar.socket.Socket object at 0x7fc3fccece20>> and will run it as-is.\n",
      "Please report this to the TensorFlow team. When filing the bug, set the verbosity to 10 (on Linux, `export AUTOGRAPH_VERBOSITY=10`) and attach the full output.\n",
      "Cause: module, class, method, function, traceback, frame, or code object was expected, got cython_function_or_method\n",
      "To silence this warning, decorate the function with @tf.autograph.experimental.do_not_convert\n",
      "WARNING:tensorflow:The parameter `return_dict` cannot be set in graph mode and will always be set to `True`.\n",
      "INFO:tensorflow:Reduce to /job:localhost/replica:0/task:0/device:CPU:0 then broadcast to ('/job:localhost/replica:0/task:0/device:CPU:0',).\n",
      "INFO:tensorflow:Reduce to /job:localhost/replica:0/task:0/device:CPU:0 then broadcast to ('/job:localhost/replica:0/task:0/device:CPU:0',).\n",
      "INFO:tensorflow:Reduce to /job:localhost/replica:0/task:0/device:CPU:0 then broadcast to ('/job:localhost/replica:0/task:0/device:CPU:0',).\n",
      "INFO:tensorflow:Reduce to /job:localhost/replica:0/task:0/device:CPU:0 then broadcast to ('/job:localhost/replica:0/task:0/device:CPU:0',).\n",
      "Strategy: <tensorflow.python.distribute.mirrored_strategy.MirroredStrategy object at 0x7fc2e3aa5bb0>\n",
      "Model: \"model\"\n",
      "__________________________________________________________________________________________________\n",
      "Layer (type)                    Output Shape         Param #     Connected to                     \n",
      "==================================================================================================\n",
      "input_ids (InputLayer)          [(None, 128)]        0                                            \n",
      "__________________________________________________________________________________________________\n",
      "attention_masks (InputLayer)    [(None, 128)]        0                                            \n",
      "__________________________________________________________________________________________________\n",
      "token_type_ids (InputLayer)     [(None, 128)]        0                                            \n",
      "__________________________________________________________________________________________________\n",
      "tf_bert_model (TFBertModel)     TFBaseModelOutputWit 109482240   input_ids[0][0]                  \n",
      "                                                                 attention_masks[0][0]            \n",
      "                                                                 token_type_ids[0][0]             \n",
      "__________________________________________________________________________________________________\n",
      "global_average_pooling1d (Globa (None, 768)          0           tf_bert_model[0][0]              \n",
      "__________________________________________________________________________________________________\n",
      "dense (Dense)                   (None, 32)           24608       global_average_pooling1d[0][0]   \n",
      "__________________________________________________________________________________________________\n",
      "dropout_37 (Dropout)            (None, 32)           0           dense[0][0]                      \n",
      "__________________________________________________________________________________________________\n",
      "dense_1 (Dense)                 (None, 2)            66          dropout_37[0][0]                 \n",
      "==================================================================================================\n",
      "Total params: 109,506,914\n",
      "Trainable params: 24,674\n",
      "Non-trainable params: 109,482,240\n",
      "__________________________________________________________________________________________________\n"
     ]
    }
   ],
   "source": [
    "# Create the model under a distribution strategy scope.\n",
    "strategy = tf.distribute.MirroredStrategy()\n",
    "\n",
    "with strategy.scope():\n",
    "    # Encoded token ids from BERT tokenizer.\n",
    "    input_ids = tf.keras.layers.Input(\n",
    "        shape=(max_length,), dtype=tf.int32, name=\"input_ids\"\n",
    "    )\n",
    "    # Attention masks indicates to the model which tokens should be attended to.\n",
    "    attention_masks = tf.keras.layers.Input(\n",
    "        shape=(max_length,), dtype=tf.int32, name=\"attention_masks\"\n",
    "    )\n",
    "    # Token type ids are binary masks identifying different sequences in the model.\n",
    "    token_type_ids = tf.keras.layers.Input(\n",
    "        shape=(max_length,), dtype=tf.int32, name=\"token_type_ids\"\n",
    "    )\n",
    "    # Loading pretrained BERT model.\n",
    "    bert_model = transformers.TFBertModel.from_pretrained(\"bert-base-uncased\")\n",
    "    # Freeze the BERT model to reuse the pretrained features without modifying them.\n",
    "    bert_model.trainable = False\n",
    "\n",
    "    bert_outputs = bert_model(\n",
    "        input_ids, attention_mask=attention_masks, token_type_ids=token_type_ids\n",
    "    )\n",
    "    last_hidden_state = bert_outputs[0]\n",
    "    \n",
    "    # Applying hybrid pooling approach to bi_lstm sequence output.\n",
    "    avg_pool = tf.keras.layers.GlobalAveragePooling1D()(last_hidden_state)\n",
    "    dense_layer_1 = tf.keras.layers.Dense(32, activation=\"sigmoid\")(avg_pool)\n",
    "    dropout = tf.keras.layers.Dropout(0.5)(dense_layer_1)\n",
    "    output = tf.keras.layers.Dense(2, activation=\"softmax\")(dropout)\n",
    "    model = tf.keras.models.Model(\n",
    "        inputs=[input_ids, attention_masks, token_type_ids], outputs=output\n",
    "    )\n",
    "\n",
    "    model.compile(\n",
    "        optimizer=tf.keras.optimizers.Adam(),\n",
    "        loss=\"categorical_crossentropy\",\n",
    "        metrics=[\"acc\"],\n",
    "    )\n",
    "\n",
    "\n",
    "print(f\"Strategy: {strategy}\")\n",
    "model.summary()"
   ]
  },
  {
   "cell_type": "code",
   "execution_count": 11,
   "id": "stable-franchise",
   "metadata": {},
   "outputs": [
    {
     "name": "stdout",
     "output_type": "stream",
     "text": [
      "INFO:tensorflow:Reduce to /job:localhost/replica:0/task:0/device:CPU:0 then broadcast to ('/job:localhost/replica:0/task:0/device:CPU:0',).\n",
      "INFO:tensorflow:Reduce to /job:localhost/replica:0/task:0/device:CPU:0 then broadcast to ('/job:localhost/replica:0/task:0/device:CPU:0',).\n",
      "INFO:tensorflow:Reduce to /job:localhost/replica:0/task:0/device:CPU:0 then broadcast to ('/job:localhost/replica:0/task:0/device:CPU:0',).\n",
      "INFO:tensorflow:Reduce to /job:localhost/replica:0/task:0/device:CPU:0 then broadcast to ('/job:localhost/replica:0/task:0/device:CPU:0',).\n",
      "Model: \"model\"\n",
      "__________________________________________________________________________________________________\n",
      "Layer (type)                    Output Shape         Param #     Connected to                     \n",
      "==================================================================================================\n",
      "input_ids (InputLayer)          [(None, 128)]        0                                            \n",
      "__________________________________________________________________________________________________\n",
      "attention_masks (InputLayer)    [(None, 128)]        0                                            \n",
      "__________________________________________________________________________________________________\n",
      "token_type_ids (InputLayer)     [(None, 128)]        0                                            \n",
      "__________________________________________________________________________________________________\n",
      "tf_bert_model (TFBertModel)     TFBaseModelOutputWit 109482240   input_ids[0][0]                  \n",
      "                                                                 attention_masks[0][0]            \n",
      "                                                                 token_type_ids[0][0]             \n",
      "__________________________________________________________________________________________________\n",
      "global_average_pooling1d (Globa (None, 768)          0           tf_bert_model[0][0]              \n",
      "__________________________________________________________________________________________________\n",
      "dense (Dense)                   (None, 32)           24608       global_average_pooling1d[0][0]   \n",
      "__________________________________________________________________________________________________\n",
      "dropout_37 (Dropout)            (None, 32)           0           dense[0][0]                      \n",
      "__________________________________________________________________________________________________\n",
      "dense_1 (Dense)                 (None, 2)            66          dropout_37[0][0]                 \n",
      "==================================================================================================\n",
      "Total params: 109,506,914\n",
      "Trainable params: 24,674\n",
      "Non-trainable params: 109,482,240\n",
      "__________________________________________________________________________________________________\n"
     ]
    }
   ],
   "source": [
    "# Unfreeze the bert_model.\n",
    "bert_model.trainable = False\n",
    "# Recompile the model to make the change effective.\n",
    "model.compile(\n",
    "    optimizer=tf.keras.optimizers.Adam(1e-5),\n",
    "    loss=\"categorical_crossentropy\",\n",
    "    metrics=[\"accuracy\"],\n",
    ")\n",
    "model.summary()"
   ]
  },
  {
   "cell_type": "code",
   "execution_count": 12,
   "id": "occupied-playlist",
   "metadata": {},
   "outputs": [],
   "source": [
    "model.load_weights('./pre-trained-bert.h5')"
   ]
  },
  {
   "cell_type": "code",
   "execution_count": 13,
   "id": "painted-preserve",
   "metadata": {},
   "outputs": [],
   "source": [
    "def check_similarity(sentence1, sentence2):\n",
    "    sentence_pairs = np.array([[str(sentence1), str(sentence2)]])\n",
    "    test_data = BertSemanticDataGenerator(\n",
    "        sentence_pairs, labels=None, batch_size=1, shuffle=False, include_targets=False,\n",
    "    )\n",
    "\n",
    "    proba = model.predict(test_data)[0]\n",
    "    return {'Incorrect': proba[0], 'Correct': proba[1]}"
   ]
  },
  {
   "cell_type": "code",
   "execution_count": 14,
   "id": "unable-adjustment",
   "metadata": {},
   "outputs": [
    {
     "name": "stdout",
     "output_type": "stream",
     "text": [
      "WARNING:tensorflow:The parameters `output_attentions`, `output_hidden_states` and `use_cache` cannot be updated when calling a model.They have to be set to True/False in the config object (i.e.: `config=XConfig.from_pretrained('name', output_attentions=True)`).\n",
      "WARNING:tensorflow:The parameter `return_dict` cannot be set in graph mode and will always be set to `True`.\n"
     ]
    },
    {
     "name": "stderr",
     "output_type": "stream",
     "text": [
      "/home/tr92346-local/.local/lib/python3.8/site-packages/transformers/tokenization_utils_base.py:2073: FutureWarning: The `pad_to_max_length` argument is deprecated and will be removed in a future version, use `padding=True` or `padding='longest'` to pad to the longest sequence in the batch, or use `padding='max_length'` to pad to a max length. In this case, you can give a specific length with `max_length` (e.g. `max_length=45`) or leave max_length to None to pad to the maximal input size of the model (e.g. 512 for Bert).\n",
      "  warnings.warn(\n"
     ]
    },
    {
     "data": {
      "text/plain": [
       "{'Incorrect': 0.9974874, 'Correct': 0.0025125437}"
      ]
     },
     "execution_count": 14,
     "metadata": {},
     "output_type": "execute_result"
    }
   ],
   "source": [
    "sentence1 = 'A distributed system is a system from multiple computers which communicate with each other via network'\n",
    "sentence2 = 'A distributed system is a system from one computer without network'\n",
    "check_similarity(sentence1, sentence2)"
   ]
  },
  {
   "cell_type": "markdown",
   "id": "centered-bathroom",
   "metadata": {},
   "source": [
    "# Create new model"
   ]
  },
  {
   "cell_type": "code",
   "execution_count": 15,
   "id": "handmade-breakdown",
   "metadata": {},
   "outputs": [
    {
     "data": {
      "text/plain": [
       "8"
      ]
     },
     "execution_count": 15,
     "metadata": {},
     "output_type": "execute_result"
    }
   ],
   "source": [
    "len(model.layers)"
   ]
  },
  {
   "cell_type": "code",
   "execution_count": 16,
   "id": "helpful-being",
   "metadata": {},
   "outputs": [
    {
     "data": {
      "text/plain": [
       "<tensorflow.python.keras.layers.core.Dense at 0x7fc23c1e1280>"
      ]
     },
     "execution_count": 16,
     "metadata": {},
     "output_type": "execute_result"
    }
   ],
   "source": [
    "model.layers.pop()"
   ]
  },
  {
   "cell_type": "code",
   "execution_count": 17,
   "id": "historical-maria",
   "metadata": {},
   "outputs": [
    {
     "name": "stdout",
     "output_type": "stream",
     "text": [
      "Model: \"model\"\n",
      "__________________________________________________________________________________________________\n",
      "Layer (type)                    Output Shape         Param #     Connected to                     \n",
      "==================================================================================================\n",
      "input_ids (InputLayer)          [(None, 128)]        0                                            \n",
      "__________________________________________________________________________________________________\n",
      "attention_masks (InputLayer)    [(None, 128)]        0                                            \n",
      "__________________________________________________________________________________________________\n",
      "token_type_ids (InputLayer)     [(None, 128)]        0                                            \n",
      "__________________________________________________________________________________________________\n",
      "tf_bert_model (TFBertModel)     TFBaseModelOutputWit 109482240   input_ids[0][0]                  \n",
      "                                                                 attention_masks[0][0]            \n",
      "                                                                 token_type_ids[0][0]             \n",
      "__________________________________________________________________________________________________\n",
      "global_average_pooling1d (Globa (None, 768)          0           tf_bert_model[0][0]              \n",
      "__________________________________________________________________________________________________\n",
      "dense (Dense)                   (None, 32)           24608       global_average_pooling1d[0][0]   \n",
      "__________________________________________________________________________________________________\n",
      "dropout_37 (Dropout)            (None, 32)           0           dense[0][0]                      \n",
      "__________________________________________________________________________________________________\n",
      "dense_1 (Dense)                 (None, 2)            66          dropout_37[0][0]                 \n",
      "==================================================================================================\n",
      "Total params: 109,506,914\n",
      "Trainable params: 24,674\n",
      "Non-trainable params: 109,482,240\n",
      "__________________________________________________________________________________________________\n"
     ]
    }
   ],
   "source": [
    "model.summary()"
   ]
  },
  {
   "cell_type": "code",
   "execution_count": 18,
   "id": "level-journal",
   "metadata": {
    "scrolled": false
   },
   "outputs": [
    {
     "name": "stdout",
     "output_type": "stream",
     "text": [
      "INFO:tensorflow:Reduce to /job:localhost/replica:0/task:0/device:CPU:0 then broadcast to ('/job:localhost/replica:0/task:0/device:CPU:0',).\n",
      "INFO:tensorflow:Reduce to /job:localhost/replica:0/task:0/device:CPU:0 then broadcast to ('/job:localhost/replica:0/task:0/device:CPU:0',).\n",
      "Model: \"model_1\"\n",
      "__________________________________________________________________________________________________\n",
      "Layer (type)                    Output Shape         Param #     Connected to                     \n",
      "==================================================================================================\n",
      "input_ids (InputLayer)          [(None, 128)]        0                                            \n",
      "__________________________________________________________________________________________________\n",
      "attention_masks (InputLayer)    [(None, 128)]        0                                            \n",
      "__________________________________________________________________________________________________\n",
      "token_type_ids (InputLayer)     [(None, 128)]        0                                            \n",
      "__________________________________________________________________________________________________\n",
      "tf_bert_model (TFBertModel)     TFBaseModelOutputWit 109482240   input_ids[0][0]                  \n",
      "                                                                 attention_masks[0][0]            \n",
      "                                                                 token_type_ids[0][0]             \n",
      "__________________________________________________________________________________________________\n",
      "global_average_pooling1d (Globa (None, 768)          0           tf_bert_model[0][0]              \n",
      "__________________________________________________________________________________________________\n",
      "dense_2 (Dense)                 (None, 32)           24608       global_average_pooling1d[0][0]   \n",
      "__________________________________________________________________________________________________\n",
      "dropout_38 (Dropout)            (None, 32)           0           dense_2[0][0]                    \n",
      "__________________________________________________________________________________________________\n",
      "dense_3 (Dense)                 (None, 1)            33          dropout_38[0][0]                 \n",
      "==================================================================================================\n",
      "Total params: 109,506,881\n",
      "Trainable params: 24,641\n",
      "Non-trainable params: 109,482,240\n",
      "__________________________________________________________________________________________________\n"
     ]
    }
   ],
   "source": [
    "with strategy.scope():\n",
    "    avg_pooling = model.layers[-4].output\n",
    "    dense_layer = tf.keras.layers.Dense(32, activation=\"relu\")(avg_pooling)\n",
    "    dropout = tf.keras.layers.Dropout(0.5)(dense_layer)\n",
    "    output_layer = tf.keras.layers.Dense(1)(dropout)\n",
    "    model_regression = tf.keras.models.Model(inputs=model.input, outputs=output_layer)\n",
    "    model_regression.compile(\n",
    "        optimizer=tf.keras.optimizers.Adam(),\n",
    "        loss=\"mse\",\n",
    "        metrics=[\n",
    "            tf.keras.metrics.RootMeanSquaredError()\n",
    "        ],\n",
    "    )\n",
    "    \n",
    "model_regression.summary()"
   ]
  },
  {
   "cell_type": "markdown",
   "id": "palestinian-press",
   "metadata": {},
   "source": [
    "# Train new model based on new dataset"
   ]
  },
  {
   "cell_type": "code",
   "execution_count": 19,
   "id": "intermediate-basin",
   "metadata": {},
   "outputs": [],
   "source": [
    "class BertSemanticDataGenerator(tf.keras.utils.Sequence):\n",
    "    def __init__(\n",
    "        self,\n",
    "        sentence_pairs,\n",
    "        scores,\n",
    "        batch_size=batch_size,\n",
    "        shuffle=True,\n",
    "        include_targets=True,\n",
    "    ):\n",
    "        self.sentence_pairs = sentence_pairs\n",
    "        self.scores = scores\n",
    "        self.shuffle = shuffle\n",
    "        self.batch_size = batch_size\n",
    "        self.include_targets = include_targets\n",
    "        # Load our BERT Tokenizer to encode the text.\n",
    "        # We will use base-base-uncased pretrained model.\n",
    "        self.tokenizer = transformers.BertTokenizer.from_pretrained(\n",
    "            \"bert-base-uncased\", do_lower_case=True\n",
    "        )\n",
    "        self.indexes = np.arange(len(self.sentence_pairs))\n",
    "        self.on_epoch_end()\n",
    "\n",
    "    def __len__(self):\n",
    "        # Denotes the number of batches per epoch.\n",
    "        return len(self.sentence_pairs) // self.batch_size\n",
    "\n",
    "    def __getitem__(self, idx):\n",
    "        # Retrieves the batch of index.\n",
    "        indexes = self.indexes[idx * self.batch_size : (idx + 1) * self.batch_size]\n",
    "        sentence_pairs = self.sentence_pairs[indexes]\n",
    "\n",
    "        # With BERT tokenizer's batch_encode_plus batch of both the sentences are\n",
    "        # encoded together and separated by [SEP] token.\n",
    "        encoded = self.tokenizer.batch_encode_plus(\n",
    "            sentence_pairs.tolist(),\n",
    "            add_special_tokens=True,\n",
    "            max_length=max_length,\n",
    "            return_attention_mask=True,\n",
    "            return_token_type_ids=True,\n",
    "            pad_to_max_length=True,\n",
    "            truncation=True,\n",
    "            return_tensors=\"tf\",\n",
    "        )\n",
    "\n",
    "        # Convert batch of encoded features to numpy array.\n",
    "        input_ids = np.array(encoded[\"input_ids\"], dtype=\"int32\")\n",
    "        attention_masks = np.array(encoded[\"attention_mask\"], dtype=\"int32\")\n",
    "        token_type_ids = np.array(encoded[\"token_type_ids\"], dtype=\"int32\")\n",
    "\n",
    "        # Set to true if data generator is used for training/validation.\n",
    "        if self.include_targets:\n",
    "            scores = np.array(self.scores[indexes], dtype=\"int32\")\n",
    "            return [input_ids, attention_masks, token_type_ids], scores\n",
    "        else:\n",
    "            return [input_ids, attention_masks, token_type_ids]\n",
    "\n",
    "    def on_epoch_end(self):\n",
    "        # Shuffle indexes after each epoch if shuffle is set to True.\n",
    "        if self.shuffle:\n",
    "            np.random.RandomState(42).shuffle(self.indexes)"
   ]
  },
  {
   "cell_type": "code",
   "execution_count": 20,
   "id": "solid-friday",
   "metadata": {},
   "outputs": [],
   "source": [
    "train_data = BertSemanticDataGenerator(\n",
    "    train_df[[\"sentence1\", \"sentence2\"]].values.astype(\"str\"),\n",
    "    train_df['score'].values,\n",
    "    batch_size=batch_size,\n",
    "    shuffle=True,\n",
    ")\n",
    "\n",
    "valid_data = BertSemanticDataGenerator(\n",
    "    validation_df[[\"sentence1\", \"sentence2\"]].values.astype(\"str\"),\n",
    "    validation_df['score'].values,\n",
    "    batch_size=batch_size,\n",
    "    shuffle=False,\n",
    ")\n",
    "\n",
    "test_data = BertSemanticDataGenerator(\n",
    "    test_df[[\"sentence1\", \"sentence2\"]].values.astype(\"str\"),\n",
    "    test_df['score'].values,\n",
    "    batch_size=batch_size,\n",
    "    shuffle=False,\n",
    ")"
   ]
  },
  {
   "cell_type": "code",
   "execution_count": 21,
   "id": "51047553",
   "metadata": {},
   "outputs": [],
   "source": [
    "class TimeHistory(tf.keras.callbacks.Callback):\n",
    "    def on_train_begin(self, logs={}):\n",
    "        self.times = []\n",
    "\n",
    "    def on_epoch_begin(self, batch, logs={}):\n",
    "        self.epoch_time_start = time.time()\n",
    "\n",
    "    def on_epoch_end(self, batch, logs={}):\n",
    "        self.times.append(time.time() - self.epoch_time_start)"
   ]
  },
  {
   "cell_type": "code",
   "execution_count": 22,
   "id": "e768591f",
   "metadata": {},
   "outputs": [],
   "source": [
    "time_callback = TimeHistory()"
   ]
  },
  {
   "cell_type": "code",
   "execution_count": 23,
   "id": "a37c2ead",
   "metadata": {},
   "outputs": [],
   "source": [
    "max_length = 128  # Maximum length of input sentence to the model.\n",
    "batch_size = 32\n",
    "epochs = 25"
   ]
  },
  {
   "cell_type": "code",
   "execution_count": 24,
   "id": "touched-algorithm",
   "metadata": {
    "scrolled": false
   },
   "outputs": [
    {
     "name": "stdout",
     "output_type": "stream",
     "text": [
      "Epoch 1/25\n",
      "WARNING:tensorflow:The parameters `output_attentions`, `output_hidden_states` and `use_cache` cannot be updated when calling a model.They have to be set to True/False in the config object (i.e.: `config=XConfig.from_pretrained('name', output_attentions=True)`).\n",
      "WARNING:tensorflow:The parameter `return_dict` cannot be set in graph mode and will always be set to `True`.\n",
      "WARNING:tensorflow:The parameters `output_attentions`, `output_hidden_states` and `use_cache` cannot be updated when calling a model.They have to be set to True/False in the config object (i.e.: `config=XConfig.from_pretrained('name', output_attentions=True)`).\n",
      "WARNING:tensorflow:The parameter `return_dict` cannot be set in graph mode and will always be set to `True`.\n",
      "179/179 [==============================] - ETA: 0s - loss: 2.6292 - root_mean_squared_error: 1.5984WARNING:tensorflow:The parameters `output_attentions`, `output_hidden_states` and `use_cache` cannot be updated when calling a model.They have to be set to True/False in the config object (i.e.: `config=XConfig.from_pretrained('name', output_attentions=True)`).\n",
      "WARNING:tensorflow:The parameter `return_dict` cannot be set in graph mode and will always be set to `True`.\n",
      "179/179 [==============================] - 47s 216ms/step - loss: 2.6253 - root_mean_squared_error: 1.5973 - val_loss: 1.1262 - val_root_mean_squared_error: 1.0612\n",
      "Epoch 2/25\n",
      "179/179 [==============================] - 37s 205ms/step - loss: 1.5901 - root_mean_squared_error: 1.2608 - val_loss: 0.9807 - val_root_mean_squared_error: 0.9903\n",
      "Epoch 3/25\n",
      "179/179 [==============================] - 37s 207ms/step - loss: 1.4443 - root_mean_squared_error: 1.2015 - val_loss: 0.8839 - val_root_mean_squared_error: 0.9401\n",
      "Epoch 4/25\n",
      "179/179 [==============================] - 37s 207ms/step - loss: 1.3311 - root_mean_squared_error: 1.1536 - val_loss: 0.8576 - val_root_mean_squared_error: 0.9261\n",
      "Epoch 5/25\n",
      "179/179 [==============================] - 37s 208ms/step - loss: 1.3043 - root_mean_squared_error: 1.1417 - val_loss: 0.8732 - val_root_mean_squared_error: 0.9345\n",
      "Epoch 6/25\n",
      "179/179 [==============================] - 37s 208ms/step - loss: 1.2214 - root_mean_squared_error: 1.1051 - val_loss: 0.8107 - val_root_mean_squared_error: 0.9004\n",
      "Epoch 7/25\n",
      "179/179 [==============================] - 37s 208ms/step - loss: 1.1885 - root_mean_squared_error: 1.0900 - val_loss: 0.7987 - val_root_mean_squared_error: 0.8937\n",
      "Epoch 8/25\n",
      "179/179 [==============================] - 37s 208ms/step - loss: 1.1429 - root_mean_squared_error: 1.0690 - val_loss: 0.8133 - val_root_mean_squared_error: 0.9018\n",
      "Epoch 9/25\n",
      "179/179 [==============================] - 37s 208ms/step - loss: 1.1455 - root_mean_squared_error: 1.0700 - val_loss: 0.7850 - val_root_mean_squared_error: 0.8860\n",
      "Epoch 10/25\n",
      "179/179 [==============================] - 37s 208ms/step - loss: 1.0686 - root_mean_squared_error: 1.0336 - val_loss: 0.7728 - val_root_mean_squared_error: 0.8791\n",
      "Epoch 11/25\n",
      "179/179 [==============================] - 37s 208ms/step - loss: 1.0631 - root_mean_squared_error: 1.0310 - val_loss: 0.7572 - val_root_mean_squared_error: 0.8702\n",
      "Epoch 12/25\n",
      "179/179 [==============================] - 37s 207ms/step - loss: 1.0695 - root_mean_squared_error: 1.0340 - val_loss: 0.7820 - val_root_mean_squared_error: 0.8843\n",
      "Epoch 13/25\n",
      "179/179 [==============================] - 37s 207ms/step - loss: 1.0757 - root_mean_squared_error: 1.0368 - val_loss: 0.7553 - val_root_mean_squared_error: 0.8691\n",
      "Epoch 14/25\n",
      "179/179 [==============================] - 37s 207ms/step - loss: 1.0000 - root_mean_squared_error: 0.9999 - val_loss: 0.7722 - val_root_mean_squared_error: 0.8788\n",
      "Epoch 15/25\n",
      "179/179 [==============================] - 37s 208ms/step - loss: 0.9782 - root_mean_squared_error: 0.9888 - val_loss: 0.7632 - val_root_mean_squared_error: 0.8736\n",
      "Epoch 16/25\n",
      "179/179 [==============================] - 37s 207ms/step - loss: 0.9388 - root_mean_squared_error: 0.9688 - val_loss: 0.7991 - val_root_mean_squared_error: 0.8939\n",
      "Epoch 17/25\n",
      "179/179 [==============================] - 37s 208ms/step - loss: 0.9558 - root_mean_squared_error: 0.9776 - val_loss: 0.7581 - val_root_mean_squared_error: 0.8707\n",
      "Epoch 18/25\n",
      "179/179 [==============================] - 37s 207ms/step - loss: 0.9524 - root_mean_squared_error: 0.9759 - val_loss: 0.7997 - val_root_mean_squared_error: 0.8942\n",
      "Epoch 19/25\n",
      "179/179 [==============================] - 37s 208ms/step - loss: 0.9235 - root_mean_squared_error: 0.9607 - val_loss: 0.7406 - val_root_mean_squared_error: 0.8606\n",
      "Epoch 23/25\n",
      "179/179 [==============================] - 37s 207ms/step - loss: 0.9160 - root_mean_squared_error: 0.9568 - val_loss: 0.7495 - val_root_mean_squared_error: 0.8657\n",
      "Epoch 24/25\n",
      "179/179 [==============================] - 37s 207ms/step - loss: 0.9074 - root_mean_squared_error: 0.9525 - val_loss: 0.7694 - val_root_mean_squared_error: 0.8771\n",
      "Epoch 25/25\n",
      "179/179 [==============================] - 37s 207ms/step - loss: 0.9059 - root_mean_squared_error: 0.9517 - val_loss: 0.7190 - val_root_mean_squared_error: 0.8480\n"
     ]
    }
   ],
   "source": [
    "history = model_regression.fit(\n",
    "    train_data,\n",
    "    validation_data=valid_data,\n",
    "    epochs=epochs,\n",
    "    use_multiprocessing=True,\n",
    "    workers=-1,\n",
    "    callbacks = [time_callback]\n",
    ")"
   ]
  },
  {
   "cell_type": "code",
   "execution_count": 25,
   "id": "c53b2436",
   "metadata": {},
   "outputs": [],
   "source": [
    "hist_df = pd.DataFrame(history.history) \n",
    "hist_csv_file = 'custom-bert-history-06.csv'\n",
    "with open(hist_csv_file, mode='w') as f:\n",
    "    hist_df.to_csv(f)"
   ]
  },
  {
   "cell_type": "code",
   "execution_count": 26,
   "id": "4d932ff7",
   "metadata": {},
   "outputs": [
    {
     "name": "stdout",
     "output_type": "stream",
     "text": [
      "[47.49267792701721, 36.70102834701538, 36.97183918952942, 37.11257195472717, 37.2660915851593, 37.15429329872131, 37.14136052131653, 37.12113547325134, 37.211063623428345, 37.171062707901, 37.17039632797241, 37.10553789138794, 37.087570667266846, 37.06611490249634, 37.19817233085632, 37.102290868759155, 37.12866020202637, 37.11127185821533, 37.08867526054382, 37.06939697265625, 37.15995669364929, 37.1370153427124, 37.11208510398865, 37.08213233947754, 37.06971859931946]\n"
     ]
    }
   ],
   "source": [
    "print(time_callback.times)"
   ]
  },
  {
   "cell_type": "code",
   "execution_count": 27,
   "id": "e9810949",
   "metadata": {},
   "outputs": [],
   "source": [
    "hist_time_df = pd.DataFrame(time_callback.times) \n",
    "hist_csv_file = 'custom-bert-time-06.csv'\n",
    "with open(hist_csv_file, mode='w') as f:\n",
    "    hist_time_df.to_csv(f)"
   ]
  },
  {
   "cell_type": "code",
   "execution_count": 28,
   "id": "3d2c6ef9",
   "metadata": {},
   "outputs": [],
   "source": [
    "model_regression.save_weights('./custom-bert-06.h5')"
   ]
  },
  {
   "cell_type": "markdown",
   "id": "baa618eb",
   "metadata": {},
   "source": [
    "# Fine-tuning"
   ]
  },
  {
   "cell_type": "code",
   "execution_count": 29,
   "id": "3cdacd55",
   "metadata": {},
   "outputs": [
    {
     "name": "stdout",
     "output_type": "stream",
     "text": [
      "Model: \"model_1\"\n",
      "__________________________________________________________________________________________________\n",
      "Layer (type)                    Output Shape         Param #     Connected to                     \n",
      "==================================================================================================\n",
      "input_ids (InputLayer)          [(None, 128)]        0                                            \n",
      "__________________________________________________________________________________________________\n",
      "attention_masks (InputLayer)    [(None, 128)]        0                                            \n",
      "__________________________________________________________________________________________________\n",
      "token_type_ids (InputLayer)     [(None, 128)]        0                                            \n",
      "__________________________________________________________________________________________________\n",
      "tf_bert_model (TFBertModel)     TFBaseModelOutputWit 109482240   input_ids[0][0]                  \n",
      "                                                                 attention_masks[0][0]            \n",
      "                                                                 token_type_ids[0][0]             \n",
      "__________________________________________________________________________________________________\n",
      "global_average_pooling1d (Globa (None, 768)          0           tf_bert_model[0][0]              \n",
      "__________________________________________________________________________________________________\n",
      "dense_2 (Dense)                 (None, 32)           24608       global_average_pooling1d[0][0]   \n",
      "__________________________________________________________________________________________________\n",
      "dropout_38 (Dropout)            (None, 32)           0           dense_2[0][0]                    \n",
      "__________________________________________________________________________________________________\n",
      "dense_3 (Dense)                 (None, 1)            33          dropout_38[0][0]                 \n",
      "==================================================================================================\n",
      "Total params: 109,506,881\n",
      "Trainable params: 109,506,881\n",
      "Non-trainable params: 0\n",
      "__________________________________________________________________________________________________\n"
     ]
    }
   ],
   "source": [
    "with strategy.scope():\n",
    "    # Unfreeze the bert_model.\n",
    "    bert_model.trainable = True\n",
    "    # Recompile the model to make the change effective.\n",
    "    model_regression.compile(\n",
    "        optimizer=tf.keras.optimizers.Adam(1e-5),\n",
    "        loss=\"mse\",\n",
    "        metrics=[\n",
    "            tf.keras.metrics.RootMeanSquaredError()\n",
    "        ],\n",
    "    )\n",
    "\n",
    "model_regression.summary()"
   ]
  },
  {
   "cell_type": "code",
   "execution_count": 30,
   "id": "22a3183b",
   "metadata": {},
   "outputs": [],
   "source": [
    "time_callback = TimeHistory()"
   ]
  },
  {
   "cell_type": "code",
   "execution_count": 31,
   "id": "bbfadae7",
   "metadata": {},
   "outputs": [
    {
     "name": "stdout",
     "output_type": "stream",
     "text": [
      "Epoch 1/25\n",
      "WARNING:tensorflow:The parameters `output_attentions`, `output_hidden_states` and `use_cache` cannot be updated when calling a model.They have to be set to True/False in the config object (i.e.: `config=XConfig.from_pretrained('name', output_attentions=True)`).\n",
      "WARNING:tensorflow:The parameter `return_dict` cannot be set in graph mode and will always be set to `True`.\n",
      "WARNING:tensorflow:Gradients do not exist for variables ['tf_bert_model/bert/pooler/dense/kernel:0', 'tf_bert_model/bert/pooler/dense/bias:0'] when minimizing the loss.\n",
      "WARNING:tensorflow:The parameters `output_attentions`, `output_hidden_states` and `use_cache` cannot be updated when calling a model.They have to be set to True/False in the config object (i.e.: `config=XConfig.from_pretrained('name', output_attentions=True)`).\n",
      "WARNING:tensorflow:The parameter `return_dict` cannot be set in graph mode and will always be set to `True`.\n",
      "WARNING:tensorflow:Gradients do not exist for variables ['tf_bert_model/bert/pooler/dense/kernel:0', 'tf_bert_model/bert/pooler/dense/bias:0'] when minimizing the loss.\n",
      "179/179 [==============================] - ETA: 0s - loss: 0.8724 - root_mean_squared_error: 0.9338WARNING:tensorflow:The parameters `output_attentions`, `output_hidden_states` and `use_cache` cannot be updated when calling a model.They have to be set to True/False in the config object (i.e.: `config=XConfig.from_pretrained('name', output_attentions=True)`).\n",
      "WARNING:tensorflow:The parameter `return_dict` cannot be set in graph mode and will always be set to `True`.\n",
      "179/179 [==============================] - 99s 492ms/step - loss: 0.8723 - root_mean_squared_error: 0.9337 - val_loss: 0.6223 - val_root_mean_squared_error: 0.7889\n",
      "Epoch 2/25\n",
      "179/179 [==============================] - 86s 480ms/step - loss: 0.6898 - root_mean_squared_error: 0.8305 - val_loss: 0.6142 - val_root_mean_squared_error: 0.7837\n",
      "Epoch 3/25\n",
      "179/179 [==============================] - 86s 481ms/step - loss: 0.5778 - root_mean_squared_error: 0.7601 - val_loss: 0.6044 - val_root_mean_squared_error: 0.7774\n",
      "Epoch 4/25\n",
      "179/179 [==============================] - 86s 481ms/step - loss: 0.5272 - root_mean_squared_error: 0.7260 - val_loss: 0.5644 - val_root_mean_squared_error: 0.7513\n",
      "Epoch 5/25\n",
      "179/179 [==============================] - 86s 481ms/step - loss: 0.4974 - root_mean_squared_error: 0.7050 - val_loss: 0.5371 - val_root_mean_squared_error: 0.7329\n",
      "Epoch 6/25\n",
      "179/179 [==============================] - 86s 481ms/step - loss: 0.4602 - root_mean_squared_error: 0.6784 - val_loss: 0.5585 - val_root_mean_squared_error: 0.7473\n",
      "Epoch 7/25\n",
      "179/179 [==============================] - 86s 480ms/step - loss: 0.4441 - root_mean_squared_error: 0.6663 - val_loss: 0.5591 - val_root_mean_squared_error: 0.7477\n",
      "Epoch 8/25\n",
      "179/179 [==============================] - 86s 480ms/step - loss: 0.4416 - root_mean_squared_error: 0.6643 - val_loss: 0.5576 - val_root_mean_squared_error: 0.7467\n",
      "Epoch 9/25\n",
      "179/179 [==============================] - 86s 479ms/step - loss: 0.4386 - root_mean_squared_error: 0.6619 - val_loss: 0.5439 - val_root_mean_squared_error: 0.7375\n",
      "Epoch 10/25\n",
      "179/179 [==============================] - 86s 479ms/step - loss: 0.4028 - root_mean_squared_error: 0.6346 - val_loss: 0.5573 - val_root_mean_squared_error: 0.7465\n",
      "Epoch 11/25\n",
      "179/179 [==============================] - 86s 479ms/step - loss: 0.3931 - root_mean_squared_error: 0.6270 - val_loss: 0.5710 - val_root_mean_squared_error: 0.7556\n",
      "Epoch 12/25\n",
      "179/179 [==============================] - 86s 479ms/step - loss: 0.4051 - root_mean_squared_error: 0.6364 - val_loss: 0.5422 - val_root_mean_squared_error: 0.7364\n",
      "Epoch 13/25\n",
      "179/179 [==============================] - 86s 479ms/step - loss: 0.3839 - root_mean_squared_error: 0.6194 - val_loss: 0.5361 - val_root_mean_squared_error: 0.7322\n",
      "Epoch 14/25\n",
      "179/179 [==============================] - 86s 479ms/step - loss: 0.3980 - root_mean_squared_error: 0.6308 - val_loss: 0.5462 - val_root_mean_squared_error: 0.7390\n",
      "Epoch 15/25\n",
      "179/179 [==============================] - 86s 480ms/step - loss: 0.3675 - root_mean_squared_error: 0.6060 - val_loss: 0.5636 - val_root_mean_squared_error: 0.7508\n",
      "Epoch 16/25\n",
      "179/179 [==============================] - 86s 479ms/step - loss: 0.3751 - root_mean_squared_error: 0.6122 - val_loss: 0.5627 - val_root_mean_squared_error: 0.7501\n",
      "Epoch 17/25\n",
      "179/179 [==============================] - 86s 480ms/step - loss: 0.3857 - root_mean_squared_error: 0.6209 - val_loss: 0.5614 - val_root_mean_squared_error: 0.7493\n",
      "Epoch 18/25\n",
      "179/179 [==============================] - 86s 480ms/step - loss: 0.3841 - root_mean_squared_error: 0.6195 - val_loss: 0.5751 - val_root_mean_squared_error: 0.7584\n",
      "Epoch 19/25\n",
      "179/179 [==============================] - 86s 480ms/step - loss: 0.3797 - root_mean_squared_error: 0.6158 - val_loss: 0.5696 - val_root_mean_squared_error: 0.7547\n",
      "Epoch 20/25\n",
      "179/179 [==============================] - 86s 479ms/step - loss: 0.3848 - root_mean_squared_error: 0.6203 - val_loss: 0.5550 - val_root_mean_squared_error: 0.7450\n",
      "Epoch 21/25\n",
      "179/179 [==============================] - 86s 480ms/step - loss: 0.3701 - root_mean_squared_error: 0.6083 - val_loss: 0.5463 - val_root_mean_squared_error: 0.7391\n",
      "Epoch 22/25\n",
      "179/179 [==============================] - 86s 480ms/step - loss: 0.3693 - root_mean_squared_error: 0.6074 - val_loss: 0.5634 - val_root_mean_squared_error: 0.7506\n",
      "Epoch 23/25\n",
      "179/179 [==============================] - 86s 479ms/step - loss: 0.3601 - root_mean_squared_error: 0.6000 - val_loss: 0.5617 - val_root_mean_squared_error: 0.7495\n",
      "Epoch 24/25\n",
      "179/179 [==============================] - 86s 480ms/step - loss: 0.3689 - root_mean_squared_error: 0.6073 - val_loss: 0.5861 - val_root_mean_squared_error: 0.7655\n",
      "Epoch 25/25\n",
      "179/179 [==============================] - 86s 479ms/step - loss: 0.3744 - root_mean_squared_error: 0.6117 - val_loss: 0.5239 - val_root_mean_squared_error: 0.7238\n"
     ]
    }
   ],
   "source": [
    "history = model_regression.fit(\n",
    "    train_data,\n",
    "    validation_data=valid_data,\n",
    "    epochs=epochs,\n",
    "    use_multiprocessing=True,\n",
    "    workers=-1,\n",
    "    callbacks = [time_callback]\n",
    ")"
   ]
  },
  {
   "cell_type": "code",
   "execution_count": 32,
   "id": "192feb64",
   "metadata": {},
   "outputs": [],
   "source": [
    "hist_df = pd.DataFrame(history.history) \n",
    "hist_csv_file = 'custom-bert-fine-tuned-history-06.csv'\n",
    "with open(hist_csv_file, mode='w') as f:\n",
    "    hist_df.to_csv(f)"
   ]
  },
  {
   "cell_type": "code",
   "execution_count": 33,
   "id": "32ec24b7",
   "metadata": {},
   "outputs": [],
   "source": [
    "hist_time_df = pd.DataFrame(time_callback.times) \n",
    "hist_csv_file = 'custom-bert-fine-tuned-time-06.csv'\n",
    "with open(hist_csv_file, mode='w') as f:\n",
    "    hist_time_df.to_csv(f)"
   ]
  },
  {
   "cell_type": "code",
   "execution_count": 34,
   "id": "eb824e23",
   "metadata": {},
   "outputs": [],
   "source": [
    "model_regression.save_weights('./custom-bert-fine-tuned-06.h5')"
   ]
  },
  {
   "cell_type": "markdown",
   "id": "searching-indication",
   "metadata": {},
   "source": [
    "# Evaluation"
   ]
  },
  {
   "cell_type": "code",
   "execution_count": 35,
   "id": "million-brick",
   "metadata": {},
   "outputs": [
    {
     "name": "stdout",
     "output_type": "stream",
     "text": [
      "43/43 [==============================] - 7s 152ms/step - loss: 0.6748 - root_mean_squared_error: 0.8215\n"
     ]
    },
    {
     "data": {
      "text/plain": [
       "[0.6748412847518921, 0.8214872479438782]"
      ]
     },
     "execution_count": 35,
     "metadata": {},
     "output_type": "execute_result"
    }
   ],
   "source": [
    "model_regression.evaluate(test_data, verbose=1)"
   ]
  },
  {
   "cell_type": "markdown",
   "id": "married-chicago",
   "metadata": {},
   "source": [
    "# Testing"
   ]
  },
  {
   "cell_type": "code",
   "execution_count": 36,
   "id": "significant-halifax",
   "metadata": {},
   "outputs": [],
   "source": [
    "def check_similarity(sentence1, sentence2):\n",
    "    sentence_pairs = np.array([[str(sentence1), str(sentence2)]])\n",
    "    data = BertSemanticDataGenerator(\n",
    "        sentence_pairs, scores=None, batch_size=1, shuffle=False, include_targets=False,\n",
    "    )\n",
    "\n",
    "    score = model_regression.predict(data)[0]\n",
    "    return score"
   ]
  },
  {
   "cell_type": "code",
   "execution_count": 37,
   "id": "bulgarian-boutique",
   "metadata": {},
   "outputs": [
    {
     "name": "stdout",
     "output_type": "stream",
     "text": [
      "WARNING:tensorflow:The parameters `output_attentions`, `output_hidden_states` and `use_cache` cannot be updated when calling a model.They have to be set to True/False in the config object (i.e.: `config=XConfig.from_pretrained('name', output_attentions=True)`).\n",
      "WARNING:tensorflow:The parameter `return_dict` cannot be set in graph mode and will always be set to `True`.\n"
     ]
    },
    {
     "data": {
      "text/plain": [
       "array([2.5003712], dtype=float32)"
      ]
     },
     "execution_count": 37,
     "metadata": {},
     "output_type": "execute_result"
    }
   ],
   "source": [
    "sentence1 = 'A distributed system is a system from multiple computers which communicate with each other via network'\n",
    "sentence2 = 'A distributed system is a system from one computer without network'\n",
    "check_similarity(sentence1, sentence2)"
   ]
  },
  {
   "cell_type": "code",
   "execution_count": 38,
   "id": "timely-complex",
   "metadata": {},
   "outputs": [
    {
     "data": {
      "text/plain": [
       "array([2.3510723], dtype=float32)"
      ]
     },
     "execution_count": 38,
     "metadata": {},
     "output_type": "execute_result"
    }
   ],
   "source": [
    "sentence1 = 'asdsd'\n",
    "sentence2 = 'asdsad are good sdsdsdsds'\n",
    "check_similarity(sentence1, sentence2)"
   ]
  },
  {
   "cell_type": "code",
   "execution_count": 39,
   "id": "acquired-carnival",
   "metadata": {},
   "outputs": [
    {
     "data": {
      "text/plain": [
       "array([1.5474429], dtype=float32)"
      ]
     },
     "execution_count": 39,
     "metadata": {},
     "output_type": "execute_result"
    }
   ],
   "source": [
    "sentence1 = 'the activity of learning or being trained'\n",
    "sentence2 = 'the gradual process of acquiring knowledge.'\n",
    "check_similarity(sentence1, sentence2)"
   ]
  },
  {
   "cell_type": "code",
   "execution_count": null,
   "id": "f4636b06",
   "metadata": {},
   "outputs": [],
   "source": []
  }
 ],
 "metadata": {
  "kernelspec": {
   "display_name": "Python 3",
   "language": "python",
   "name": "python3"
  },
  "language_info": {
   "codemirror_mode": {
    "name": "ipython",
    "version": 3
   },
   "file_extension": ".py",
   "mimetype": "text/x-python",
   "name": "python",
   "nbconvert_exporter": "python",
   "pygments_lexer": "ipython3",
   "version": "3.8.6"
  }
 },
 "nbformat": 4,
 "nbformat_minor": 5
}
